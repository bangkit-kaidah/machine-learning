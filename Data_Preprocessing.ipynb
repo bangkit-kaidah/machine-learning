{
  "nbformat": 4,
  "nbformat_minor": 0,
  "metadata": {
    "colab": {
      "name": "Data Preprocessing",
      "provenance": [],
      "collapsed_sections": [],
      "authorship_tag": "ABX9TyOTclXw/DDFxGxrp/DxwVV3",
      "include_colab_link": true
    },
    "kernelspec": {
      "name": "python3",
      "display_name": "Python 3"
    },
    "language_info": {
      "name": "python"
    }
  },
  "cells": [
    {
      "cell_type": "markdown",
      "metadata": {
        "id": "view-in-github",
        "colab_type": "text"
      },
      "source": [
        "<a href=\"https://colab.research.google.com/github/novelworm777/bangkit-kaidah-machine-learning/blob/main/Data_Preprocessing.ipynb\" target=\"_parent\"><img src=\"https://colab.research.google.com/assets/colab-badge.svg\" alt=\"Open In Colab\"/></a>"
      ]
    },
    {
      "cell_type": "code",
      "metadata": {
        "colab": {
          "resources": {
            "http://localhost:8080/nbextensions/google.colab/files.js": {
              "data": "Ly8gQ29weXJpZ2h0IDIwMTcgR29vZ2xlIExMQwovLwovLyBMaWNlbnNlZCB1bmRlciB0aGUgQXBhY2hlIExpY2Vuc2UsIFZlcnNpb24gMi4wICh0aGUgIkxpY2Vuc2UiKTsKLy8geW91IG1heSBub3QgdXNlIHRoaXMgZmlsZSBleGNlcHQgaW4gY29tcGxpYW5jZSB3aXRoIHRoZSBMaWNlbnNlLgovLyBZb3UgbWF5IG9idGFpbiBhIGNvcHkgb2YgdGhlIExpY2Vuc2UgYXQKLy8KLy8gICAgICBodHRwOi8vd3d3LmFwYWNoZS5vcmcvbGljZW5zZXMvTElDRU5TRS0yLjAKLy8KLy8gVW5sZXNzIHJlcXVpcmVkIGJ5IGFwcGxpY2FibGUgbGF3IG9yIGFncmVlZCB0byBpbiB3cml0aW5nLCBzb2Z0d2FyZQovLyBkaXN0cmlidXRlZCB1bmRlciB0aGUgTGljZW5zZSBpcyBkaXN0cmlidXRlZCBvbiBhbiAiQVMgSVMiIEJBU0lTLAovLyBXSVRIT1VUIFdBUlJBTlRJRVMgT1IgQ09ORElUSU9OUyBPRiBBTlkgS0lORCwgZWl0aGVyIGV4cHJlc3Mgb3IgaW1wbGllZC4KLy8gU2VlIHRoZSBMaWNlbnNlIGZvciB0aGUgc3BlY2lmaWMgbGFuZ3VhZ2UgZ292ZXJuaW5nIHBlcm1pc3Npb25zIGFuZAovLyBsaW1pdGF0aW9ucyB1bmRlciB0aGUgTGljZW5zZS4KCi8qKgogKiBAZmlsZW92ZXJ2aWV3IEhlbHBlcnMgZm9yIGdvb2dsZS5jb2xhYiBQeXRob24gbW9kdWxlLgogKi8KKGZ1bmN0aW9uKHNjb3BlKSB7CmZ1bmN0aW9uIHNwYW4odGV4dCwgc3R5bGVBdHRyaWJ1dGVzID0ge30pIHsKICBjb25zdCBlbGVtZW50ID0gZG9jdW1lbnQuY3JlYXRlRWxlbWVudCgnc3BhbicpOwogIGVsZW1lbnQudGV4dENvbnRlbnQgPSB0ZXh0OwogIGZvciAoY29uc3Qga2V5IG9mIE9iamVjdC5rZXlzKHN0eWxlQXR0cmlidXRlcykpIHsKICAgIGVsZW1lbnQuc3R5bGVba2V5XSA9IHN0eWxlQXR0cmlidXRlc1trZXldOwogIH0KICByZXR1cm4gZWxlbWVudDsKfQoKLy8gTWF4IG51bWJlciBvZiBieXRlcyB3aGljaCB3aWxsIGJlIHVwbG9hZGVkIGF0IGEgdGltZS4KY29uc3QgTUFYX1BBWUxPQURfU0laRSA9IDEwMCAqIDEwMjQ7CgpmdW5jdGlvbiBfdXBsb2FkRmlsZXMoaW5wdXRJZCwgb3V0cHV0SWQpIHsKICBjb25zdCBzdGVwcyA9IHVwbG9hZEZpbGVzU3RlcChpbnB1dElkLCBvdXRwdXRJZCk7CiAgY29uc3Qgb3V0cHV0RWxlbWVudCA9IGRvY3VtZW50LmdldEVsZW1lbnRCeUlkKG91dHB1dElkKTsKICAvLyBDYWNoZSBzdGVwcyBvbiB0aGUgb3V0cHV0RWxlbWVudCB0byBtYWtlIGl0IGF2YWlsYWJsZSBmb3IgdGhlIG5leHQgY2FsbAogIC8vIHRvIHVwbG9hZEZpbGVzQ29udGludWUgZnJvbSBQeXRob24uCiAgb3V0cHV0RWxlbWVudC5zdGVwcyA9IHN0ZXBzOwoKICByZXR1cm4gX3VwbG9hZEZpbGVzQ29udGludWUob3V0cHV0SWQpOwp9CgovLyBUaGlzIGlzIHJvdWdobHkgYW4gYXN5bmMgZ2VuZXJhdG9yIChub3Qgc3VwcG9ydGVkIGluIHRoZSBicm93c2VyIHlldCksCi8vIHdoZXJlIHRoZXJlIGFyZSBtdWx0aXBsZSBhc3luY2hyb25vdXMgc3RlcHMgYW5kIHRoZSBQeXRob24gc2lkZSBpcyBnb2luZwovLyB0byBwb2xsIGZvciBjb21wbGV0aW9uIG9mIGVhY2ggc3RlcC4KLy8gVGhpcyB1c2VzIGEgUHJvbWlzZSB0byBibG9jayB0aGUgcHl0aG9uIHNpZGUgb24gY29tcGxldGlvbiBvZiBlYWNoIHN0ZXAsCi8vIHRoZW4gcGFzc2VzIHRoZSByZXN1bHQgb2YgdGhlIHByZXZpb3VzIHN0ZXAgYXMgdGhlIGlucHV0IHRvIHRoZSBuZXh0IHN0ZXAuCmZ1bmN0aW9uIF91cGxvYWRGaWxlc0NvbnRpbnVlKG91dHB1dElkKSB7CiAgY29uc3Qgb3V0cHV0RWxlbWVudCA9IGRvY3VtZW50LmdldEVsZW1lbnRCeUlkKG91dHB1dElkKTsKICBjb25zdCBzdGVwcyA9IG91dHB1dEVsZW1lbnQuc3RlcHM7CgogIGNvbnN0IG5leHQgPSBzdGVwcy5uZXh0KG91dHB1dEVsZW1lbnQubGFzdFByb21pc2VWYWx1ZSk7CiAgcmV0dXJuIFByb21pc2UucmVzb2x2ZShuZXh0LnZhbHVlLnByb21pc2UpLnRoZW4oKHZhbHVlKSA9PiB7CiAgICAvLyBDYWNoZSB0aGUgbGFzdCBwcm9taXNlIHZhbHVlIHRvIG1ha2UgaXQgYXZhaWxhYmxlIHRvIHRoZSBuZXh0CiAgICAvLyBzdGVwIG9mIHRoZSBnZW5lcmF0b3IuCiAgICBvdXRwdXRFbGVtZW50Lmxhc3RQcm9taXNlVmFsdWUgPSB2YWx1ZTsKICAgIHJldHVybiBuZXh0LnZhbHVlLnJlc3BvbnNlOwogIH0pOwp9CgovKioKICogR2VuZXJhdG9yIGZ1bmN0aW9uIHdoaWNoIGlzIGNhbGxlZCBiZXR3ZWVuIGVhY2ggYXN5bmMgc3RlcCBvZiB0aGUgdXBsb2FkCiAqIHByb2Nlc3MuCiAqIEBwYXJhbSB7c3RyaW5nfSBpbnB1dElkIEVsZW1lbnQgSUQgb2YgdGhlIGlucHV0IGZpbGUgcGlja2VyIGVsZW1lbnQuCiAqIEBwYXJhbSB7c3RyaW5nfSBvdXRwdXRJZCBFbGVtZW50IElEIG9mIHRoZSBvdXRwdXQgZGlzcGxheS4KICogQHJldHVybiB7IUl0ZXJhYmxlPCFPYmplY3Q+fSBJdGVyYWJsZSBvZiBuZXh0IHN0ZXBzLgogKi8KZnVuY3Rpb24qIHVwbG9hZEZpbGVzU3RlcChpbnB1dElkLCBvdXRwdXRJZCkgewogIGNvbnN0IGlucHV0RWxlbWVudCA9IGRvY3VtZW50LmdldEVsZW1lbnRCeUlkKGlucHV0SWQpOwogIGlucHV0RWxlbWVudC5kaXNhYmxlZCA9IGZhbHNlOwoKICBjb25zdCBvdXRwdXRFbGVtZW50ID0gZG9jdW1lbnQuZ2V0RWxlbWVudEJ5SWQob3V0cHV0SWQpOwogIG91dHB1dEVsZW1lbnQuaW5uZXJIVE1MID0gJyc7CgogIGNvbnN0IHBpY2tlZFByb21pc2UgPSBuZXcgUHJvbWlzZSgocmVzb2x2ZSkgPT4gewogICAgaW5wdXRFbGVtZW50LmFkZEV2ZW50TGlzdGVuZXIoJ2NoYW5nZScsIChlKSA9PiB7CiAgICAgIHJlc29sdmUoZS50YXJnZXQuZmlsZXMpOwogICAgfSk7CiAgfSk7CgogIGNvbnN0IGNhbmNlbCA9IGRvY3VtZW50LmNyZWF0ZUVsZW1lbnQoJ2J1dHRvbicpOwogIGlucHV0RWxlbWVudC5wYXJlbnRFbGVtZW50LmFwcGVuZENoaWxkKGNhbmNlbCk7CiAgY2FuY2VsLnRleHRDb250ZW50ID0gJ0NhbmNlbCB1cGxvYWQnOwogIGNvbnN0IGNhbmNlbFByb21pc2UgPSBuZXcgUHJvbWlzZSgocmVzb2x2ZSkgPT4gewogICAgY2FuY2VsLm9uY2xpY2sgPSAoKSA9PiB7CiAgICAgIHJlc29sdmUobnVsbCk7CiAgICB9OwogIH0pOwoKICAvLyBXYWl0IGZvciB0aGUgdXNlciB0byBwaWNrIHRoZSBmaWxlcy4KICBjb25zdCBmaWxlcyA9IHlpZWxkIHsKICAgIHByb21pc2U6IFByb21pc2UucmFjZShbcGlja2VkUHJvbWlzZSwgY2FuY2VsUHJvbWlzZV0pLAogICAgcmVzcG9uc2U6IHsKICAgICAgYWN0aW9uOiAnc3RhcnRpbmcnLAogICAgfQogIH07CgogIGNhbmNlbC5yZW1vdmUoKTsKCiAgLy8gRGlzYWJsZSB0aGUgaW5wdXQgZWxlbWVudCBzaW5jZSBmdXJ0aGVyIHBpY2tzIGFyZSBub3QgYWxsb3dlZC4KICBpbnB1dEVsZW1lbnQuZGlzYWJsZWQgPSB0cnVlOwoKICBpZiAoIWZpbGVzKSB7CiAgICByZXR1cm4gewogICAgICByZXNwb25zZTogewogICAgICAgIGFjdGlvbjogJ2NvbXBsZXRlJywKICAgICAgfQogICAgfTsKICB9CgogIGZvciAoY29uc3QgZmlsZSBvZiBmaWxlcykgewogICAgY29uc3QgbGkgPSBkb2N1bWVudC5jcmVhdGVFbGVtZW50KCdsaScpOwogICAgbGkuYXBwZW5kKHNwYW4oZmlsZS5uYW1lLCB7Zm9udFdlaWdodDogJ2JvbGQnfSkpOwogICAgbGkuYXBwZW5kKHNwYW4oCiAgICAgICAgYCgke2ZpbGUudHlwZSB8fCAnbi9hJ30pIC0gJHtmaWxlLnNpemV9IGJ5dGVzLCBgICsKICAgICAgICBgbGFzdCBtb2RpZmllZDogJHsKICAgICAgICAgICAgZmlsZS5sYXN0TW9kaWZpZWREYXRlID8gZmlsZS5sYXN0TW9kaWZpZWREYXRlLnRvTG9jYWxlRGF0ZVN0cmluZygpIDoKICAgICAgICAgICAgICAgICAgICAgICAgICAgICAgICAgICAgJ24vYSd9IC0gYCkpOwogICAgY29uc3QgcGVyY2VudCA9IHNwYW4oJzAlIGRvbmUnKTsKICAgIGxpLmFwcGVuZENoaWxkKHBlcmNlbnQpOwoKICAgIG91dHB1dEVsZW1lbnQuYXBwZW5kQ2hpbGQobGkpOwoKICAgIGNvbnN0IGZpbGVEYXRhUHJvbWlzZSA9IG5ldyBQcm9taXNlKChyZXNvbHZlKSA9PiB7CiAgICAgIGNvbnN0IHJlYWRlciA9IG5ldyBGaWxlUmVhZGVyKCk7CiAgICAgIHJlYWRlci5vbmxvYWQgPSAoZSkgPT4gewogICAgICAgIHJlc29sdmUoZS50YXJnZXQucmVzdWx0KTsKICAgICAgfTsKICAgICAgcmVhZGVyLnJlYWRBc0FycmF5QnVmZmVyKGZpbGUpOwogICAgfSk7CiAgICAvLyBXYWl0IGZvciB0aGUgZGF0YSB0byBiZSByZWFkeS4KICAgIGxldCBmaWxlRGF0YSA9IHlpZWxkIHsKICAgICAgcHJvbWlzZTogZmlsZURhdGFQcm9taXNlLAogICAgICByZXNwb25zZTogewogICAgICAgIGFjdGlvbjogJ2NvbnRpbnVlJywKICAgICAgfQogICAgfTsKCiAgICAvLyBVc2UgYSBjaHVua2VkIHNlbmRpbmcgdG8gYXZvaWQgbWVzc2FnZSBzaXplIGxpbWl0cy4gU2VlIGIvNjIxMTU2NjAuCiAgICBsZXQgcG9zaXRpb24gPSAwOwogICAgd2hpbGUgKHBvc2l0aW9uIDwgZmlsZURhdGEuYnl0ZUxlbmd0aCkgewogICAgICBjb25zdCBsZW5ndGggPSBNYXRoLm1pbihmaWxlRGF0YS5ieXRlTGVuZ3RoIC0gcG9zaXRpb24sIE1BWF9QQVlMT0FEX1NJWkUpOwogICAgICBjb25zdCBjaHVuayA9IG5ldyBVaW50OEFycmF5KGZpbGVEYXRhLCBwb3NpdGlvbiwgbGVuZ3RoKTsKICAgICAgcG9zaXRpb24gKz0gbGVuZ3RoOwoKICAgICAgY29uc3QgYmFzZTY0ID0gYnRvYShTdHJpbmcuZnJvbUNoYXJDb2RlLmFwcGx5KG51bGwsIGNodW5rKSk7CiAgICAgIHlpZWxkIHsKICAgICAgICByZXNwb25zZTogewogICAgICAgICAgYWN0aW9uOiAnYXBwZW5kJywKICAgICAgICAgIGZpbGU6IGZpbGUubmFtZSwKICAgICAgICAgIGRhdGE6IGJhc2U2NCwKICAgICAgICB9LAogICAgICB9OwogICAgICBwZXJjZW50LnRleHRDb250ZW50ID0KICAgICAgICAgIGAke01hdGgucm91bmQoKHBvc2l0aW9uIC8gZmlsZURhdGEuYnl0ZUxlbmd0aCkgKiAxMDApfSUgZG9uZWA7CiAgICB9CiAgfQoKICAvLyBBbGwgZG9uZS4KICB5aWVsZCB7CiAgICByZXNwb25zZTogewogICAgICBhY3Rpb246ICdjb21wbGV0ZScsCiAgICB9CiAgfTsKfQoKc2NvcGUuZ29vZ2xlID0gc2NvcGUuZ29vZ2xlIHx8IHt9OwpzY29wZS5nb29nbGUuY29sYWIgPSBzY29wZS5nb29nbGUuY29sYWIgfHwge307CnNjb3BlLmdvb2dsZS5jb2xhYi5fZmlsZXMgPSB7CiAgX3VwbG9hZEZpbGVzLAogIF91cGxvYWRGaWxlc0NvbnRpbnVlLAp9Owp9KShzZWxmKTsK",
              "ok": true,
              "headers": [
                [
                  "content-type",
                  "application/javascript"
                ]
              ],
              "status": 200,
              "status_text": ""
            }
          },
          "base_uri": "https://localhost:8080/",
          "height": 90
        },
        "id": "HdRPwH258IJo",
        "outputId": "9ac3c491-1cef-478b-d05c-36c083a8da8b"
      },
      "source": [
        "# only run this in google colab to upload data\n",
        "from google.colab import files\n",
        "\n",
        "uploaded = files.upload()\n",
        "\n",
        "for fn in uploaded.keys():\n",
        "  print('User uploaded file \"{name}\" with length {length} bytes'.format(\n",
        "      name=fn, length=len(uploaded[fn])))"
      ],
      "execution_count": 1,
      "outputs": [
        {
          "output_type": "display_data",
          "data": {
            "text/html": [
              "\n",
              "     <input type=\"file\" id=\"files-6e3638b0-6945-496a-97c4-c32f0b8d8d04\" name=\"files[]\" multiple disabled\n",
              "        style=\"border:none\" />\n",
              "     <output id=\"result-6e3638b0-6945-496a-97c4-c32f0b8d8d04\">\n",
              "      Upload widget is only available when the cell has been executed in the\n",
              "      current browser session. Please rerun this cell to enable.\n",
              "      </output>\n",
              "      <script src=\"/nbextensions/google.colab/files.js\"></script> "
            ],
            "text/plain": [
              "<IPython.core.display.HTML object>"
            ]
          },
          "metadata": {
            "tags": []
          }
        },
        {
          "output_type": "stream",
          "text": [
            "Saving jdih_kemenkeu_regulations.csv to jdih_kemenkeu_regulations.csv\n",
            "User uploaded file \"jdih_kemenkeu_regulations.csv\" with length 1537224 bytes\n"
          ],
          "name": "stdout"
        }
      ]
    },
    {
      "cell_type": "code",
      "metadata": {
        "colab": {
          "base_uri": "https://localhost:8080/",
          "height": 360
        },
        "id": "OW2rbikPKsml",
        "outputId": "a4f68852-5519-4409-a63b-65d052401d1e"
      },
      "source": [
        "import pandas as pd\n",
        "\n",
        "raw_df = pd.read_csv('jdih_kemenkeu_regulations.csv')\n",
        "print(raw_df.shape)\n",
        "raw_df.head(10)"
      ],
      "execution_count": 68,
      "outputs": [
        {
          "output_type": "stream",
          "text": [
            "(9176, 2)\n"
          ],
          "name": "stdout"
        },
        {
          "output_type": "execute_result",
          "data": {
            "text/html": [
              "<div>\n",
              "<style scoped>\n",
              "    .dataframe tbody tr th:only-of-type {\n",
              "        vertical-align: middle;\n",
              "    }\n",
              "\n",
              "    .dataframe tbody tr th {\n",
              "        vertical-align: top;\n",
              "    }\n",
              "\n",
              "    .dataframe thead th {\n",
              "        text-align: right;\n",
              "    }\n",
              "</style>\n",
              "<table border=\"1\" class=\"dataframe\">\n",
              "  <thead>\n",
              "    <tr style=\"text-align: right;\">\n",
              "      <th></th>\n",
              "      <th>title</th>\n",
              "      <th>label</th>\n",
              "    </tr>\n",
              "  </thead>\n",
              "  <tbody>\n",
              "    <tr>\n",
              "      <th>0</th>\n",
              "      <td>Jenis dan Tarif atas Jenis Penerimaan Negara B...</td>\n",
              "      <td>Jenis Dan Tarif, Penerimaan Negara Bukan Pajak...</td>\n",
              "    </tr>\n",
              "    <tr>\n",
              "      <th>1</th>\n",
              "      <td>Tata Cara Pendaftaran, Pelaporan, dan Pendataa...</td>\n",
              "      <td>Pajak Bumi Dan Bangunan, Pendaftaran Dan Pelap...</td>\n",
              "    </tr>\n",
              "    <tr>\n",
              "      <th>2</th>\n",
              "      <td>Pedoman Standar Pelayanan di Lingkungan Kement...</td>\n",
              "      <td>Pedoman, Standar Pelayanan, Kementerian Keuangan</td>\n",
              "    </tr>\n",
              "    <tr>\n",
              "      <th>3</th>\n",
              "      <td>Account Representative pada Kantor Pelayanan P...</td>\n",
              "      <td>Account Representative, Kantor Pelayanan Pajak</td>\n",
              "    </tr>\n",
              "    <tr>\n",
              "      <th>4</th>\n",
              "      <td>Perubahan Kedua atas Peraturan Menteri Keuanga...</td>\n",
              "      <td>Perubahan Kedua, Program Pen, Pemerintah Daerah</td>\n",
              "    </tr>\n",
              "    <tr>\n",
              "      <th>5</th>\n",
              "      <td>Pemberian Tunjangan Hari Raya dan Gaji Ketiga ...</td>\n",
              "      <td>Tunjangan Hari Raya, Gaji Ketiga Belas, Tahun ...</td>\n",
              "    </tr>\n",
              "    <tr>\n",
              "      <th>6</th>\n",
              "      <td>Petunjuk Teknis Pelaksanaan Pemberian Tunjanga...</td>\n",
              "      <td>Petunjuk Teknis, Tunjangan Hari Raya, Gaji Ket...</td>\n",
              "    </tr>\n",
              "    <tr>\n",
              "      <th>7</th>\n",
              "      <td>Tata Cara Penundaan dan/ atau Pemotongan Dana ...</td>\n",
              "      <td>Dana Desa, Dana Perimbangan, Pemotongan</td>\n",
              "    </tr>\n",
              "    <tr>\n",
              "      <th>8</th>\n",
              "      <td>Perubahan atas Peraturan Menteri Keuangan Nomo...</td>\n",
              "      <td>Perubahan, Program Pen, Tagihan Listrik</td>\n",
              "    </tr>\n",
              "    <tr>\n",
              "      <th>9</th>\n",
              "      <td>Biaya Operasional Penyelenggaraan Pembayaran M...</td>\n",
              "      <td>Biaya Operasional, Pembayaran Manfaat Pensiun,...</td>\n",
              "    </tr>\n",
              "  </tbody>\n",
              "</table>\n",
              "</div>"
            ],
            "text/plain": [
              "                                               title                                              label\n",
              "0  Jenis dan Tarif atas Jenis Penerimaan Negara B...  Jenis Dan Tarif, Penerimaan Negara Bukan Pajak...\n",
              "1  Tata Cara Pendaftaran, Pelaporan, dan Pendataa...  Pajak Bumi Dan Bangunan, Pendaftaran Dan Pelap...\n",
              "2  Pedoman Standar Pelayanan di Lingkungan Kement...   Pedoman, Standar Pelayanan, Kementerian Keuangan\n",
              "3  Account Representative pada Kantor Pelayanan P...     Account Representative, Kantor Pelayanan Pajak\n",
              "4  Perubahan Kedua atas Peraturan Menteri Keuanga...    Perubahan Kedua, Program Pen, Pemerintah Daerah\n",
              "5  Pemberian Tunjangan Hari Raya dan Gaji Ketiga ...  Tunjangan Hari Raya, Gaji Ketiga Belas, Tahun ...\n",
              "6  Petunjuk Teknis Pelaksanaan Pemberian Tunjanga...  Petunjuk Teknis, Tunjangan Hari Raya, Gaji Ket...\n",
              "7  Tata Cara Penundaan dan/ atau Pemotongan Dana ...            Dana Desa, Dana Perimbangan, Pemotongan\n",
              "8  Perubahan atas Peraturan Menteri Keuangan Nomo...            Perubahan, Program Pen, Tagihan Listrik\n",
              "9  Biaya Operasional Penyelenggaraan Pembayaran M...  Biaya Operasional, Pembayaran Manfaat Pensiun,..."
            ]
          },
          "metadata": {
            "tags": []
          },
          "execution_count": 68
        }
      ]
    },
    {
      "cell_type": "code",
      "metadata": {
        "colab": {
          "base_uri": "https://localhost:8080/"
        },
        "id": "xmUi3z2FLUSf",
        "outputId": "c61523d2-cbff-4c49-818a-970105db0866"
      },
      "source": [
        "raw_df.info()"
      ],
      "execution_count": 19,
      "outputs": [
        {
          "output_type": "stream",
          "text": [
            "<class 'pandas.core.frame.DataFrame'>\n",
            "RangeIndex: 9176 entries, 0 to 9175\n",
            "Data columns (total 2 columns):\n",
            " #   Column  Non-Null Count  Dtype \n",
            "---  ------  --------------  ----- \n",
            " 0   title   9170 non-null   object\n",
            " 1   label   9176 non-null   object\n",
            "dtypes: object(2)\n",
            "memory usage: 143.5+ KB\n"
          ],
          "name": "stdout"
        }
      ]
    },
    {
      "cell_type": "code",
      "metadata": {
        "colab": {
          "base_uri": "https://localhost:8080/"
        },
        "id": "-AkcKaUoLuSN",
        "outputId": "ac825890-b22d-46b8-acd0-d56a00a4fd24"
      },
      "source": [
        "# drop null rows\n",
        "dropped_df = raw_df.dropna()\n",
        "dropped_df.info()"
      ],
      "execution_count": 21,
      "outputs": [
        {
          "output_type": "stream",
          "text": [
            "<class 'pandas.core.frame.DataFrame'>\n",
            "Int64Index: 9170 entries, 0 to 9175\n",
            "Data columns (total 2 columns):\n",
            " #   Column  Non-Null Count  Dtype \n",
            "---  ------  --------------  ----- \n",
            " 0   title   9170 non-null   object\n",
            " 1   label   9170 non-null   object\n",
            "dtypes: object(2)\n",
            "memory usage: 214.9+ KB\n"
          ],
          "name": "stdout"
        }
      ]
    },
    {
      "cell_type": "code",
      "metadata": {
        "colab": {
          "base_uri": "https://localhost:8080/",
          "height": 402
        },
        "id": "xlK4aSAUMtV1",
        "outputId": "4af26dbe-8d64-4001-86ac-11efcac377e6"
      },
      "source": [
        "import os\n",
        "\n",
        "def SortLabel(x):\n",
        "    x = x.split(', ')\n",
        "    x.sort()\n",
        "    return ', '.join(x)\n",
        "\n",
        "# sort labels\n",
        "sorted_df['label'] = dropped_df['label'].apply(SortLabel)\n",
        "sorted_df"
      ],
      "execution_count": 66,
      "outputs": [
        {
          "output_type": "execute_result",
          "data": {
            "text/html": [
              "<div>\n",
              "<style scoped>\n",
              "    .dataframe tbody tr th:only-of-type {\n",
              "        vertical-align: middle;\n",
              "    }\n",
              "\n",
              "    .dataframe tbody tr th {\n",
              "        vertical-align: top;\n",
              "    }\n",
              "\n",
              "    .dataframe thead th {\n",
              "        text-align: right;\n",
              "    }\n",
              "</style>\n",
              "<table border=\"1\" class=\"dataframe\">\n",
              "  <thead>\n",
              "    <tr style=\"text-align: right;\">\n",
              "      <th></th>\n",
              "      <th>title</th>\n",
              "      <th>label</th>\n",
              "    </tr>\n",
              "  </thead>\n",
              "  <tbody>\n",
              "    <tr>\n",
              "      <th>9036</th>\n",
              "      <td>Acara Penetapan Ganti Kerugian oleh Pengadilan...</td>\n",
              "      <td>Hak Atas Tanah, Penetapan, Pengadilan Tinggi</td>\n",
              "    </tr>\n",
              "    <tr>\n",
              "      <th>3</th>\n",
              "      <td>Account Representative pada Kantor Pelayanan P...</td>\n",
              "      <td>Account Representative, Kantor Pelayanan Pajak</td>\n",
              "    </tr>\n",
              "    <tr>\n",
              "      <th>1747</th>\n",
              "      <td>Account Representative pada Kantor Pelayanan P...</td>\n",
              "      <td>Account Representative, Kantor Pelayanan Pajak</td>\n",
              "    </tr>\n",
              "    <tr>\n",
              "      <th>1970</th>\n",
              "      <td>Administrasi Pemerintahan.</td>\n",
              "      <td>Administrasi Pemerintahan</td>\n",
              "    </tr>\n",
              "    <tr>\n",
              "      <th>1097</th>\n",
              "      <td>Administrasi Pengelolaan Hibah.</td>\n",
              "      <td>Administrasi, Hibah, Pengelolaan Pembiayaan</td>\n",
              "    </tr>\n",
              "    <tr>\n",
              "      <th>...</th>\n",
              "      <td>...</td>\n",
              "      <td>...</td>\n",
              "    </tr>\n",
              "    <tr>\n",
              "      <th>5496</th>\n",
              "      <td>Wewenang Pengangkatan, Pemindahan, dan Pemberh...</td>\n",
              "      <td>Pegawai Negeri Sipil, Pengangkatan, Wewenang</td>\n",
              "    </tr>\n",
              "    <tr>\n",
              "      <th>8857</th>\n",
              "      <td>Wewenang Penggunaan Consular Fee</td>\n",
              "      <td>Consular Fee, Wewenang</td>\n",
              "    </tr>\n",
              "    <tr>\n",
              "      <th>4342</th>\n",
              "      <td>Wilayah Negara.</td>\n",
              "      <td>Wilayah Negara</td>\n",
              "    </tr>\n",
              "    <tr>\n",
              "      <th>5639</th>\n",
              "      <td>Yayasan.</td>\n",
              "      <td>Yayasan</td>\n",
              "    </tr>\n",
              "    <tr>\n",
              "      <th>3700</th>\n",
              "      <td>Zakat atau Sumbangan Keagamaan yang Sifatnya W...</td>\n",
              "      <td>Penghasilan Bruto, Sumbangan Keagamaan, Wajib</td>\n",
              "    </tr>\n",
              "  </tbody>\n",
              "</table>\n",
              "<p>8798 rows × 2 columns</p>\n",
              "</div>"
            ],
            "text/plain": [
              "                                                  title                                           label\n",
              "9036  Acara Penetapan Ganti Kerugian oleh Pengadilan...    Hak Atas Tanah, Penetapan, Pengadilan Tinggi\n",
              "3     Account Representative pada Kantor Pelayanan P...  Account Representative, Kantor Pelayanan Pajak\n",
              "1747  Account Representative pada Kantor Pelayanan P...  Account Representative, Kantor Pelayanan Pajak\n",
              "1970                         Administrasi Pemerintahan.                       Administrasi Pemerintahan\n",
              "1097                    Administrasi Pengelolaan Hibah.     Administrasi, Hibah, Pengelolaan Pembiayaan\n",
              "...                                                 ...                                             ...\n",
              "5496  Wewenang Pengangkatan, Pemindahan, dan Pemberh...    Pegawai Negeri Sipil, Pengangkatan, Wewenang\n",
              "8857                   Wewenang Penggunaan Consular Fee                          Consular Fee, Wewenang\n",
              "4342                                    Wilayah Negara.                                  Wilayah Negara\n",
              "5639                                           Yayasan.                                         Yayasan\n",
              "3700  Zakat atau Sumbangan Keagamaan yang Sifatnya W...   Penghasilan Bruto, Sumbangan Keagamaan, Wajib\n",
              "\n",
              "[8798 rows x 2 columns]"
            ]
          },
          "metadata": {
            "tags": []
          },
          "execution_count": 66
        }
      ]
    },
    {
      "cell_type": "code",
      "metadata": {
        "colab": {
          "base_uri": "https://localhost:8080/",
          "height": 402
        },
        "id": "78GproO_PFDk",
        "outputId": "4acf3c7a-33b2-423b-ebe6-2d99b27a428e"
      },
      "source": [
        "# drop duplicate rows (title and label)\n",
        "drop_duplicated_df = sorted_df.copy()\n",
        "drop_duplicated_df.drop_duplicates(keep='first', inplace=True)\n",
        "drop_duplicated_df"
      ],
      "execution_count": 69,
      "outputs": [
        {
          "output_type": "execute_result",
          "data": {
            "text/html": [
              "<div>\n",
              "<style scoped>\n",
              "    .dataframe tbody tr th:only-of-type {\n",
              "        vertical-align: middle;\n",
              "    }\n",
              "\n",
              "    .dataframe tbody tr th {\n",
              "        vertical-align: top;\n",
              "    }\n",
              "\n",
              "    .dataframe thead th {\n",
              "        text-align: right;\n",
              "    }\n",
              "</style>\n",
              "<table border=\"1\" class=\"dataframe\">\n",
              "  <thead>\n",
              "    <tr style=\"text-align: right;\">\n",
              "      <th></th>\n",
              "      <th>title</th>\n",
              "      <th>label</th>\n",
              "    </tr>\n",
              "  </thead>\n",
              "  <tbody>\n",
              "    <tr>\n",
              "      <th>9036</th>\n",
              "      <td>Acara Penetapan Ganti Kerugian oleh Pengadilan...</td>\n",
              "      <td>Hak Atas Tanah, Penetapan, Pengadilan Tinggi</td>\n",
              "    </tr>\n",
              "    <tr>\n",
              "      <th>3</th>\n",
              "      <td>Account Representative pada Kantor Pelayanan P...</td>\n",
              "      <td>Account Representative, Kantor Pelayanan Pajak</td>\n",
              "    </tr>\n",
              "    <tr>\n",
              "      <th>1747</th>\n",
              "      <td>Account Representative pada Kantor Pelayanan P...</td>\n",
              "      <td>Account Representative, Kantor Pelayanan Pajak</td>\n",
              "    </tr>\n",
              "    <tr>\n",
              "      <th>1970</th>\n",
              "      <td>Administrasi Pemerintahan.</td>\n",
              "      <td>Administrasi Pemerintahan</td>\n",
              "    </tr>\n",
              "    <tr>\n",
              "      <th>1097</th>\n",
              "      <td>Administrasi Pengelolaan Hibah.</td>\n",
              "      <td>Administrasi, Hibah, Pengelolaan Pembiayaan</td>\n",
              "    </tr>\n",
              "    <tr>\n",
              "      <th>...</th>\n",
              "      <td>...</td>\n",
              "      <td>...</td>\n",
              "    </tr>\n",
              "    <tr>\n",
              "      <th>5496</th>\n",
              "      <td>Wewenang Pengangkatan, Pemindahan, dan Pemberh...</td>\n",
              "      <td>Pegawai Negeri Sipil, Pengangkatan, Wewenang</td>\n",
              "    </tr>\n",
              "    <tr>\n",
              "      <th>8857</th>\n",
              "      <td>Wewenang Penggunaan Consular Fee</td>\n",
              "      <td>Consular Fee, Wewenang</td>\n",
              "    </tr>\n",
              "    <tr>\n",
              "      <th>4342</th>\n",
              "      <td>Wilayah Negara.</td>\n",
              "      <td>Wilayah Negara</td>\n",
              "    </tr>\n",
              "    <tr>\n",
              "      <th>5639</th>\n",
              "      <td>Yayasan.</td>\n",
              "      <td>Yayasan</td>\n",
              "    </tr>\n",
              "    <tr>\n",
              "      <th>3700</th>\n",
              "      <td>Zakat atau Sumbangan Keagamaan yang Sifatnya W...</td>\n",
              "      <td>Penghasilan Bruto, Sumbangan Keagamaan, Wajib</td>\n",
              "    </tr>\n",
              "  </tbody>\n",
              "</table>\n",
              "<p>8798 rows × 2 columns</p>\n",
              "</div>"
            ],
            "text/plain": [
              "                                                  title                                           label\n",
              "9036  Acara Penetapan Ganti Kerugian oleh Pengadilan...    Hak Atas Tanah, Penetapan, Pengadilan Tinggi\n",
              "3     Account Representative pada Kantor Pelayanan P...  Account Representative, Kantor Pelayanan Pajak\n",
              "1747  Account Representative pada Kantor Pelayanan P...  Account Representative, Kantor Pelayanan Pajak\n",
              "1970                         Administrasi Pemerintahan.                       Administrasi Pemerintahan\n",
              "1097                    Administrasi Pengelolaan Hibah.     Administrasi, Hibah, Pengelolaan Pembiayaan\n",
              "...                                                 ...                                             ...\n",
              "5496  Wewenang Pengangkatan, Pemindahan, dan Pemberh...    Pegawai Negeri Sipil, Pengangkatan, Wewenang\n",
              "8857                   Wewenang Penggunaan Consular Fee                          Consular Fee, Wewenang\n",
              "4342                                    Wilayah Negara.                                  Wilayah Negara\n",
              "5639                                           Yayasan.                                         Yayasan\n",
              "3700  Zakat atau Sumbangan Keagamaan yang Sifatnya W...   Penghasilan Bruto, Sumbangan Keagamaan, Wajib\n",
              "\n",
              "[8798 rows x 2 columns]"
            ]
          },
          "metadata": {
            "tags": []
          },
          "execution_count": 69
        }
      ]
    },
    {
      "cell_type": "code",
      "metadata": {
        "colab": {
          "base_uri": "https://localhost:8080/",
          "height": 402
        },
        "id": "0Sk7WbtwXLY-",
        "outputId": "fb0ea12e-62b2-418d-86b3-7eda75f995b8"
      },
      "source": [
        "drop_duplicated_df[drop_duplicated_df.duplicated(['title'], keep='first')]"
      ],
      "execution_count": 72,
      "outputs": [
        {
          "output_type": "execute_result",
          "data": {
            "text/html": [
              "<div>\n",
              "<style scoped>\n",
              "    .dataframe tbody tr th:only-of-type {\n",
              "        vertical-align: middle;\n",
              "    }\n",
              "\n",
              "    .dataframe tbody tr th {\n",
              "        vertical-align: top;\n",
              "    }\n",
              "\n",
              "    .dataframe thead th {\n",
              "        text-align: right;\n",
              "    }\n",
              "</style>\n",
              "<table border=\"1\" class=\"dataframe\">\n",
              "  <thead>\n",
              "    <tr style=\"text-align: right;\">\n",
              "      <th></th>\n",
              "      <th>title</th>\n",
              "      <th>label</th>\n",
              "    </tr>\n",
              "  </thead>\n",
              "  <tbody>\n",
              "    <tr>\n",
              "      <th>3981</th>\n",
              "      <td>Alokasi Kurang Bayar Dana Bagi Hasil Sumber Da...</td>\n",
              "      <td>Alokasi Kurang Bayar, Dana Bagi Hasil, Minyak ...</td>\n",
              "    </tr>\n",
              "    <tr>\n",
              "      <th>3794</th>\n",
              "      <td>Batasan Kegiatan dan Jenis Jasa Kena Pajak yan...</td>\n",
              "      <td>Batasan Kegiatan, Jenis Jasa Kena Pajak, Pajak...</td>\n",
              "    </tr>\n",
              "    <tr>\n",
              "      <th>2911</th>\n",
              "      <td>Batasan dan Tata Cara Pengenaan Pajak Pertamba...</td>\n",
              "      <td>Batasan Dan Tata Cara, Kegiatan Membangun Send...</td>\n",
              "    </tr>\n",
              "    <tr>\n",
              "      <th>1719</th>\n",
              "      <td>Bentuk dan Mekanisme Pendanaan Perguruan Tingg...</td>\n",
              "      <td>Pendanaan, Perguruan Tinggi Negeri Badan Hukum</td>\n",
              "    </tr>\n",
              "    <tr>\n",
              "      <th>1943</th>\n",
              "      <td>Dana Perhitungan Fihak Ketiga.</td>\n",
              "      <td>Dana, Perhitungan, Pihak Ketiga</td>\n",
              "    </tr>\n",
              "    <tr>\n",
              "      <th>...</th>\n",
              "      <td>...</td>\n",
              "      <td>...</td>\n",
              "    </tr>\n",
              "    <tr>\n",
              "      <th>6837</th>\n",
              "      <td>Tempat Penimbunan Berikat.</td>\n",
              "      <td>Penimbunan Berikat, Tempat</td>\n",
              "    </tr>\n",
              "    <tr>\n",
              "      <th>6874</th>\n",
              "      <td>Tidak Dipungut Cukai.</td>\n",
              "      <td>Barang Kena Cukai, Tidak Dipungut</td>\n",
              "    </tr>\n",
              "    <tr>\n",
              "      <th>2746</th>\n",
              "      <td>Transaksi Lindung Nilai dalam Pengelolaan Utan...</td>\n",
              "      <td>Pengelolaan, Transaksi Lindung Nilai, Utang Pe...</td>\n",
              "    </tr>\n",
              "    <tr>\n",
              "      <th>2161</th>\n",
              "      <td>Transaksi Surat Utang Negara Secara Langsung.</td>\n",
              "      <td>Pengelolaan Pembiayaan, Surat Utang Negara, Tr...</td>\n",
              "    </tr>\n",
              "    <tr>\n",
              "      <th>4649</th>\n",
              "      <td>Wajib Pajak Tertentu yang Dikecualikan Dari Pe...</td>\n",
              "      <td>Sanksi Administrasi, Surat Pemberitahuan, Waji...</td>\n",
              "    </tr>\n",
              "  </tbody>\n",
              "</table>\n",
              "<p>182 rows × 2 columns</p>\n",
              "</div>"
            ],
            "text/plain": [
              "                                                  title                                              label\n",
              "3981  Alokasi Kurang Bayar Dana Bagi Hasil Sumber Da...  Alokasi Kurang Bayar, Dana Bagi Hasil, Minyak ...\n",
              "3794  Batasan Kegiatan dan Jenis Jasa Kena Pajak yan...  Batasan Kegiatan, Jenis Jasa Kena Pajak, Pajak...\n",
              "2911  Batasan dan Tata Cara Pengenaan Pajak Pertamba...  Batasan Dan Tata Cara, Kegiatan Membangun Send...\n",
              "1719  Bentuk dan Mekanisme Pendanaan Perguruan Tingg...     Pendanaan, Perguruan Tinggi Negeri Badan Hukum\n",
              "1943                     Dana Perhitungan Fihak Ketiga.                    Dana, Perhitungan, Pihak Ketiga\n",
              "...                                                 ...                                                ...\n",
              "6837                         Tempat Penimbunan Berikat.                         Penimbunan Berikat, Tempat\n",
              "6874                              Tidak Dipungut Cukai.                  Barang Kena Cukai, Tidak Dipungut\n",
              "2746  Transaksi Lindung Nilai dalam Pengelolaan Utan...  Pengelolaan, Transaksi Lindung Nilai, Utang Pe...\n",
              "2161      Transaksi Surat Utang Negara Secara Langsung.  Pengelolaan Pembiayaan, Surat Utang Negara, Tr...\n",
              "4649  Wajib Pajak Tertentu yang Dikecualikan Dari Pe...  Sanksi Administrasi, Surat Pemberitahuan, Waji...\n",
              "\n",
              "[182 rows x 2 columns]"
            ]
          },
          "metadata": {
            "tags": []
          },
          "execution_count": 72
        }
      ]
    },
    {
      "cell_type": "markdown",
      "metadata": {
        "id": "TWGN6_79X1fW"
      },
      "source": [
        "1. drop null\n",
        "2. labels to columns\n",
        "3. labels with less than X data will be 'other'\n",
        "4. sort by column other (ascending) (https://stackoverflow.com/questions/17141558/how-to-sort-a-dataframe-in-python-pandas-by-two-or-more-columns)\n",
        "5. drop duplicated title rows (keep='first') (https://www.geeksforgeeks.org/python-pandas-dataframe-drop_duplicates/)"
      ]
    }
  ]
}