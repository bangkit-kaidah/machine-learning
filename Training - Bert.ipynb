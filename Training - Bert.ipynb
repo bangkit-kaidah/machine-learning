{
 "cells": [
  {
   "cell_type": "code",
   "execution_count": 1,
   "id": "89efcc41",
   "metadata": {},
   "outputs": [],
   "source": [
    "import pandas as pd\n",
    "import numpy as np\n",
    "import tensorflow as tf\n",
    "import tensorflow_hub as hub\n",
    "import tensorflow_text as text\n",
    "import bert\n",
    "import matplotlib.pyplot as plt\n",
    "import os\n",
    "from sklearn.model_selection import train_test_split"
   ]
  },
  {
   "cell_type": "code",
   "execution_count": 2,
   "id": "018880c4",
   "metadata": {},
   "outputs": [
    {
     "data": {
      "text/plain": [
       "'/GPU:0'"
      ]
     },
     "execution_count": 2,
     "metadata": {},
     "output_type": "execute_result"
    }
   ],
   "source": [
    "device = '/GPU:0' if len(tf.config.list_physical_devices('GPU')) > 0 else '/CPU:0'\n",
    "device"
   ]
  },
  {
   "cell_type": "markdown",
   "id": "76643dcf",
   "metadata": {},
   "source": [
    "# Load Data"
   ]
  },
  {
   "cell_type": "code",
   "execution_count": 3,
   "id": "19fe1634",
   "metadata": {},
   "outputs": [
    {
     "name": "stdout",
     "output_type": "stream",
     "text": [
      "Shape: (8795, 55)\n"
     ]
    }
   ],
   "source": [
    "dataset_path = 'data/training_dataset.csv'\n",
    "dataset_df = pd.read_csv(dataset_path)\n",
    "print(\"Shape:\", dataset_df.shape)"
   ]
  },
  {
   "cell_type": "code",
   "execution_count": 4,
   "id": "0078c7f8",
   "metadata": {},
   "outputs": [
    {
     "name": "stdout",
     "output_type": "stream",
     "text": [
      "Number of classes: 54\n"
     ]
    }
   ],
   "source": [
    "text_df = dataset_df['Title']\n",
    "features = dataset_df.columns[1:]\n",
    "label_df = dataset_df[features]\n",
    "num_classes = len(features)\n",
    "print(\"Number of classes:\", num_classes)"
   ]
  },
  {
   "cell_type": "code",
   "execution_count": 5,
   "id": "6deb11b5",
   "metadata": {},
   "outputs": [
    {
     "name": "stdout",
     "output_type": "stream",
     "text": [
      "7036 data for training\n",
      "1759 data for validation\n"
     ]
    }
   ],
   "source": [
    "train_text, val_text, train_label, val_label = train_test_split(text_df, label_df, test_size=0.2, random_state=37)\n",
    "print(train_text.shape[0], \"data for training\")\n",
    "print(val_text.shape[0], \"data for validation\")"
   ]
  },
  {
   "cell_type": "markdown",
   "id": "cfdde76f",
   "metadata": {},
   "source": [
    "# Transform"
   ]
  },
  {
   "cell_type": "markdown",
   "id": "5ef8e34a",
   "metadata": {},
   "source": [
    "## Convert to Bert Input"
   ]
  },
  {
   "cell_type": "code",
   "execution_count": 6,
   "id": "7dd49c91",
   "metadata": {},
   "outputs": [],
   "source": [
    "# create tokenizer instance\n",
    "bert_model = 'https://tfhub.dev/tensorflow/bert_en_uncased_L-12_H-768_A-12/3'\n",
    "bert_layer = hub.KerasLayer(bert_model, trainable=False)\n",
    "BertTokenizer = bert.bert_tokenization.FullTokenizer\n",
    "vocab_file = bert_layer.resolved_object.vocab_file.asset_path.numpy()\n",
    "do_lower_case = bert_layer.resolved_object.do_lower_case.numpy()\n",
    "tokenizer = BertTokenizer(vocab_file, do_lower_case)"
   ]
  },
  {
   "cell_type": "code",
   "execution_count": 7,
   "id": "6db068b4",
   "metadata": {},
   "outputs": [],
   "source": [
    "max_seq_length = 128"
   ]
  },
  {
   "cell_type": "code",
   "execution_count": 8,
   "id": "61e73f04",
   "metadata": {},
   "outputs": [],
   "source": [
    "# See BERT paper: https://arxiv.org/pdf/1810.04805.pdf\n",
    "# And BERT implementation convert_single_example() at https://github.com/google-research/bert/blob/master/run_classifier.py\n",
    "\n",
    "def get_masks(tokens, max_seq_length):\n",
    "    \"\"\"Mask for padding\"\"\"\n",
    "    if len(tokens)>max_seq_length:\n",
    "        raise IndexError(\"Token length more than max seq length!\")\n",
    "    return [1]*len(tokens) + [0] * (max_seq_length - len(tokens))\n",
    "\n",
    "\n",
    "def get_segments(tokens, max_seq_length):\n",
    "    \"\"\"Segments: 0 for the first sequence, 1 for the second\"\"\"\n",
    "    if len(tokens)>max_seq_length:\n",
    "        raise IndexError(\"Token length more than max seq length!\")\n",
    "    segments = []\n",
    "    current_segment_id = 0\n",
    "    for token in tokens:\n",
    "        segments.append(current_segment_id)\n",
    "        if token == \"[SEP]\":\n",
    "            current_segment_id = 1\n",
    "    return segments + [0] * (max_seq_length - len(tokens))\n",
    "\n",
    "\n",
    "def get_ids(tokens, tokenizer, max_seq_length):\n",
    "    \"\"\"Token ids from Tokenizer vocab\"\"\"\n",
    "    token_ids = tokenizer.convert_tokens_to_ids(tokens)\n",
    "    input_ids = token_ids + [0] * (max_seq_length-len(token_ids))\n",
    "    return input_ids"
   ]
  },
  {
   "cell_type": "code",
   "execution_count": 9,
   "id": "706cb30c",
   "metadata": {},
   "outputs": [],
   "source": [
    "def build_bert_input(df):\n",
    "    input_word_ids, input_mask, input_type_ids = [], [], []\n",
    "    for sequence in df:\n",
    "        sequence_tokens = tokenizer.tokenize(sequence)\n",
    "        sequence_tokens = [\"[CLS]\"] + sequence_tokens + [\"[SEP]\"]\n",
    "\n",
    "        sequence_ids = get_ids(sequence_tokens, tokenizer, max_seq_length)\n",
    "        input_word_ids.append(sequence_ids)\n",
    "\n",
    "        sequence_mask = get_masks(sequence_tokens, max_seq_length)\n",
    "        input_mask.append(sequence_mask)\n",
    "\n",
    "        sequence_segments = get_segments(sequence_tokens, max_seq_length)\n",
    "        input_type_ids.append(sequence_segments)\n",
    "\n",
    "    transformed_seq = dict(\n",
    "        input_word_ids= tf.convert_to_tensor(np.asarray(input_word_ids).astype('int32'), dtype=tf.int32),\n",
    "        input_mask= tf.convert_to_tensor(np.asarray(input_mask).astype('int32'), dtype=tf.int32),\n",
    "        input_type_ids= tf.convert_to_tensor(np.asarray(input_type_ids).astype('int32'), dtype=tf.int32)\n",
    "    )\n",
    "    \n",
    "    return transformed_seq"
   ]
  },
  {
   "cell_type": "code",
   "execution_count": 10,
   "id": "51aef3e7",
   "metadata": {},
   "outputs": [],
   "source": [
    "train_seq = build_bert_input(train_text)\n",
    "val_seq = build_bert_input(val_text)"
   ]
  },
  {
   "cell_type": "code",
   "execution_count": 11,
   "id": "3efd1002",
   "metadata": {},
   "outputs": [],
   "source": [
    "train_ds = tf.data.Dataset.from_tensor_slices((train_seq, train_label.values))\n",
    "val_ds = tf.data.Dataset.from_tensor_slices((val_seq, val_label.values))\n",
    "\n",
    "batch_size = 1\n",
    "train_ds = train_ds.shuffle(train_text.shape[0] // 4).batch(batch_size)\n",
    "val_ds = val_ds.shuffle(val_text.shape[0] // 4).batch(batch_size)"
   ]
  },
  {
   "cell_type": "markdown",
   "id": "565f6922",
   "metadata": {},
   "source": [
    "# Model"
   ]
  },
  {
   "cell_type": "markdown",
   "id": "875c1058",
   "metadata": {},
   "source": [
    "## Create Model"
   ]
  },
  {
   "cell_type": "code",
   "execution_count": 12,
   "id": "ce137d5c",
   "metadata": {},
   "outputs": [],
   "source": [
    "def build_classifier_model(num_classes):\n",
    "    inputs = dict(\n",
    "      input_word_ids=tf.keras.layers.Input(shape=(None,), dtype=tf.int32),\n",
    "      input_mask=tf.keras.layers.Input(shape=(None,), dtype=tf.int32),\n",
    "      input_type_ids=tf.keras.layers.Input(shape=(None,), dtype=tf.int32),\n",
    "    )\n",
    "\n",
    "    encoder = hub.KerasLayer('https://tfhub.dev/tensorflow/bert_en_uncased_L-12_H-768_A-12/3', trainable=True, name='bert_embedding')\n",
    "    net = encoder(inputs)['sequence_output']\n",
    "    net = tf.keras.layers.GlobalAveragePooling1D()(net)\n",
    "    net = tf.keras.layers.Dense(num_classes, activation='softmax', name='output')(net)\n",
    "    return tf.keras.Model(inputs, net, name='bert_model')"
   ]
  },
  {
   "cell_type": "code",
   "execution_count": 13,
   "id": "753f16b3",
   "metadata": {},
   "outputs": [
    {
     "name": "stdout",
     "output_type": "stream",
     "text": [
      "Model: \"bert_model\"\n",
      "__________________________________________________________________________________________________\n",
      "Layer (type)                    Output Shape         Param #     Connected to                     \n",
      "==================================================================================================\n",
      "input_2 (InputLayer)            [(None, None)]       0                                            \n",
      "__________________________________________________________________________________________________\n",
      "input_3 (InputLayer)            [(None, None)]       0                                            \n",
      "__________________________________________________________________________________________________\n",
      "input_1 (InputLayer)            [(None, None)]       0                                            \n",
      "__________________________________________________________________________________________________\n",
      "bert_embedding (KerasLayer)     {'default': (None, 7 109482241   input_2[0][0]                    \n",
      "                                                                 input_3[0][0]                    \n",
      "                                                                 input_1[0][0]                    \n",
      "__________________________________________________________________________________________________\n",
      "global_average_pooling1d (Globa (None, 768)          0           bert_embedding[0][14]            \n",
      "__________________________________________________________________________________________________\n",
      "output (Dense)                  (None, 54)           41526       global_average_pooling1d[0][0]   \n",
      "==================================================================================================\n",
      "Total params: 109,523,767\n",
      "Trainable params: 109,523,766\n",
      "Non-trainable params: 1\n",
      "__________________________________________________________________________________________________\n"
     ]
    }
   ],
   "source": [
    "# compile model\n",
    "optimizer = tf.keras.optimizers.Adam(3e-5)\n",
    "metrics = ['accuracy', tf.keras.metrics.AUC(name='auc')]\n",
    "bert_model = build_classifier_model(54)\n",
    "bert_model.compile(optimizer=optimizer, loss='binary_crossentropy', metrics=metrics)\n",
    "bert_model.summary()"
   ]
  },
  {
   "cell_type": "markdown",
   "id": "2873e109",
   "metadata": {},
   "source": [
    "## Training"
   ]
  },
  {
   "cell_type": "code",
   "execution_count": 14,
   "id": "fac5f6f9",
   "metadata": {},
   "outputs": [],
   "source": [
    "# reduce learning rate and save model\n",
    "saved_model_path = 'bert_kaidah_model.h5'\n",
    "callbacks = [tf.keras.callbacks.ReduceLROnPlateau(), \n",
    "             tf.keras.callbacks.ModelCheckpoint(saved_model_path, save_best_only=True)]"
   ]
  },
  {
   "cell_type": "code",
   "execution_count": 15,
   "id": "7e2646cb",
   "metadata": {},
   "outputs": [
    {
     "name": "stdout",
     "output_type": "stream",
     "text": [
      "Epoch 1/10\n",
      "7036/7036 [==============================] - 841s 117ms/step - loss: 0.0373 - accuracy: 0.5456 - auc: 0.9020 - val_loss: 0.0294 - val_accuracy: 0.5986 - val_auc: 0.9637\n",
      "Epoch 2/10\n",
      "7036/7036 [==============================] - 879s 125ms/step - loss: 0.0204 - accuracy: 0.5554 - auc: 0.9432 - val_loss: 0.0200 - val_accuracy: 0.6276 - val_auc: 0.9615\n",
      "Epoch 3/10\n",
      "7036/7036 [==============================] - 882s 125ms/step - loss: 0.0168 - accuracy: 0.5682 - auc: 0.9488 - val_loss: 0.0197 - val_accuracy: 0.5674 - val_auc: 0.9442\n",
      "Epoch 4/10\n",
      "7036/7036 [==============================] - 825s 117ms/step - loss: 0.0144 - accuracy: 0.5782 - auc: 0.9523 - val_loss: 0.0213 - val_accuracy: 0.5696 - val_auc: 0.9254\n",
      "Epoch 5/10\n",
      "7036/7036 [==============================] - 816s 116ms/step - loss: 0.0125 - accuracy: 0.5810 - auc: 0.9539 - val_loss: 0.0202 - val_accuracy: 0.6219 - val_auc: 0.9561\n",
      "Epoch 6/10\n",
      "7036/7036 [==============================] - 813s 115ms/step - loss: 0.0108 - accuracy: 0.5884 - auc: 0.9543 - val_loss: 0.0201 - val_accuracy: 0.6003 - val_auc: 0.9460\n",
      "Epoch 7/10\n",
      "7036/7036 [==============================] - 819s 116ms/step - loss: 0.0103 - accuracy: 0.5934 - auc: 0.9507 - val_loss: 0.0210 - val_accuracy: 0.5742 - val_auc: 0.9321\n",
      "Epoch 8/10\n",
      "7036/7036 [==============================] - 822s 117ms/step - loss: 0.0095 - accuracy: 0.5989 - auc: 0.9536 - val_loss: 0.0205 - val_accuracy: 0.5952 - val_auc: 0.9400\n",
      "Epoch 9/10\n",
      "7036/7036 [==============================] - 837s 119ms/step - loss: 0.0089 - accuracy: 0.5939 - auc: 0.9519 - val_loss: 0.0225 - val_accuracy: 0.5742 - val_auc: 0.9304\n",
      "Epoch 10/10\n",
      "7036/7036 [==============================] - 839s 119ms/step - loss: 0.0081 - accuracy: 0.6023 - auc: 0.9537 - val_loss: 0.0216 - val_accuracy: 0.5787 - val_auc: 0.9271\n"
     ]
    }
   ],
   "source": [
    "num_epoch = 10\n",
    "history = bert_model.fit(train_ds, \n",
    "                         epochs=num_epoch, \n",
    "                         batch_size=batch_size, \n",
    "                         validation_data=val_ds,\n",
    "                         callbacks=callbacks)"
   ]
  },
  {
   "cell_type": "markdown",
   "id": "bb4fdf3d",
   "metadata": {},
   "source": [
    "## Plot Metric"
   ]
  },
  {
   "cell_type": "code",
   "execution_count": 16,
   "id": "e40839bc",
   "metadata": {},
   "outputs": [],
   "source": [
    "directory = 'metric/'\n",
    "if not os.path.exists(directory):\n",
    "    os.mkdir(directory)"
   ]
  },
  {
   "cell_type": "code",
   "execution_count": 18,
   "id": "fdc6b801",
   "metadata": {},
   "outputs": [
    {
     "data": {
      "image/png": "[encoded data removed]",
      "text/plain": [
       "<Figure size 432x288 with 1 Axes>"
      ]
     },
     "metadata": {
      "needs_background": "light"
     },
     "output_type": "display_data"
    },
    {
     "data": {
      "image/png": "[encoded data removed]",
      "text/plain": [
       "<Figure size 432x288 with 1 Axes>"
      ]
     },
     "metadata": {
      "needs_background": "light"
     },
     "output_type": "display_data"
    },
    {
     "data": {
      "image/png": "[encoded data removed]",
      "text/plain": [
       "<Figure size 432x288 with 1 Axes>"
      ]
     },
     "metadata": {
      "needs_background": "light"
     },
     "output_type": "display_data"
    }
   ],
   "source": [
    "def plot_graphs(history, string):\n",
    "    plt.plot(history.history[string])\n",
    "    plt.plot(history.history['val_'+string])\n",
    "    plt.xlabel(\"Epochs\")\n",
    "    plt.ylabel(string)\n",
    "    plt.legend([string, 'val_'+string])\n",
    "    plt.savefig(directory+'bert_'+string+'.png')\n",
    "    plt.show()\n",
    "\n",
    "for metric in bert_model.metrics_names:\n",
    "    plot_graphs(history, metric)"
   ]
  },
  {
   "cell_type": "markdown",
   "id": "7b9a0864",
   "metadata": {},
   "source": [
    "# Save Class"
   ]
  },
  {
   "cell_type": "code",
   "execution_count": null,
   "id": "f4d15ab4",
   "metadata": {},
   "outputs": [],
   "source": [
    "# # add id as new column\n",
    "# class_df.insert(0, 'id', class_df.index+1)\n",
    "# class_df.pop('count')\n",
    "# class_df.pop('weight')\n",
    "# class_df.columns"
   ]
  },
  {
   "cell_type": "code",
   "execution_count": null,
   "id": "7f728f72",
   "metadata": {},
   "outputs": [],
   "source": [
    "# # save to directory\n",
    "# directory = 'data/'\n",
    "# if not os.path.exists(directory):\n",
    "#     os.mkdir(directory)\n",
    "\n",
    "# saved_data_path = os.path.join(directory, 'label.csv')\n",
    "# class_df.to_csv(saved_data_path, index=False)"
   ]
  },
  {
   "cell_type": "markdown",
   "id": "29b92a05",
   "metadata": {},
   "source": [
    "Learning rate -> Coursera Course<br>\n",
    "[Model architecture](https://ieeexplore.ieee.org/abstract/document/8723320)<br>\n",
    "[Layer concatenation](https://keras.io/api/layers/merging_layers/concatenate/)<br>\n",
    "https://stackoverflow.com/questions/38387913/reason-of-having-high-auc-and-low-accuracy-in-a-balanced-dataset"
   ]
  }
 ],
 "metadata": {
  "kernelspec": {
   "display_name": "TensorFlow",
   "language": "python",
   "name": "tf"
  },
  "language_info": {
   "codemirror_mode": {
    "name": "ipython",
    "version": 3
   },
   "file_extension": ".py",
   "mimetype": "text/x-python",
   "name": "python",
   "nbconvert_exporter": "python",
   "pygments_lexer": "ipython3",
   "version": "3.8.8"
  }
 },
 "nbformat": 4,
 "nbformat_minor": 5
}
