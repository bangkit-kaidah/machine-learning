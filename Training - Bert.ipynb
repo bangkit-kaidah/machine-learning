{
 "cells": [
  {
   "cell_type": "code",
   "execution_count": 1,
   "id": "89efcc41",
   "metadata": {},
   "outputs": [],
   "source": [
    "import tensorflow as tf\n",
    "import pandas as pd\n",
    "import bert_tf_hub\n",
    "import os\n",
    "import matplotlib.pyplot as plt\n",
    "from sklearn.model_selection import train_test_split"
   ]
  },
  {
   "cell_type": "code",
   "execution_count": 2,
   "id": "018880c4",
   "metadata": {},
   "outputs": [
    {
     "data": {
      "text/plain": [
       "'/GPU:0'"
      ]
     },
     "execution_count": 2,
     "metadata": {},
     "output_type": "execute_result"
    }
   ],
   "source": [
    "device = '/GPU:0' if len(tf.config.list_physical_devices('GPU')) > 0 else '/CPU:0'\n",
    "device"
   ]
  },
  {
   "cell_type": "markdown",
   "id": "76643dcf",
   "metadata": {},
   "source": [
    "# Load Data"
   ]
  },
  {
   "cell_type": "code",
   "execution_count": 3,
   "id": "19fe1634",
   "metadata": {},
   "outputs": [
    {
     "name": "stdout",
     "output_type": "stream",
     "text": [
      "Shape: (8795, 55)\n"
     ]
    }
   ],
   "source": [
    "dataset_path = 'data/training_dataset.csv'\n",
    "dataset_df = pd.read_csv(dataset_path)\n",
    "print(\"Shape:\", dataset_df.shape)"
   ]
  },
  {
   "cell_type": "code",
   "execution_count": 4,
   "id": "0078c7f8",
   "metadata": {},
   "outputs": [
    {
     "name": "stdout",
     "output_type": "stream",
     "text": [
      "Number of classes: 54\n"
     ]
    }
   ],
   "source": [
    "text_df = dataset_df['Title']\n",
    "features = dataset_df.columns[1:]\n",
    "label_df = dataset_df[features]\n",
    "num_classes = len(features)\n",
    "print(\"Number of classes:\", num_classes)"
   ]
  },
  {
   "cell_type": "code",
   "execution_count": 5,
   "id": "6deb11b5",
   "metadata": {},
   "outputs": [
    {
     "name": "stdout",
     "output_type": "stream",
     "text": [
      "7651 data for training\n",
      "1144 data for validation\n"
     ]
    }
   ],
   "source": [
    "train_text, val_text, train_label, val_label = train_test_split(text_df, label_df, test_size=0.13, random_state=37)\n",
    "print(train_text.shape[0], \"data for training\")\n",
    "print(val_text.shape[0], \"data for validation\")"
   ]
  },
  {
   "cell_type": "markdown",
   "id": "cfdde76f",
   "metadata": {},
   "source": [
    "# Transform"
   ]
  },
  {
   "cell_type": "code",
   "execution_count": 6,
   "id": "7dd49c91",
   "metadata": {},
   "outputs": [],
   "source": [
    "# create tokenizer instance\n",
    "bert_model = 'https://tfhub.dev/tensorflow/small_bert/bert_en_uncased_L-4_H-128_A-2/2'\n",
    "tokenizer = bert_tf_hub.create_tokenizer(bert_model)"
   ]
  },
  {
   "cell_type": "code",
   "execution_count": 7,
   "id": "6db068b4",
   "metadata": {},
   "outputs": [],
   "source": [
    "# convert sequences into bert inputs\n",
    "max_seq_length = 512\n",
    "train_seq = bert_tf_hub.build_inputs(train_text, tokenizer, max_seq_length)\n",
    "val_seq = bert_tf_hub.build_inputs(val_text, tokenizer, max_seq_length)"
   ]
  },
  {
   "cell_type": "code",
   "execution_count": 8,
   "id": "3efd1002",
   "metadata": {},
   "outputs": [],
   "source": [
    "# convert to tf dataset\n",
    "batch_size = 32\n",
    "train_ds = tf.data.Dataset.from_tensor_slices((train_seq, train_label.values))\n",
    "train_ds = train_ds.shuffle(train_text.shape[0] // 4).batch(batch_size)\n",
    "val_ds = tf.data.Dataset.from_tensor_slices((val_seq, val_label.values))\n",
    "val_ds = val_ds.shuffle(val_text.shape[0] // 4).batch(batch_size)"
   ]
  },
  {
   "cell_type": "markdown",
   "id": "565f6922",
   "metadata": {},
   "source": [
    "# Model"
   ]
  },
  {
   "cell_type": "markdown",
   "id": "875c1058",
   "metadata": {},
   "source": [
    "## Create Model"
   ]
  },
  {
   "cell_type": "code",
   "execution_count": 9,
   "id": "ce137d5c",
   "metadata": {},
   "outputs": [],
   "source": [
    "def build_classifier_model(num_classes, bert_model):\n",
    "    inputs = bert_tf_hub.get_model_inputs()\n",
    "    embedding = bert_tf_hub.get_embedding(bert_model)\n",
    "    x = embedding(inputs)['sequence_output']\n",
    "    x = tf.keras.layers.GlobalAveragePooling1D()(x)\n",
    "    outputs = tf.keras.layers.Dense(num_classes, activation='sigmoid', name='output')(x)\n",
    "    return tf.keras.Model(inputs, outputs, name='bert_model')"
   ]
  },
  {
   "cell_type": "code",
   "execution_count": 10,
   "id": "753f16b3",
   "metadata": {},
   "outputs": [
    {
     "name": "stdout",
     "output_type": "stream",
     "text": [
      "Model: \"bert_model\"\n",
      "__________________________________________________________________________________________________\n",
      "Layer (type)                    Output Shape         Param #     Connected to                     \n",
      "==================================================================================================\n",
      "input_2 (InputLayer)            [(None, None)]       0                                            \n",
      "__________________________________________________________________________________________________\n",
      "input_3 (InputLayer)            [(None, None)]       0                                            \n",
      "__________________________________________________________________________________________________\n",
      "input_1 (InputLayer)            [(None, None)]       0                                            \n",
      "__________________________________________________________________________________________________\n",
      "bert_embedding (KerasLayer)     {'default': (None, 1 4782465     input_2[0][0]                    \n",
      "                                                                 input_3[0][0]                    \n",
      "                                                                 input_1[0][0]                    \n",
      "__________________________________________________________________________________________________\n",
      "global_average_pooling1d (Globa (None, 128)          0           bert_embedding[0][6]             \n",
      "__________________________________________________________________________________________________\n",
      "output (Dense)                  (None, 54)           6966        global_average_pooling1d[0][0]   \n",
      "==================================================================================================\n",
      "Total params: 4,789,431\n",
      "Trainable params: 4,789,430\n",
      "Non-trainable params: 1\n",
      "__________________________________________________________________________________________________\n"
     ]
    }
   ],
   "source": [
    "# compile model\n",
    "optimizer = tf.keras.optimizers.Adam(3e-5)\n",
    "metrics = ['accuracy', tf.keras.metrics.AUC(name='auc')]\n",
    "bert_model = build_classifier_model(num_classes, bert_model)\n",
    "bert_model.compile(optimizer=optimizer, loss='binary_crossentropy', metrics=metrics)\n",
    "bert_model.summary()"
   ]
  },
  {
   "cell_type": "markdown",
   "id": "2873e109",
   "metadata": {},
   "source": [
    "## Training"
   ]
  },
  {
   "cell_type": "code",
   "execution_count": 11,
   "id": "fac5f6f9",
   "metadata": {},
   "outputs": [],
   "source": [
    "# reduce learning rate and save model\n",
    "saved_model_path = 'bert_kaidah_model.h5'\n",
    "callbacks = [tf.keras.callbacks.ReduceLROnPlateau(),\n",
    "             tf.keras.callbacks.ModelCheckpoint(saved_model_path, save_best_only=True, monitor='val_accuracy')]"
   ]
  },
  {
   "cell_type": "code",
   "execution_count": 12,
   "id": "7e2646cb",
   "metadata": {
    "scrolled": true
   },
   "outputs": [
    {
     "name": "stdout",
     "output_type": "stream",
     "text": [
      "Epoch 1/100\n",
      "240/240 [==============================] - 46s 166ms/step - loss: 0.2532 - accuracy: 0.4741 - auc: 0.8084 - val_loss: 0.1497 - val_accuracy: 0.4939 - val_auc: 0.8235\n",
      "Epoch 2/100\n",
      "240/240 [==============================] - 42s 174ms/step - loss: 0.1309 - accuracy: 0.5176 - auc: 0.8269 - val_loss: 0.1071 - val_accuracy: 0.4939 - val_auc: 0.8400\n",
      "Epoch 3/100\n",
      "240/240 [==============================] - 41s 169ms/step - loss: 0.0983 - accuracy: 0.5176 - auc: 0.8463 - val_loss: 0.0859 - val_accuracy: 0.4939 - val_auc: 0.8557\n",
      "Epoch 4/100\n",
      "240/240 [==============================] - 40s 167ms/step - loss: 0.0799 - accuracy: 0.5258 - auc: 0.8626 - val_loss: 0.0718 - val_accuracy: 0.5105 - val_auc: 0.8740\n",
      "Epoch 5/100\n",
      "240/240 [==============================] - 40s 166ms/step - loss: 0.0679 - accuracy: 0.5407 - auc: 0.8873 - val_loss: 0.0626 - val_accuracy: 0.5105 - val_auc: 0.9004\n",
      "Epoch 6/100\n",
      "240/240 [==============================] - 40s 167ms/step - loss: 0.0598 - accuracy: 0.5416 - auc: 0.9116 - val_loss: 0.0565 - val_accuracy: 0.5184 - val_auc: 0.9204\n",
      "Epoch 7/100\n",
      "240/240 [==============================] - 40s 167ms/step - loss: 0.0536 - accuracy: 0.5405 - auc: 0.9347 - val_loss: 0.0505 - val_accuracy: 0.5157 - val_auc: 0.9474\n",
      "Epoch 8/100\n",
      "240/240 [==============================] - 40s 167ms/step - loss: 0.0479 - accuracy: 0.5390 - auc: 0.9558 - val_loss: 0.0453 - val_accuracy: 0.5166 - val_auc: 0.9615\n",
      "Epoch 9/100\n",
      "240/240 [==============================] - 41s 172ms/step - loss: 0.0429 - accuracy: 0.5403 - auc: 0.9697 - val_loss: 0.0403 - val_accuracy: 0.5061 - val_auc: 0.9736\n",
      "Epoch 10/100\n",
      "240/240 [==============================] - 41s 169ms/step - loss: 0.0386 - accuracy: 0.5388 - auc: 0.9763 - val_loss: 0.0365 - val_accuracy: 0.5140 - val_auc: 0.9781\n",
      "Epoch 11/100\n",
      "240/240 [==============================] - 40s 166ms/step - loss: 0.0350 - accuracy: 0.5403 - auc: 0.9807 - val_loss: 0.0335 - val_accuracy: 0.5184 - val_auc: 0.9823\n",
      "Epoch 12/100\n",
      "240/240 [==============================] - 40s 167ms/step - loss: 0.0321 - accuracy: 0.5408 - auc: 0.9855 - val_loss: 0.0310 - val_accuracy: 0.5061 - val_auc: 0.9849\n",
      "Epoch 13/100\n",
      "240/240 [==============================] - 41s 169ms/step - loss: 0.0297 - accuracy: 0.5386 - auc: 0.9878 - val_loss: 0.0291 - val_accuracy: 0.5166 - val_auc: 0.9864\n",
      "Epoch 14/100\n",
      "240/240 [==============================] - 41s 170ms/step - loss: 0.0277 - accuracy: 0.5419 - auc: 0.9904 - val_loss: 0.0271 - val_accuracy: 0.5219 - val_auc: 0.9877\n",
      "Epoch 15/100\n",
      "240/240 [==============================] - 42s 175ms/step - loss: 0.0257 - accuracy: 0.5445 - auc: 0.9919 - val_loss: 0.0259 - val_accuracy: 0.5166 - val_auc: 0.9890\n",
      "Epoch 16/100\n",
      "240/240 [==============================] - 40s 168ms/step - loss: 0.0242 - accuracy: 0.5442 - auc: 0.9933 - val_loss: 0.0246 - val_accuracy: 0.5157 - val_auc: 0.9902\n",
      "Epoch 17/100\n",
      "240/240 [==============================] - 40s 168ms/step - loss: 0.0227 - accuracy: 0.5459 - auc: 0.9943 - val_loss: 0.0239 - val_accuracy: 0.5350 - val_auc: 0.9907\n",
      "Epoch 18/100\n",
      "240/240 [==============================] - 40s 168ms/step - loss: 0.0217 - accuracy: 0.5484 - auc: 0.9948 - val_loss: 0.0233 - val_accuracy: 0.5752 - val_auc: 0.9914\n",
      "Epoch 19/100\n",
      "240/240 [==============================] - 41s 170ms/step - loss: 0.0205 - accuracy: 0.5508 - auc: 0.9955 - val_loss: 0.0220 - val_accuracy: 0.5516 - val_auc: 0.9911\n",
      "Epoch 20/100\n",
      "240/240 [==============================] - 41s 169ms/step - loss: 0.0194 - accuracy: 0.5527 - auc: 0.9959 - val_loss: 0.0213 - val_accuracy: 0.5428 - val_auc: 0.9920\n",
      "Epoch 21/100\n",
      "240/240 [==============================] - 41s 169ms/step - loss: 0.0185 - accuracy: 0.5550 - auc: 0.9964 - val_loss: 0.0212 - val_accuracy: 0.5638 - val_auc: 0.9928\n",
      "Epoch 22/100\n",
      "240/240 [==============================] - 41s 169ms/step - loss: 0.0177 - accuracy: 0.5539 - auc: 0.9968 - val_loss: 0.0214 - val_accuracy: 0.5962 - val_auc: 0.9925\n",
      "Epoch 23/100\n",
      "240/240 [==============================] - 40s 166ms/step - loss: 0.0169 - accuracy: 0.5595 - auc: 0.9973 - val_loss: 0.0204 - val_accuracy: 0.5778 - val_auc: 0.9924\n",
      "Epoch 24/100\n",
      "240/240 [==============================] - 40s 166ms/step - loss: 0.0163 - accuracy: 0.5611 - auc: 0.9974 - val_loss: 0.0207 - val_accuracy: 0.5857 - val_auc: 0.9921\n",
      "Epoch 25/100\n",
      "240/240 [==============================] - 40s 166ms/step - loss: 0.0156 - accuracy: 0.5608 - auc: 0.9975 - val_loss: 0.0197 - val_accuracy: 0.5551 - val_auc: 0.9919\n",
      "Epoch 26/100\n",
      "240/240 [==============================] - 40s 166ms/step - loss: 0.0151 - accuracy: 0.5628 - auc: 0.9977 - val_loss: 0.0196 - val_accuracy: 0.5813 - val_auc: 0.9922\n",
      "Epoch 27/100\n",
      "240/240 [==============================] - 40s 166ms/step - loss: 0.0143 - accuracy: 0.5604 - auc: 0.9978 - val_loss: 0.0202 - val_accuracy: 0.6136 - val_auc: 0.9930\n",
      "Epoch 28/100\n",
      "240/240 [==============================] - 40s 166ms/step - loss: 0.0138 - accuracy: 0.5687 - auc: 0.9981 - val_loss: 0.0194 - val_accuracy: 0.5699 - val_auc: 0.9922\n",
      "Epoch 29/100\n",
      "240/240 [==============================] - 40s 167ms/step - loss: 0.0133 - accuracy: 0.5670 - auc: 0.9982 - val_loss: 0.0191 - val_accuracy: 0.5830 - val_auc: 0.9925\n",
      "Epoch 30/100\n",
      "240/240 [==============================] - 40s 167ms/step - loss: 0.0129 - accuracy: 0.5695 - auc: 0.9983 - val_loss: 0.0197 - val_accuracy: 0.6040 - val_auc: 0.9924\n",
      "Epoch 31/100\n",
      "240/240 [==============================] - 40s 167ms/step - loss: 0.0126 - accuracy: 0.5731 - auc: 0.9984 - val_loss: 0.0189 - val_accuracy: 0.5787 - val_auc: 0.9922\n",
      "Epoch 32/100\n",
      "240/240 [==============================] - 40s 167ms/step - loss: 0.0120 - accuracy: 0.5683 - auc: 0.9984 - val_loss: 0.0198 - val_accuracy: 0.6163 - val_auc: 0.9928\n",
      "Epoch 33/100\n",
      "240/240 [==============================] - 41s 169ms/step - loss: 0.0116 - accuracy: 0.5781 - auc: 0.9986 - val_loss: 0.0187 - val_accuracy: 0.5787 - val_auc: 0.9915\n",
      "Epoch 34/100\n",
      "240/240 [==============================] - 40s 167ms/step - loss: 0.0112 - accuracy: 0.5714 - auc: 0.9987 - val_loss: 0.0192 - val_accuracy: 0.5970 - val_auc: 0.9917\n",
      "Epoch 35/100\n",
      "240/240 [==============================] - 40s 167ms/step - loss: 0.0108 - accuracy: 0.5768 - auc: 0.9988 - val_loss: 0.0191 - val_accuracy: 0.5944 - val_auc: 0.9924\n",
      "Epoch 36/100\n",
      "240/240 [==============================] - 40s 168ms/step - loss: 0.0106 - accuracy: 0.5763 - auc: 0.9987 - val_loss: 0.0193 - val_accuracy: 0.5927 - val_auc: 0.9918\n",
      "Epoch 37/100\n",
      "240/240 [==============================] - 41s 169ms/step - loss: 0.0104 - accuracy: 0.5799 - auc: 0.9986 - val_loss: 0.0187 - val_accuracy: 0.5673 - val_auc: 0.9920\n",
      "Epoch 38/100\n",
      "240/240 [==============================] - 40s 167ms/step - loss: 0.0100 - accuracy: 0.5733 - auc: 0.9988 - val_loss: 0.0192 - val_accuracy: 0.6005 - val_auc: 0.9923\n",
      "Epoch 39/100\n",
      "240/240 [==============================] - 41s 170ms/step - loss: 0.0097 - accuracy: 0.5769 - auc: 0.9989 - val_loss: 0.0195 - val_accuracy: 0.6145 - val_auc: 0.9919\n",
      "Epoch 40/100\n",
      "240/240 [==============================] - 40s 168ms/step - loss: 0.0095 - accuracy: 0.5740 - auc: 0.9992 - val_loss: 0.0198 - val_accuracy: 0.6171 - val_auc: 0.9921\n",
      "Epoch 41/100\n",
      "240/240 [==============================] - 41s 169ms/step - loss: 0.0092 - accuracy: 0.5786 - auc: 0.9992 - val_loss: 0.0193 - val_accuracy: 0.5927 - val_auc: 0.9927\n",
      "Epoch 42/100\n",
      "240/240 [==============================] - 41s 169ms/step - loss: 0.0088 - accuracy: 0.5812 - auc: 0.9993 - val_loss: 0.0193 - val_accuracy: 0.5944 - val_auc: 0.9910\n",
      "Epoch 43/100\n",
      "240/240 [==============================] - 40s 167ms/step - loss: 0.0088 - accuracy: 0.5797 - auc: 0.9992 - val_loss: 0.0197 - val_accuracy: 0.5909 - val_auc: 0.9926\n",
      "Epoch 44/100\n",
      "240/240 [==============================] - 40s 167ms/step - loss: 0.0082 - accuracy: 0.5773 - auc: 0.9995 - val_loss: 0.0192 - val_accuracy: 0.5857 - val_auc: 0.9916\n",
      "Epoch 45/100\n",
      "240/240 [==============================] - 40s 167ms/step - loss: 0.0080 - accuracy: 0.5858 - auc: 0.9995 - val_loss: 0.0192 - val_accuracy: 0.5892 - val_auc: 0.9919\n",
      "Epoch 46/100\n",
      "240/240 [==============================] - 40s 167ms/step - loss: 0.0080 - accuracy: 0.5807 - auc: 0.9994 - val_loss: 0.0195 - val_accuracy: 0.5927 - val_auc: 0.9921\n"
     ]
    },
    {
     "name": "stdout",
     "output_type": "stream",
     "text": [
      "Epoch 47/100\n",
      "240/240 [==============================] - 40s 167ms/step - loss: 0.0080 - accuracy: 0.5821 - auc: 0.9996 - val_loss: 0.0194 - val_accuracy: 0.5927 - val_auc: 0.9921\n",
      "Epoch 48/100\n",
      "240/240 [==============================] - 40s 167ms/step - loss: 0.0079 - accuracy: 0.5838 - auc: 0.9996 - val_loss: 0.0194 - val_accuracy: 0.5909 - val_auc: 0.9924\n",
      "Epoch 49/100\n",
      "240/240 [==============================] - 40s 168ms/step - loss: 0.0079 - accuracy: 0.5832 - auc: 0.9995 - val_loss: 0.0193 - val_accuracy: 0.5892 - val_auc: 0.9922\n",
      "Epoch 50/100\n",
      "240/240 [==============================] - 40s 169ms/step - loss: 0.0078 - accuracy: 0.5811 - auc: 0.9994 - val_loss: 0.0194 - val_accuracy: 0.5918 - val_auc: 0.9921\n",
      "Epoch 51/100\n",
      "240/240 [==============================] - 40s 167ms/step - loss: 0.0079 - accuracy: 0.5863 - auc: 0.9995 - val_loss: 0.0194 - val_accuracy: 0.5900 - val_auc: 0.9922\n",
      "Epoch 52/100\n",
      "240/240 [==============================] - 40s 168ms/step - loss: 0.0079 - accuracy: 0.5853 - auc: 0.9995 - val_loss: 0.0194 - val_accuracy: 0.5909 - val_auc: 0.9919\n",
      "Epoch 53/100\n",
      "240/240 [==============================] - 40s 168ms/step - loss: 0.0079 - accuracy: 0.5832 - auc: 0.9993 - val_loss: 0.0195 - val_accuracy: 0.5865 - val_auc: 0.9922\n",
      "Epoch 54/100\n",
      "240/240 [==============================] - 40s 167ms/step - loss: 0.0077 - accuracy: 0.5840 - auc: 0.9995 - val_loss: 0.0194 - val_accuracy: 0.5874 - val_auc: 0.9922\n",
      "Epoch 55/100\n",
      "240/240 [==============================] - 40s 168ms/step - loss: 0.0077 - accuracy: 0.5804 - auc: 0.9995 - val_loss: 0.0194 - val_accuracy: 0.5874 - val_auc: 0.9921\n",
      "Epoch 56/100\n",
      "240/240 [==============================] - 40s 169ms/step - loss: 0.0078 - accuracy: 0.5816 - auc: 0.9995 - val_loss: 0.0194 - val_accuracy: 0.5874 - val_auc: 0.9922\n",
      "Epoch 57/100\n",
      "240/240 [==============================] - 40s 168ms/step - loss: 0.0077 - accuracy: 0.5837 - auc: 0.9995 - val_loss: 0.0194 - val_accuracy: 0.5874 - val_auc: 0.9921\n",
      "Epoch 58/100\n",
      "240/240 [==============================] - 40s 169ms/step - loss: 0.0077 - accuracy: 0.5824 - auc: 0.9996 - val_loss: 0.0194 - val_accuracy: 0.5883 - val_auc: 0.9921\n",
      "Epoch 59/100\n",
      "240/240 [==============================] - 41s 169ms/step - loss: 0.0077 - accuracy: 0.5835 - auc: 0.9996 - val_loss: 0.0194 - val_accuracy: 0.5883 - val_auc: 0.9921\n",
      "Epoch 60/100\n",
      "240/240 [==============================] - 41s 171ms/step - loss: 0.0078 - accuracy: 0.5825 - auc: 0.9996 - val_loss: 0.0194 - val_accuracy: 0.5874 - val_auc: 0.9919\n",
      "Epoch 61/100\n",
      "240/240 [==============================] - 40s 168ms/step - loss: 0.0077 - accuracy: 0.5802 - auc: 0.9996 - val_loss: 0.0194 - val_accuracy: 0.5883 - val_auc: 0.9919\n",
      "Epoch 62/100\n",
      "240/240 [==============================] - 40s 168ms/step - loss: 0.0077 - accuracy: 0.5801 - auc: 0.9995 - val_loss: 0.0194 - val_accuracy: 0.5883 - val_auc: 0.9919\n",
      "Epoch 63/100\n",
      "240/240 [==============================] - 40s 169ms/step - loss: 0.0077 - accuracy: 0.5791 - auc: 0.9995 - val_loss: 0.0194 - val_accuracy: 0.5892 - val_auc: 0.9921\n",
      "Epoch 64/100\n",
      "240/240 [==============================] - 41s 172ms/step - loss: 0.0076 - accuracy: 0.5836 - auc: 0.9996 - val_loss: 0.0194 - val_accuracy: 0.5892 - val_auc: 0.9919\n",
      "Epoch 65/100\n",
      "240/240 [==============================] - 43s 179ms/step - loss: 0.0077 - accuracy: 0.5833 - auc: 0.9995 - val_loss: 0.0194 - val_accuracy: 0.5892 - val_auc: 0.9919\n",
      "Epoch 66/100\n",
      "240/240 [==============================] - 43s 179ms/step - loss: 0.0077 - accuracy: 0.5810 - auc: 0.9995 - val_loss: 0.0194 - val_accuracy: 0.5892 - val_auc: 0.9919\n",
      "Epoch 67/100\n",
      "240/240 [==============================] - 41s 170ms/step - loss: 0.0076 - accuracy: 0.5823 - auc: 0.9996 - val_loss: 0.0194 - val_accuracy: 0.5892 - val_auc: 0.9919\n",
      "Epoch 68/100\n",
      "240/240 [==============================] - 42s 174ms/step - loss: 0.0077 - accuracy: 0.5798 - auc: 0.9994 - val_loss: 0.0194 - val_accuracy: 0.5892 - val_auc: 0.9919\n",
      "Epoch 69/100\n",
      "240/240 [==============================] - 41s 172ms/step - loss: 0.0077 - accuracy: 0.5863 - auc: 0.9995 - val_loss: 0.0194 - val_accuracy: 0.5892 - val_auc: 0.9919\n",
      "Epoch 70/100\n",
      "240/240 [==============================] - 41s 171ms/step - loss: 0.0077 - accuracy: 0.5804 - auc: 0.9994 - val_loss: 0.0194 - val_accuracy: 0.5892 - val_auc: 0.9919\n",
      "Epoch 71/100\n",
      "240/240 [==============================] - 40s 169ms/step - loss: 0.0077 - accuracy: 0.5838 - auc: 0.9996 - val_loss: 0.0194 - val_accuracy: 0.5892 - val_auc: 0.9919\n",
      "Epoch 72/100\n",
      "240/240 [==============================] - 41s 169ms/step - loss: 0.0077 - accuracy: 0.5818 - auc: 0.9995 - val_loss: 0.0194 - val_accuracy: 0.5892 - val_auc: 0.9919\n",
      "Epoch 73/100\n",
      "240/240 [==============================] - 40s 168ms/step - loss: 0.0077 - accuracy: 0.5827 - auc: 0.9995 - val_loss: 0.0194 - val_accuracy: 0.5892 - val_auc: 0.9919\n",
      "Epoch 74/100\n",
      "240/240 [==============================] - 41s 173ms/step - loss: 0.0077 - accuracy: 0.5821 - auc: 0.9994 - val_loss: 0.0194 - val_accuracy: 0.5892 - val_auc: 0.9919\n",
      "Epoch 75/100\n",
      "240/240 [==============================] - 43s 178ms/step - loss: 0.0077 - accuracy: 0.5823 - auc: 0.9994 - val_loss: 0.0194 - val_accuracy: 0.5892 - val_auc: 0.9919\n",
      "Epoch 76/100\n",
      "240/240 [==============================] - 42s 175ms/step - loss: 0.0077 - accuracy: 0.5799 - auc: 0.9995 - val_loss: 0.0194 - val_accuracy: 0.5892 - val_auc: 0.9919\n",
      "Epoch 77/100\n",
      "240/240 [==============================] - 41s 172ms/step - loss: 0.0076 - accuracy: 0.5846 - auc: 0.9994 - val_loss: 0.0194 - val_accuracy: 0.5892 - val_auc: 0.9919\n",
      "Epoch 78/100\n",
      "240/240 [==============================] - 41s 171ms/step - loss: 0.0077 - accuracy: 0.5807 - auc: 0.9995 - val_loss: 0.0194 - val_accuracy: 0.5892 - val_auc: 0.9919\n",
      "Epoch 79/100\n",
      "240/240 [==============================] - 40s 167ms/step - loss: 0.0077 - accuracy: 0.5818 - auc: 0.9996 - val_loss: 0.0194 - val_accuracy: 0.5892 - val_auc: 0.9919\n",
      "Epoch 80/100\n",
      "240/240 [==============================] - 40s 167ms/step - loss: 0.0076 - accuracy: 0.5829 - auc: 0.9996 - val_loss: 0.0194 - val_accuracy: 0.5892 - val_auc: 0.9919\n",
      "Epoch 81/100\n",
      "240/240 [==============================] - 40s 167ms/step - loss: 0.0076 - accuracy: 0.5816 - auc: 0.9995 - val_loss: 0.0194 - val_accuracy: 0.5892 - val_auc: 0.9919\n",
      "Epoch 82/100\n",
      "240/240 [==============================] - 40s 167ms/step - loss: 0.0077 - accuracy: 0.5845 - auc: 0.9995 - val_loss: 0.0194 - val_accuracy: 0.5892 - val_auc: 0.9919\n",
      "Epoch 83/100\n",
      "240/240 [==============================] - 40s 167ms/step - loss: 0.0078 - accuracy: 0.5804 - auc: 0.9995 - val_loss: 0.0194 - val_accuracy: 0.5892 - val_auc: 0.9919\n",
      "Epoch 84/100\n",
      "240/240 [==============================] - 41s 169ms/step - loss: 0.0077 - accuracy: 0.5840 - auc: 0.9995 - val_loss: 0.0194 - val_accuracy: 0.5892 - val_auc: 0.9919\n",
      "Epoch 85/100\n",
      "240/240 [==============================] - 41s 169ms/step - loss: 0.0077 - accuracy: 0.5831 - auc: 0.9995 - val_loss: 0.0194 - val_accuracy: 0.5892 - val_auc: 0.9919\n",
      "Epoch 86/100\n",
      "240/240 [==============================] - 40s 168ms/step - loss: 0.0076 - accuracy: 0.5838 - auc: 0.9995 - val_loss: 0.0194 - val_accuracy: 0.5892 - val_auc: 0.9919\n",
      "Epoch 87/100\n",
      "240/240 [==============================] - 41s 169ms/step - loss: 0.0077 - accuracy: 0.5838 - auc: 0.9995 - val_loss: 0.0194 - val_accuracy: 0.5892 - val_auc: 0.9919\n",
      "Epoch 88/100\n",
      "240/240 [==============================] - 40s 168ms/step - loss: 0.0076 - accuracy: 0.5812 - auc: 0.9995 - val_loss: 0.0194 - val_accuracy: 0.5892 - val_auc: 0.9919\n",
      "Epoch 89/100\n",
      "240/240 [==============================] - 40s 168ms/step - loss: 0.0077 - accuracy: 0.5808 - auc: 0.9994 - val_loss: 0.0194 - val_accuracy: 0.5892 - val_auc: 0.9919\n",
      "Epoch 90/100\n",
      "240/240 [==============================] - 41s 170ms/step - loss: 0.0077 - accuracy: 0.5829 - auc: 0.9995 - val_loss: 0.0194 - val_accuracy: 0.5892 - val_auc: 0.9919\n",
      "Epoch 91/100\n",
      "240/240 [==============================] - 41s 172ms/step - loss: 0.0076 - accuracy: 0.5835 - auc: 0.9994 - val_loss: 0.0194 - val_accuracy: 0.5892 - val_auc: 0.9919\n",
      "Epoch 92/100\n",
      "240/240 [==============================] - 40s 168ms/step - loss: 0.0077 - accuracy: 0.5827 - auc: 0.9995 - val_loss: 0.0194 - val_accuracy: 0.5892 - val_auc: 0.9919\n"
     ]
    },
    {
     "name": "stdout",
     "output_type": "stream",
     "text": [
      "Epoch 93/100\n",
      "240/240 [==============================] - 40s 168ms/step - loss: 0.0077 - accuracy: 0.5791 - auc: 0.9995 - val_loss: 0.0194 - val_accuracy: 0.5892 - val_auc: 0.9919\n",
      "Epoch 94/100\n",
      "240/240 [==============================] - 41s 169ms/step - loss: 0.0076 - accuracy: 0.5810 - auc: 0.9995 - val_loss: 0.0194 - val_accuracy: 0.5892 - val_auc: 0.9919\n",
      "Epoch 95/100\n",
      "240/240 [==============================] - 41s 169ms/step - loss: 0.0076 - accuracy: 0.5844 - auc: 0.9995 - val_loss: 0.0194 - val_accuracy: 0.5892 - val_auc: 0.9919\n",
      "Epoch 96/100\n",
      "240/240 [==============================] - 41s 169ms/step - loss: 0.0077 - accuracy: 0.5840 - auc: 0.9995 - val_loss: 0.0194 - val_accuracy: 0.5892 - val_auc: 0.9919\n",
      "Epoch 97/100\n",
      "240/240 [==============================] - 40s 168ms/step - loss: 0.0077 - accuracy: 0.5836 - auc: 0.9995 - val_loss: 0.0194 - val_accuracy: 0.5892 - val_auc: 0.9919\n",
      "Epoch 98/100\n",
      "240/240 [==============================] - 40s 168ms/step - loss: 0.0076 - accuracy: 0.5815 - auc: 0.9996 - val_loss: 0.0194 - val_accuracy: 0.5892 - val_auc: 0.9919\n",
      "Epoch 99/100\n",
      "240/240 [==============================] - 41s 170ms/step - loss: 0.0076 - accuracy: 0.5819 - auc: 0.9996 - val_loss: 0.0194 - val_accuracy: 0.5892 - val_auc: 0.9919\n",
      "Epoch 100/100\n",
      "240/240 [==============================] - 41s 170ms/step - loss: 0.0077 - accuracy: 0.5833 - auc: 0.9995 - val_loss: 0.0194 - val_accuracy: 0.5892 - val_auc: 0.9919\n"
     ]
    }
   ],
   "source": [
    "num_epoch = 100\n",
    "history = bert_model.fit(train_ds, \n",
    "                         epochs=num_epoch, \n",
    "                         batch_size=batch_size, \n",
    "                         validation_data=val_ds,\n",
    "                         callbacks=callbacks)"
   ]
  },
  {
   "cell_type": "markdown",
   "id": "bb4fdf3d",
   "metadata": {},
   "source": [
    "## Plot Metric"
   ]
  },
  {
   "cell_type": "code",
   "execution_count": 13,
   "id": "e40839bc",
   "metadata": {},
   "outputs": [],
   "source": [
    "directory = 'metric/'\n",
    "if not os.path.exists(directory):\n",
    "    os.mkdir(directory)"
   ]
  },
  {
   "cell_type": "code",
   "execution_count": 14,
   "id": "fdc6b801",
   "metadata": {},
   "outputs": [
    {
     "data": {
      "image/png": "[encoded data removed]",
      "text/plain": [
       "<Figure size 432x288 with 1 Axes>"
      ]
     },
     "metadata": {
      "needs_background": "light"
     },
     "output_type": "display_data"
    },
    {
     "data": {
      "image/png": "[encoded data removed]",
      "text/plain": [
       "<Figure size 432x288 with 1 Axes>"
      ]
     },
     "metadata": {
      "needs_background": "light"
     },
     "output_type": "display_data"
    },
    {
     "data": {
      "image/png": "[encoded data removed]",
      "text/plain": [
       "<Figure size 432x288 with 1 Axes>"
      ]
     },
     "metadata": {
      "needs_background": "light"
     },
     "output_type": "display_data"
    }
   ],
   "source": [
    "def plot_graphs(history, string):\n",
    "    plt.plot(history.history[string])\n",
    "    plt.plot(history.history['val_'+string])\n",
    "    plt.xlabel(\"Epochs\")\n",
    "    plt.ylabel(string)\n",
    "    plt.legend([string, 'val_'+string])\n",
    "    plt.savefig(directory+'bert_'+string+'.png')\n",
    "    plt.show()\n",
    "\n",
    "for metric in bert_model.metrics_names:\n",
    "    plot_graphs(history, metric)"
   ]
  }
 ],
 "metadata": {
  "kernelspec": {
   "display_name": "TensorFlow",
   "language": "python",
   "name": "tf"
  },
  "language_info": {
   "codemirror_mode": {
    "name": "ipython",
    "version": 3
   },
   "file_extension": ".py",
   "mimetype": "text/x-python",
   "name": "python",
   "nbconvert_exporter": "python",
   "pygments_lexer": "ipython3",
   "version": "3.8.8"
  }
 },
 "nbformat": 4,
 "nbformat_minor": 5
}
