{
 "cells": [
  {
   "cell_type": "code",
   "execution_count": 1,
   "id": "89efcc41",
   "metadata": {},
   "outputs": [],
   "source": [
    "import pandas as pd\n",
    "import numpy as np\n",
    "import tensorflow as tf\n",
    "import matplotlib.pyplot as plt\n",
    "import os\n",
    "from transformers import BertTokenizer\n",
    "from tensorflow.keras.preprocessing.sequence import pad_sequences"
   ]
  },
  {
   "cell_type": "code",
   "execution_count": 2,
   "id": "018880c4",
   "metadata": {},
   "outputs": [
    {
     "data": {
      "text/plain": [
       "'/GPU:0'"
      ]
     },
     "execution_count": 2,
     "metadata": {},
     "output_type": "execute_result"
    }
   ],
   "source": [
    "device = '/GPU:0' if len(tf.config.list_physical_devices('GPU')) > 0 else '/CPU:0'\n",
    "device"
   ]
  },
  {
   "cell_type": "markdown",
   "id": "76643dcf",
   "metadata": {},
   "source": [
    "# Load Data"
   ]
  },
  {
   "cell_type": "code",
   "execution_count": 3,
   "id": "19fe1634",
   "metadata": {},
   "outputs": [
    {
     "name": "stdout",
     "output_type": "stream",
     "text": [
      "Shape: (8795, 55)\n"
     ]
    }
   ],
   "source": [
    "training_dataset_path = 'data/training_dataset.csv'\n",
    "training_df = pd.read_csv(training_dataset_path)\n",
    "print(\"Shape:\", training_df.shape)"
   ]
  },
  {
   "cell_type": "code",
   "execution_count": 4,
   "id": "0078c7f8",
   "metadata": {},
   "outputs": [
    {
     "name": "stdout",
     "output_type": "stream",
     "text": [
      "Number of classes: 54\n"
     ]
    }
   ],
   "source": [
    "training_text = training_df['Title']\n",
    "features = training_df.columns[1:]\n",
    "training_labels = training_df[features]\n",
    "num_classes = len(features)\n",
    "print(\"Number of classes:\", num_classes)"
   ]
  },
  {
   "cell_type": "markdown",
   "id": "cfdde76f",
   "metadata": {},
   "source": [
    "# Transform"
   ]
  },
  {
   "cell_type": "markdown",
   "id": "535d2a8a",
   "metadata": {},
   "source": [
    "## Tokenize"
   ]
  },
  {
   "cell_type": "code",
   "execution_count": 5,
   "id": "e0e3bfb5",
   "metadata": {},
   "outputs": [
    {
     "name": "stdout",
     "output_type": "stream",
     "text": [
      "Number of vocabulary: 30521\n"
     ]
    }
   ],
   "source": [
    "# create indobert tokenizer instance\n",
    "tokenizer = BertTokenizer.from_pretrained(\"indobenchmark/indobert-base-p1\")\n",
    "vocab_size = len(tokenizer.vocab.keys())\n",
    "print(\"Number of vocabulary:\", vocab_size)"
   ]
  },
  {
   "cell_type": "code",
   "execution_count": 6,
   "id": "43f2d170",
   "metadata": {},
   "outputs": [
    {
     "name": "stdout",
     "output_type": "stream",
     "text": [
      "Real sentence:\n",
      " tetap wewenang direktur jender anggar imbang uang direktur jender bendahara serta wewenang kepala kantor instansi vertik direktorat jender bendahara rangka laksana anggar dapat belanja negara tahun anggar\n",
      "Tokenized sentence:\n",
      " [2, 830, 8517, 4726, 4796, 22931, 30359, 11907, 988, 4726, 4796, 14272, 501, 8517, 1179, 1571, 5288, 8858, 39, 9170, 4796, 14272, 3489, 18303, 22931, 30359, 173, 3866, 664, 262, 22931, 30359, 3]\n"
     ]
    }
   ],
   "source": [
    "# tokenize the title\n",
    "training_sequences = training_text.apply(lambda sequence: tokenizer.encode(sequence))\n",
    "print(\"Real sentence:\\n\", training_text[4444])\n",
    "print(\"Tokenized sentence:\\n\", training_sequences[4444])"
   ]
  },
  {
   "cell_type": "markdown",
   "id": "2fbb2f90",
   "metadata": {},
   "source": [
    "## Padding"
   ]
  },
  {
   "cell_type": "code",
   "execution_count": 7,
   "id": "7c1bb1fb",
   "metadata": {},
   "outputs": [
    {
     "name": "stdout",
     "output_type": "stream",
     "text": [
      "Shape: (100,)\n"
     ]
    }
   ],
   "source": [
    "max_length = 100\n",
    "padded_sequences = pad_sequences(training_sequences, maxlen=max_length)\n",
    "print(\"Shape:\", padded_sequences[4444].shape)"
   ]
  },
  {
   "cell_type": "markdown",
   "id": "54e18d22",
   "metadata": {},
   "source": [
    "## Class Weight"
   ]
  },
  {
   "cell_type": "code",
   "execution_count": 8,
   "id": "39c2bd60",
   "metadata": {},
   "outputs": [
    {
     "data": {
      "text/html": [
       "<div>\n",
       "<style scoped>\n",
       "    .dataframe tbody tr th:only-of-type {\n",
       "        vertical-align: middle;\n",
       "    }\n",
       "\n",
       "    .dataframe tbody tr th {\n",
       "        vertical-align: top;\n",
       "    }\n",
       "\n",
       "    .dataframe thead th {\n",
       "        text-align: right;\n",
       "    }\n",
       "</style>\n",
       "<table border=\"1\" class=\"dataframe\">\n",
       "  <thead>\n",
       "    <tr style=\"text-align: right;\">\n",
       "      <th></th>\n",
       "      <th>class</th>\n",
       "      <th>count</th>\n",
       "      <th>weight</th>\n",
       "    </tr>\n",
       "  </thead>\n",
       "  <tbody>\n",
       "    <tr>\n",
       "      <th>0</th>\n",
       "      <td>Jenis Dan Tarif</td>\n",
       "      <td>52</td>\n",
       "      <td>1.038462</td>\n",
       "    </tr>\n",
       "    <tr>\n",
       "      <th>1</th>\n",
       "      <td>Penerimaan Negara Bukan Pajak</td>\n",
       "      <td>131</td>\n",
       "      <td>0.412214</td>\n",
       "    </tr>\n",
       "    <tr>\n",
       "      <th>2</th>\n",
       "      <td>Pajak Bumi Dan Bangunan</td>\n",
       "      <td>94</td>\n",
       "      <td>0.574468</td>\n",
       "    </tr>\n",
       "    <tr>\n",
       "      <th>3</th>\n",
       "      <td>Kementerian Keuangan</td>\n",
       "      <td>105</td>\n",
       "      <td>0.514286</td>\n",
       "    </tr>\n",
       "    <tr>\n",
       "      <th>4</th>\n",
       "      <td>Perubahan Kedua</td>\n",
       "      <td>162</td>\n",
       "      <td>0.333333</td>\n",
       "    </tr>\n",
       "  </tbody>\n",
       "</table>\n",
       "</div>"
      ],
      "text/plain": [
       "                           class  count    weight\n",
       "0                Jenis Dan Tarif     52  1.038462\n",
       "1  Penerimaan Negara Bukan Pajak    131  0.412214\n",
       "2        Pajak Bumi Dan Bangunan     94  0.574468\n",
       "3           Kementerian Keuangan    105  0.514286\n",
       "4                Perubahan Kedua    162  0.333333"
      ]
     },
     "execution_count": 8,
     "metadata": {},
     "output_type": "execute_result"
    }
   ],
   "source": [
    "class_df = pd.DataFrame()\n",
    "class_df['class'] = features\n",
    "class_df['count'] = training_df.iloc[:, 1:].sum().values\n",
    "class_df['weight'] = len(class_df) / class_df['count']\n",
    "class_df.head()"
   ]
  },
  {
   "cell_type": "code",
   "execution_count": 9,
   "id": "8be4a876",
   "metadata": {},
   "outputs": [],
   "source": [
    "class_names = class_df['class'].values\n",
    "class_weight = {}\n",
    "for index, class_name in enumerate(class_names):\n",
    "    class_weight[index] = class_df[class_df['class'] == class_names]['weight'].values[0]"
   ]
  },
  {
   "cell_type": "markdown",
   "id": "565f6922",
   "metadata": {},
   "source": [
    "# Model"
   ]
  },
  {
   "cell_type": "markdown",
   "id": "875c1058",
   "metadata": {},
   "source": [
    "## Create Model"
   ]
  },
  {
   "cell_type": "code",
   "execution_count": null,
   "id": "f265d098",
   "metadata": {},
   "outputs": [],
   "source": [
    "embedding_dimensions = 64\n",
    "inputs = tf.keras.Input(shape=(100,), name='input')\n",
    "x = tf.keras.layers.Embedding(vocab_size, embedding_dimensions, input_length=max_length)(inputs)"
   ]
  },
  {
   "cell_type": "code",
   "execution_count": null,
   "id": "51501cb8",
   "metadata": {},
   "outputs": [],
   "source": [
    "# cnn\n",
    "x_1 = tf.keras.layers.Dropout(.13)(x)\n",
    "x_1 = tf.keras.layers.Conv1D(128, 3, activation='relu')(x_1)\n",
    "x_1 = tf.keras.layers.MaxPool1D(2)(x_1)\n",
    "x_1 = tf.keras.layers.Flatten()(x_1)\n",
    "concatted_x_1 = tf.keras.layers.Concatenate()([x_1, x_1, x_1])"
   ]
  },
  {
   "cell_type": "code",
   "execution_count": null,
   "id": "e579daf8",
   "metadata": {},
   "outputs": [],
   "source": [
    "# lstm\n",
    "x_2 = tf.keras.layers.Bidirectional(tf.keras.layers.LSTM(32, return_sequences=True))(x)\n",
    "x_2 = tf.keras.layers.Bidirectional(tf.keras.layers.LSTM(64, return_sequences=True))(x_2)\n",
    "x_2 = tf.keras.layers.Bidirectional(tf.keras.layers.LSTM(64))(x_2)"
   ]
  },
  {
   "cell_type": "code",
   "execution_count": null,
   "id": "8b5d1686",
   "metadata": {},
   "outputs": [],
   "source": [
    "concatted_x = tf.keras.layers.Concatenate()([concatted_x_1, x_2])\n",
    "x = tf.keras.layers.Dropout(.3)(concatted_x)\n",
    "x = tf.keras.layers.Dense(128, activation='relu')(x)\n",
    "outputs = tf.keras.layers.Dense(num_classes, activation='sigmoid', name='output')(x)"
   ]
  },
  {
   "cell_type": "code",
   "execution_count": null,
   "id": "b8507079",
   "metadata": {},
   "outputs": [],
   "source": [
    "# LSTM\n",
    "embedding_dimensions = 64\n",
    "inputs = tf.keras.Input(shape=(100,), name='input')\n",
    "x = tf.keras.layers.Embedding(vocab_size, embedding_dimensions, input_length=max_length)(inputs)\n",
    "x = tf.keras.layers.LSTM(64)(x)\n",
    "outputs = tf.keras.layers.Dense(num_classes, activation='sigmoid', name='output')(x)"
   ]
  },
  {
   "cell_type": "code",
   "execution_count": 24,
   "id": "85856974",
   "metadata": {},
   "outputs": [],
   "source": [
    "# SIMPLE DNN\n",
    "embedding_dimensions = 64\n",
    "inputs = tf.keras.Input(shape=(100,), name='input')\n",
    "x = tf.keras.layers.Embedding(vocab_size, embedding_dimensions, input_length=max_length)(inputs)\n",
    "x = tf.keras.layers.GlobalMaxPool1D()(x)\n",
    "outputs = tf.keras.layers.Dense(num_classes, activation='sigmoid', name='output')(x)"
   ]
  },
  {
   "cell_type": "code",
   "execution_count": 25,
   "id": "632a9161",
   "metadata": {},
   "outputs": [
    {
     "name": "stdout",
     "output_type": "stream",
     "text": [
      "Model: \"kaidah_model\"\n",
      "_________________________________________________________________\n",
      "Layer (type)                 Output Shape              Param #   \n",
      "=================================================================\n",
      "input (InputLayer)           [(None, 100)]             0         \n",
      "_________________________________________________________________\n",
      "embedding_2 (Embedding)      (None, 100, 64)           1953344   \n",
      "_________________________________________________________________\n",
      "global_max_pooling1d_2 (Glob (None, 64)                0         \n",
      "_________________________________________________________________\n",
      "output (Dense)               (None, 54)                3510      \n",
      "=================================================================\n",
      "Total params: 1,956,854\n",
      "Trainable params: 1,956,854\n",
      "Non-trainable params: 0\n",
      "_________________________________________________________________\n"
     ]
    }
   ],
   "source": [
    "model = tf.keras.Model(inputs=inputs, outputs=outputs, name='kaidah_model')\n",
    "model.summary()"
   ]
  },
  {
   "cell_type": "code",
   "execution_count": 26,
   "id": "753f16b3",
   "metadata": {},
   "outputs": [],
   "source": [
    "# compile model\n",
    "optimizer = tf.keras.optimizers.Adam(3e-5)\n",
    "metrics = ['accuracy', tf.keras.metrics.AUC(name='auc')]\n",
    "model.compile(optimizer=optimizer, loss='binary_crossentropy', metrics=metrics)"
   ]
  },
  {
   "cell_type": "markdown",
   "id": "2873e109",
   "metadata": {},
   "source": [
    "## Training"
   ]
  },
  {
   "cell_type": "code",
   "execution_count": 27,
   "id": "fac5f6f9",
   "metadata": {},
   "outputs": [],
   "source": [
    "# reduce learning rate and save model\n",
    "saved_model_path = 'dnn_kaidah_model.h5'\n",
    "callbacks = [tf.keras.callbacks.ReduceLROnPlateau(), \n",
    "             tf.keras.callbacks.ModelCheckpoint(saved_model_path, save_best_only=True)]"
   ]
  },
  {
   "cell_type": "code",
   "execution_count": 28,
   "id": "7e2646cb",
   "metadata": {
    "scrolled": true
   },
   "outputs": [
    {
     "name": "stdout",
     "output_type": "stream",
     "text": [
      "Epoch 1/100\n",
      "49/49 [==============================] - 2s 27ms/step - loss: 0.7116 - accuracy: 0.0011 - auc: 0.6681 - val_loss: 0.6830 - val_accuracy: 0.0243 - val_auc: 0.7200\n",
      "Epoch 2/100\n",
      "49/49 [==============================] - 1s 23ms/step - loss: 0.7083 - accuracy: 9.7466e-04 - auc: 0.7226 - val_loss: 0.6798 - val_accuracy: 0.0243 - val_auc: 0.7519\n",
      "Epoch 3/100\n",
      "49/49 [==============================] - 1s 23ms/step - loss: 0.7049 - accuracy: 9.7466e-04 - auc: 0.7593 - val_loss: 0.6766 - val_accuracy: 0.0243 - val_auc: 0.7623\n",
      "Epoch 4/100\n",
      "49/49 [==============================] - 1s 23ms/step - loss: 0.7014 - accuracy: 9.7466e-04 - auc: 0.7801 - val_loss: 0.6732 - val_accuracy: 0.0243 - val_auc: 0.7769\n",
      "Epoch 5/100\n",
      "49/49 [==============================] - 1s 23ms/step - loss: 0.6978 - accuracy: 0.0045 - auc: 0.7987 - val_loss: 0.6697 - val_accuracy: 0.0299 - val_auc: 0.7882\n",
      "Epoch 6/100\n",
      "49/49 [==============================] - 1s 23ms/step - loss: 0.6941 - accuracy: 0.0621 - auc: 0.8121 - val_loss: 0.6661 - val_accuracy: 0.0921 - val_auc: 0.7897\n",
      "Epoch 7/100\n",
      "49/49 [==============================] - 1s 23ms/step - loss: 0.6903 - accuracy: 0.2788 - auc: 0.8195 - val_loss: 0.6623 - val_accuracy: 0.2262 - val_auc: 0.7977\n",
      "Epoch 8/100\n",
      "49/49 [==============================] - 1s 23ms/step - loss: 0.6863 - accuracy: 0.5216 - auc: 0.8244 - val_loss: 0.6585 - val_accuracy: 0.2755 - val_auc: 0.7966\n",
      "Epoch 9/100\n",
      "49/49 [==============================] - 1s 24ms/step - loss: 0.6821 - accuracy: 0.5984 - auc: 0.8272 - val_loss: 0.6544 - val_accuracy: 0.2793 - val_auc: 0.7974\n",
      "Epoch 10/100\n",
      "49/49 [==============================] - 1s 24ms/step - loss: 0.6778 - accuracy: 0.6142 - auc: 0.8287 - val_loss: 0.6502 - val_accuracy: 0.2793 - val_auc: 0.8013\n",
      "Epoch 11/100\n",
      "49/49 [==============================] - 1s 24ms/step - loss: 0.6733 - accuracy: 0.6153 - auc: 0.8291 - val_loss: 0.6459 - val_accuracy: 0.2793 - val_auc: 0.7966\n",
      "Epoch 12/100\n",
      "49/49 [==============================] - 1s 23ms/step - loss: 0.6687 - accuracy: 0.6153 - auc: 0.8297 - val_loss: 0.6414 - val_accuracy: 0.2793 - val_auc: 0.8017\n",
      "Epoch 13/100\n",
      "49/49 [==============================] - 1s 23ms/step - loss: 0.6638 - accuracy: 0.6153 - auc: 0.8289 - val_loss: 0.6367 - val_accuracy: 0.2793 - val_auc: 0.7967\n",
      "Epoch 14/100\n",
      "49/49 [==============================] - 1s 24ms/step - loss: 0.6588 - accuracy: 0.6153 - auc: 0.8297 - val_loss: 0.6318 - val_accuracy: 0.2793 - val_auc: 0.8014\n",
      "Epoch 15/100\n",
      "49/49 [==============================] - 1s 23ms/step - loss: 0.6535 - accuracy: 0.6153 - auc: 0.8292 - val_loss: 0.6267 - val_accuracy: 0.2793 - val_auc: 0.7971\n",
      "Epoch 16/100\n",
      "49/49 [==============================] - 1s 23ms/step - loss: 0.6481 - accuracy: 0.6153 - auc: 0.8298 - val_loss: 0.6215 - val_accuracy: 0.2793 - val_auc: 0.8002\n",
      "Epoch 17/100\n",
      "49/49 [==============================] - 1s 23ms/step - loss: 0.6425 - accuracy: 0.6153 - auc: 0.8297 - val_loss: 0.6161 - val_accuracy: 0.2793 - val_auc: 0.7989\n",
      "Epoch 18/100\n",
      "49/49 [==============================] - 1s 24ms/step - loss: 0.6367 - accuracy: 0.6153 - auc: 0.8293 - val_loss: 0.6105 - val_accuracy: 0.2793 - val_auc: 0.7975\n",
      "Epoch 19/100\n",
      "49/49 [==============================] - 1s 24ms/step - loss: 0.6307 - accuracy: 0.6153 - auc: 0.8296 - val_loss: 0.6047 - val_accuracy: 0.2793 - val_auc: 0.8007\n",
      "Epoch 20/100\n",
      "49/49 [==============================] - 1s 23ms/step - loss: 0.6245 - accuracy: 0.6153 - auc: 0.8292 - val_loss: 0.5988 - val_accuracy: 0.2793 - val_auc: 0.7996\n",
      "Epoch 21/100\n",
      "49/49 [==============================] - 1s 23ms/step - loss: 0.6181 - accuracy: 0.6153 - auc: 0.8289 - val_loss: 0.5928 - val_accuracy: 0.2793 - val_auc: 0.7974\n",
      "Epoch 22/100\n",
      "49/49 [==============================] - 1s 23ms/step - loss: 0.6116 - accuracy: 0.6153 - auc: 0.8293 - val_loss: 0.5865 - val_accuracy: 0.2793 - val_auc: 0.7992\n",
      "Epoch 23/100\n",
      "49/49 [==============================] - 1s 24ms/step - loss: 0.6049 - accuracy: 0.6153 - auc: 0.8292 - val_loss: 0.5802 - val_accuracy: 0.2793 - val_auc: 0.7985\n",
      "Epoch 24/100\n",
      "49/49 [==============================] - 1s 24ms/step - loss: 0.5980 - accuracy: 0.6153 - auc: 0.8289 - val_loss: 0.5737 - val_accuracy: 0.2793 - val_auc: 0.7992\n",
      "Epoch 25/100\n",
      "49/49 [==============================] - 1s 24ms/step - loss: 0.5910 - accuracy: 0.6153 - auc: 0.8292 - val_loss: 0.5670 - val_accuracy: 0.2793 - val_auc: 0.7968\n",
      "Epoch 26/100\n",
      "49/49 [==============================] - 1s 23ms/step - loss: 0.5839 - accuracy: 0.6153 - auc: 0.8289 - val_loss: 0.5603 - val_accuracy: 0.2793 - val_auc: 0.7959\n",
      "Epoch 27/100\n",
      "49/49 [==============================] - 1s 24ms/step - loss: 0.5766 - accuracy: 0.6153 - auc: 0.8287 - val_loss: 0.5534 - val_accuracy: 0.2793 - val_auc: 0.7991\n",
      "Epoch 28/100\n",
      "49/49 [==============================] - 1s 24ms/step - loss: 0.5693 - accuracy: 0.6153 - auc: 0.8290 - val_loss: 0.5465 - val_accuracy: 0.2793 - val_auc: 0.8007\n",
      "Epoch 29/100\n",
      "49/49 [==============================] - 1s 24ms/step - loss: 0.5618 - accuracy: 0.6153 - auc: 0.8289 - val_loss: 0.5394 - val_accuracy: 0.2793 - val_auc: 0.7999\n",
      "Epoch 30/100\n",
      "49/49 [==============================] - 1s 23ms/step - loss: 0.5542 - accuracy: 0.6153 - auc: 0.8289 - val_loss: 0.5323 - val_accuracy: 0.2793 - val_auc: 0.7977\n",
      "Epoch 31/100\n",
      "49/49 [==============================] - 1s 23ms/step - loss: 0.5465 - accuracy: 0.6153 - auc: 0.8289 - val_loss: 0.5251 - val_accuracy: 0.2793 - val_auc: 0.7975\n",
      "Epoch 32/100\n",
      "49/49 [==============================] - 1s 23ms/step - loss: 0.5387 - accuracy: 0.6153 - auc: 0.8290 - val_loss: 0.5178 - val_accuracy: 0.2793 - val_auc: 0.7979\n",
      "Epoch 33/100\n",
      "49/49 [==============================] - 1s 24ms/step - loss: 0.5309 - accuracy: 0.6153 - auc: 0.8287 - val_loss: 0.5104 - val_accuracy: 0.2793 - val_auc: 0.7978\n",
      "Epoch 34/100\n",
      "49/49 [==============================] - 1s 25ms/step - loss: 0.5230 - accuracy: 0.6153 - auc: 0.8285 - val_loss: 0.5030 - val_accuracy: 0.2793 - val_auc: 0.7977\n",
      "Epoch 35/100\n",
      "49/49 [==============================] - 1s 23ms/step - loss: 0.5150 - accuracy: 0.6153 - auc: 0.8287 - val_loss: 0.4956 - val_accuracy: 0.2793 - val_auc: 0.7978\n",
      "Epoch 36/100\n",
      "49/49 [==============================] - 1s 23ms/step - loss: 0.5070 - accuracy: 0.6153 - auc: 0.8289 - val_loss: 0.4882 - val_accuracy: 0.2793 - val_auc: 0.7976\n",
      "Epoch 37/100\n",
      "49/49 [==============================] - 1s 24ms/step - loss: 0.4990 - accuracy: 0.6153 - auc: 0.8292 - val_loss: 0.4807 - val_accuracy: 0.2793 - val_auc: 0.7971\n",
      "Epoch 38/100\n",
      "49/49 [==============================] - 1s 23ms/step - loss: 0.4910 - accuracy: 0.6153 - auc: 0.8288 - val_loss: 0.4732 - val_accuracy: 0.2793 - val_auc: 0.7973\n",
      "Epoch 39/100\n",
      "49/49 [==============================] - 1s 23ms/step - loss: 0.4829 - accuracy: 0.6153 - auc: 0.8290 - val_loss: 0.4657 - val_accuracy: 0.2793 - val_auc: 0.7980\n",
      "Epoch 40/100\n",
      "49/49 [==============================] - 1s 24ms/step - loss: 0.4748 - accuracy: 0.6153 - auc: 0.8291 - val_loss: 0.4582 - val_accuracy: 0.2793 - val_auc: 0.7992\n",
      "Epoch 41/100\n",
      "49/49 [==============================] - 1s 26ms/step - loss: 0.4668 - accuracy: 0.6153 - auc: 0.8289 - val_loss: 0.4508 - val_accuracy: 0.2793 - val_auc: 0.7996\n",
      "Epoch 42/100\n",
      "49/49 [==============================] - 1s 27ms/step - loss: 0.4588 - accuracy: 0.6153 - auc: 0.8288 - val_loss: 0.4433 - val_accuracy: 0.2793 - val_auc: 0.7997\n",
      "Epoch 43/100\n",
      "49/49 [==============================] - 1s 29ms/step - loss: 0.4507 - accuracy: 0.6153 - auc: 0.8291 - val_loss: 0.4359 - val_accuracy: 0.2793 - val_auc: 0.7998\n",
      "Epoch 44/100\n",
      "49/49 [==============================] - 1s 26ms/step - loss: 0.4428 - accuracy: 0.6153 - auc: 0.8288 - val_loss: 0.4285 - val_accuracy: 0.2793 - val_auc: 0.7998\n",
      "Epoch 45/100\n",
      "49/49 [==============================] - 1s 23ms/step - loss: 0.4349 - accuracy: 0.6153 - auc: 0.8288 - val_loss: 0.4212 - val_accuracy: 0.2793 - val_auc: 0.7982\n",
      "Epoch 46/100\n",
      "49/49 [==============================] - 1s 23ms/step - loss: 0.4270 - accuracy: 0.6153 - auc: 0.8288 - val_loss: 0.4140 - val_accuracy: 0.2793 - val_auc: 0.7984\n",
      "Epoch 47/100\n",
      "49/49 [==============================] - 1s 23ms/step - loss: 0.4192 - accuracy: 0.6153 - auc: 0.8291 - val_loss: 0.4068 - val_accuracy: 0.2793 - val_auc: 0.7985\n"
     ]
    },
    {
     "name": "stdout",
     "output_type": "stream",
     "text": [
      "Epoch 48/100\n",
      "49/49 [==============================] - 1s 23ms/step - loss: 0.4114 - accuracy: 0.6153 - auc: 0.8288 - val_loss: 0.3997 - val_accuracy: 0.2793 - val_auc: 0.7987\n",
      "Epoch 49/100\n",
      "49/49 [==============================] - 1s 23ms/step - loss: 0.4038 - accuracy: 0.6153 - auc: 0.8287 - val_loss: 0.3926 - val_accuracy: 0.2793 - val_auc: 0.7988\n",
      "Epoch 50/100\n",
      "49/49 [==============================] - 1s 23ms/step - loss: 0.3961 - accuracy: 0.6153 - auc: 0.8288 - val_loss: 0.3856 - val_accuracy: 0.2793 - val_auc: 0.7989\n",
      "Epoch 51/100\n",
      "49/49 [==============================] - 1s 23ms/step - loss: 0.3886 - accuracy: 0.6153 - auc: 0.8287 - val_loss: 0.3786 - val_accuracy: 0.2793 - val_auc: 0.7964\n",
      "Epoch 52/100\n",
      "49/49 [==============================] - 1s 23ms/step - loss: 0.3811 - accuracy: 0.6153 - auc: 0.8289 - val_loss: 0.3718 - val_accuracy: 0.2793 - val_auc: 0.7967\n",
      "Epoch 53/100\n",
      "49/49 [==============================] - 1s 23ms/step - loss: 0.3736 - accuracy: 0.6153 - auc: 0.8286 - val_loss: 0.3650 - val_accuracy: 0.2793 - val_auc: 0.7969\n",
      "Epoch 54/100\n",
      "49/49 [==============================] - 1s 23ms/step - loss: 0.3663 - accuracy: 0.6153 - auc: 0.8288 - val_loss: 0.3583 - val_accuracy: 0.2793 - val_auc: 0.7967\n",
      "Epoch 55/100\n",
      "49/49 [==============================] - 1s 24ms/step - loss: 0.3590 - accuracy: 0.6153 - auc: 0.8287 - val_loss: 0.3517 - val_accuracy: 0.2793 - val_auc: 0.7970\n",
      "Epoch 56/100\n",
      "49/49 [==============================] - 1s 23ms/step - loss: 0.3519 - accuracy: 0.6153 - auc: 0.8287 - val_loss: 0.3451 - val_accuracy: 0.2793 - val_auc: 0.7956\n",
      "Epoch 57/100\n",
      "49/49 [==============================] - 1s 23ms/step - loss: 0.3447 - accuracy: 0.6153 - auc: 0.8284 - val_loss: 0.3387 - val_accuracy: 0.2793 - val_auc: 0.7955\n",
      "Epoch 58/100\n",
      "49/49 [==============================] - 1s 23ms/step - loss: 0.3377 - accuracy: 0.6153 - auc: 0.8287 - val_loss: 0.3323 - val_accuracy: 0.2793 - val_auc: 0.7955\n",
      "Epoch 59/100\n",
      "49/49 [==============================] - 1s 24ms/step - loss: 0.3308 - accuracy: 0.6153 - auc: 0.8289 - val_loss: 0.3261 - val_accuracy: 0.2793 - val_auc: 0.7956\n",
      "Epoch 60/100\n",
      "49/49 [==============================] - 1s 23ms/step - loss: 0.3241 - accuracy: 0.6153 - auc: 0.8288 - val_loss: 0.3199 - val_accuracy: 0.2793 - val_auc: 0.7953\n",
      "Epoch 61/100\n",
      "49/49 [==============================] - 1s 23ms/step - loss: 0.3174 - accuracy: 0.6153 - auc: 0.8287 - val_loss: 0.3139 - val_accuracy: 0.2793 - val_auc: 0.7950\n",
      "Epoch 62/100\n",
      "49/49 [==============================] - 1s 23ms/step - loss: 0.3108 - accuracy: 0.6153 - auc: 0.8286 - val_loss: 0.3080 - val_accuracy: 0.2793 - val_auc: 0.7948\n",
      "Epoch 63/100\n",
      "49/49 [==============================] - 1s 24ms/step - loss: 0.3043 - accuracy: 0.6153 - auc: 0.8287 - val_loss: 0.3022 - val_accuracy: 0.2793 - val_auc: 0.7946\n",
      "Epoch 64/100\n",
      "49/49 [==============================] - 1s 23ms/step - loss: 0.2980 - accuracy: 0.6153 - auc: 0.8289 - val_loss: 0.2965 - val_accuracy: 0.2793 - val_auc: 0.7944\n",
      "Epoch 65/100\n",
      "49/49 [==============================] - 1s 23ms/step - loss: 0.2918 - accuracy: 0.6153 - auc: 0.8287 - val_loss: 0.2909 - val_accuracy: 0.2793 - val_auc: 0.7947\n",
      "Epoch 66/100\n",
      "49/49 [==============================] - 1s 23ms/step - loss: 0.2856 - accuracy: 0.6153 - auc: 0.8291 - val_loss: 0.2854 - val_accuracy: 0.2793 - val_auc: 0.7945\n",
      "Epoch 67/100\n",
      "49/49 [==============================] - 1s 23ms/step - loss: 0.2796 - accuracy: 0.6153 - auc: 0.8292 - val_loss: 0.2800 - val_accuracy: 0.2793 - val_auc: 0.7962\n",
      "Epoch 68/100\n",
      "49/49 [==============================] - 1s 24ms/step - loss: 0.2737 - accuracy: 0.6153 - auc: 0.8291 - val_loss: 0.2748 - val_accuracy: 0.2793 - val_auc: 0.7945\n",
      "Epoch 69/100\n",
      "49/49 [==============================] - 1s 24ms/step - loss: 0.2679 - accuracy: 0.6153 - auc: 0.8287 - val_loss: 0.2696 - val_accuracy: 0.2793 - val_auc: 0.7933\n",
      "Epoch 70/100\n",
      "49/49 [==============================] - 1s 23ms/step - loss: 0.2622 - accuracy: 0.6153 - auc: 0.8289 - val_loss: 0.2645 - val_accuracy: 0.2793 - val_auc: 0.7941\n",
      "Epoch 71/100\n",
      "49/49 [==============================] - 1s 23ms/step - loss: 0.2567 - accuracy: 0.6153 - auc: 0.8289 - val_loss: 0.2596 - val_accuracy: 0.2793 - val_auc: 0.7954\n",
      "Epoch 72/100\n",
      "49/49 [==============================] - 1s 25ms/step - loss: 0.2512 - accuracy: 0.6153 - auc: 0.8292 - val_loss: 0.2548 - val_accuracy: 0.2793 - val_auc: 0.7951\n",
      "Epoch 73/100\n",
      "49/49 [==============================] - 1s 24ms/step - loss: 0.2459 - accuracy: 0.6153 - auc: 0.8291 - val_loss: 0.2500 - val_accuracy: 0.2793 - val_auc: 0.7943\n",
      "Epoch 74/100\n",
      "49/49 [==============================] - 1s 24ms/step - loss: 0.2407 - accuracy: 0.6153 - auc: 0.8295 - val_loss: 0.2454 - val_accuracy: 0.2793 - val_auc: 0.7957\n",
      "Epoch 75/100\n",
      "49/49 [==============================] - 1s 23ms/step - loss: 0.2355 - accuracy: 0.6153 - auc: 0.8293 - val_loss: 0.2409 - val_accuracy: 0.2793 - val_auc: 0.7959\n",
      "Epoch 76/100\n",
      "49/49 [==============================] - 1s 23ms/step - loss: 0.2305 - accuracy: 0.6153 - auc: 0.8290 - val_loss: 0.2365 - val_accuracy: 0.2793 - val_auc: 0.7941\n",
      "Epoch 77/100\n",
      "49/49 [==============================] - 1s 24ms/step - loss: 0.2256 - accuracy: 0.6153 - auc: 0.8291 - val_loss: 0.2322 - val_accuracy: 0.2793 - val_auc: 0.7937\n",
      "Epoch 78/100\n",
      "49/49 [==============================] - 1s 23ms/step - loss: 0.2209 - accuracy: 0.6153 - auc: 0.8296 - val_loss: 0.2280 - val_accuracy: 0.2793 - val_auc: 0.7947\n",
      "Epoch 79/100\n",
      "49/49 [==============================] - 1s 23ms/step - loss: 0.2162 - accuracy: 0.6153 - auc: 0.8300 - val_loss: 0.2239 - val_accuracy: 0.2793 - val_auc: 0.7977\n",
      "Epoch 80/100\n",
      "49/49 [==============================] - 1s 25ms/step - loss: 0.2116 - accuracy: 0.6153 - auc: 0.8296 - val_loss: 0.2199 - val_accuracy: 0.2793 - val_auc: 0.7940\n",
      "Epoch 81/100\n",
      "49/49 [==============================] - 1s 25ms/step - loss: 0.2071 - accuracy: 0.6153 - auc: 0.8294 - val_loss: 0.2160 - val_accuracy: 0.2793 - val_auc: 0.7931\n",
      "Epoch 82/100\n",
      "49/49 [==============================] - 1s 24ms/step - loss: 0.2027 - accuracy: 0.6153 - auc: 0.8295 - val_loss: 0.2122 - val_accuracy: 0.2793 - val_auc: 0.7937\n",
      "Epoch 83/100\n",
      "49/49 [==============================] - 1s 23ms/step - loss: 0.1984 - accuracy: 0.6153 - auc: 0.8298 - val_loss: 0.2085 - val_accuracy: 0.2793 - val_auc: 0.7981\n",
      "Epoch 84/100\n",
      "49/49 [==============================] - 1s 22ms/step - loss: 0.1942 - accuracy: 0.6153 - auc: 0.8293 - val_loss: 0.2049 - val_accuracy: 0.2793 - val_auc: 0.7926\n",
      "Epoch 85/100\n",
      "49/49 [==============================] - 1s 22ms/step - loss: 0.1902 - accuracy: 0.6153 - auc: 0.8301 - val_loss: 0.2014 - val_accuracy: 0.2793 - val_auc: 0.7902\n",
      "Epoch 86/100\n",
      "49/49 [==============================] - 1s 23ms/step - loss: 0.1862 - accuracy: 0.6153 - auc: 0.8300 - val_loss: 0.1980 - val_accuracy: 0.2793 - val_auc: 0.7966\n",
      "Epoch 87/100\n",
      "49/49 [==============================] - 1s 22ms/step - loss: 0.1823 - accuracy: 0.6153 - auc: 0.8298 - val_loss: 0.1946 - val_accuracy: 0.2793 - val_auc: 0.7948\n",
      "Epoch 88/100\n",
      "49/49 [==============================] - 1s 23ms/step - loss: 0.1785 - accuracy: 0.6153 - auc: 0.8302 - val_loss: 0.1914 - val_accuracy: 0.2793 - val_auc: 0.7891\n",
      "Epoch 89/100\n",
      "49/49 [==============================] - 1s 22ms/step - loss: 0.1749 - accuracy: 0.6153 - auc: 0.8302 - val_loss: 0.1882 - val_accuracy: 0.2793 - val_auc: 0.7940\n",
      "Epoch 90/100\n",
      "49/49 [==============================] - 1s 22ms/step - loss: 0.1713 - accuracy: 0.6153 - auc: 0.8304 - val_loss: 0.1852 - val_accuracy: 0.2793 - val_auc: 0.7949\n",
      "Epoch 91/100\n",
      "49/49 [==============================] - 1s 23ms/step - loss: 0.1677 - accuracy: 0.6153 - auc: 0.8299 - val_loss: 0.1822 - val_accuracy: 0.2793 - val_auc: 0.7917\n",
      "Epoch 92/100\n",
      "49/49 [==============================] - 1s 22ms/step - loss: 0.1643 - accuracy: 0.6153 - auc: 0.8306 - val_loss: 0.1793 - val_accuracy: 0.2793 - val_auc: 0.7926\n",
      "Epoch 93/100\n",
      "49/49 [==============================] - 1s 22ms/step - loss: 0.1610 - accuracy: 0.6153 - auc: 0.8302 - val_loss: 0.1765 - val_accuracy: 0.2793 - val_auc: 0.7904\n",
      "Epoch 94/100\n",
      "49/49 [==============================] - 1s 23ms/step - loss: 0.1578 - accuracy: 0.6153 - auc: 0.8303 - val_loss: 0.1738 - val_accuracy: 0.2793 - val_auc: 0.7953\n"
     ]
    },
    {
     "name": "stdout",
     "output_type": "stream",
     "text": [
      "Epoch 95/100\n",
      "49/49 [==============================] - 1s 23ms/step - loss: 0.1546 - accuracy: 0.6153 - auc: 0.8307 - val_loss: 0.1711 - val_accuracy: 0.2793 - val_auc: 0.7904\n",
      "Epoch 96/100\n",
      "49/49 [==============================] - 1s 23ms/step - loss: 0.1515 - accuracy: 0.6153 - auc: 0.8303 - val_loss: 0.1685 - val_accuracy: 0.2793 - val_auc: 0.7968\n",
      "Epoch 97/100\n",
      "49/49 [==============================] - 1s 22ms/step - loss: 0.1485 - accuracy: 0.6153 - auc: 0.8310 - val_loss: 0.1660 - val_accuracy: 0.2793 - val_auc: 0.7910\n",
      "Epoch 98/100\n",
      "49/49 [==============================] - 1s 23ms/step - loss: 0.1456 - accuracy: 0.6153 - auc: 0.8309 - val_loss: 0.1636 - val_accuracy: 0.2793 - val_auc: 0.7882\n",
      "Epoch 99/100\n",
      "49/49 [==============================] - 1s 23ms/step - loss: 0.1427 - accuracy: 0.6153 - auc: 0.8311 - val_loss: 0.1613 - val_accuracy: 0.2793 - val_auc: 0.7921\n",
      "Epoch 100/100\n",
      "49/49 [==============================] - 1s 22ms/step - loss: 0.1400 - accuracy: 0.6153 - auc: 0.8307 - val_loss: 0.1590 - val_accuracy: 0.2793 - val_auc: 0.7883\n"
     ]
    }
   ],
   "source": [
    "num_epoch = 100\n",
    "batch_size = 128\n",
    "history = model.fit(padded_sequences, training_labels, batch_size=batch_size, class_weight=class_weight,\n",
    "                    epochs=num_epoch, validation_split=0.3, callbacks=callbacks)"
   ]
  },
  {
   "cell_type": "markdown",
   "id": "bb4fdf3d",
   "metadata": {},
   "source": [
    "## Plot Metric"
   ]
  },
  {
   "cell_type": "code",
   "execution_count": 29,
   "id": "e40839bc",
   "metadata": {},
   "outputs": [],
   "source": [
    "directory = 'metric/'\n",
    "if not os.path.exists(directory):\n",
    "    os.mkdir(directory)"
   ]
  },
  {
   "cell_type": "code",
   "execution_count": 31,
   "id": "fdc6b801",
   "metadata": {},
   "outputs": [
    {
     "data": {
      "image/png": "[encoded data removed]",
      "text/plain": [
       "<Figure size 432x288 with 1 Axes>"
      ]
     },
     "metadata": {
      "needs_background": "light"
     },
     "output_type": "display_data"
    },
    {
     "data": {
      "image/png": "[encoded data removed]",
      "text/plain": [
       "<Figure size 432x288 with 1 Axes>"
      ]
     },
     "metadata": {
      "needs_background": "light"
     },
     "output_type": "display_data"
    },
    {
     "data": {
      "image/png": "[encoded data removed]",
      "text/plain": [
       "<Figure size 432x288 with 1 Axes>"
      ]
     },
     "metadata": {
      "needs_background": "light"
     },
     "output_type": "display_data"
    }
   ],
   "source": [
    "def plot_graphs(history, string):\n",
    "    plt.plot(history.history[string])\n",
    "    plt.plot(history.history['val_'+string])\n",
    "    plt.xlabel(\"Epochs\")\n",
    "    plt.ylabel(string)\n",
    "    plt.legend([string, 'val_'+string])\n",
    "    plt.savefig(directory+'dnn_'+string+'.png')\n",
    "    plt.show()\n",
    "\n",
    "for metric in model.metrics_names:\n",
    "    plot_graphs(history, metric)"
   ]
  },
  {
   "cell_type": "markdown",
   "id": "7b9a0864",
   "metadata": {},
   "source": [
    "# Save Class"
   ]
  },
  {
   "cell_type": "code",
   "execution_count": null,
   "id": "f4d15ab4",
   "metadata": {},
   "outputs": [],
   "source": [
    "# add id as new column\n",
    "class_df.insert(0, 'id', class_df.index+1)\n",
    "class_df.pop('count')\n",
    "class_df.pop('weight')\n",
    "class_df.columns"
   ]
  },
  {
   "cell_type": "code",
   "execution_count": null,
   "id": "7f728f72",
   "metadata": {},
   "outputs": [],
   "source": [
    "# save to directory\n",
    "directory = 'data/'\n",
    "if not os.path.exists(directory):\n",
    "    os.mkdir(directory)\n",
    "\n",
    "saved_data_path = os.path.join(directory, 'label.csv')\n",
    "class_df.to_csv(saved_data_path, index=False)"
   ]
  },
  {
   "cell_type": "markdown",
   "id": "29b92a05",
   "metadata": {},
   "source": [
    "Learning rate -> Coursera Course<br>\n",
    "[Model architecture](https://ieeexplore.ieee.org/abstract/document/8723320)<br>\n",
    "[Layer concatenation](https://keras.io/api/layers/merging_layers/concatenate/)<br>\n",
    "https://stackoverflow.com/questions/38387913/reason-of-having-high-auc-and-low-accuracy-in-a-balanced-dataset"
   ]
  }
 ],
 "metadata": {
  "kernelspec": {
   "display_name": "TensorFlow",
   "language": "python",
   "name": "tf"
  },
  "language_info": {
   "codemirror_mode": {
    "name": "ipython",
    "version": 3
   },
   "file_extension": ".py",
   "mimetype": "text/x-python",
   "name": "python",
   "nbconvert_exporter": "python",
   "pygments_lexer": "ipython3",
   "version": "3.8.8"
  }
 },
 "nbformat": 4,
 "nbformat_minor": 5
}
