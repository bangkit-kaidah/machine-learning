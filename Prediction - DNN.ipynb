{
 "cells": [
  {
   "cell_type": "code",
   "execution_count": 1,
   "id": "1cee440c",
   "metadata": {},
   "outputs": [],
   "source": [
    "import pandas as pd\n",
    "import numpy as np\n",
    "import tensorflow as tf\n",
    "import tensorflow_hub as hub\n",
    "import matplotlib.pyplot as plt\n",
    "import os"
   ]
  },
  {
   "cell_type": "code",
   "execution_count": 2,
   "id": "8f87066a",
   "metadata": {},
   "outputs": [
    {
     "data": {
      "text/plain": [
       "'/GPU:0'"
      ]
     },
     "execution_count": 2,
     "metadata": {},
     "output_type": "execute_result"
    }
   ],
   "source": [
    "device = '/GPU:0' if len(tf.config.list_physical_devices('GPU')) > 0 else '/CPU:0'\n",
    "device"
   ]
  },
  {
   "cell_type": "markdown",
   "id": "6db30718",
   "metadata": {},
   "source": [
    "# Load Data"
   ]
  },
  {
   "cell_type": "code",
   "execution_count": 3,
   "id": "fda7682b",
   "metadata": {},
   "outputs": [
    {
     "name": "stdout",
     "output_type": "stream",
     "text": [
      "Shape: (55374, 20)\n"
     ]
    }
   ],
   "source": [
    "# load prediction data\n",
    "directory = 'data/'\n",
    "dataset_path = os.path.join(directory, 'prediction_dataset.csv')\n",
    "dataset_df = pd.read_csv(dataset_path)\n",
    "print(\"Shape:\", dataset_df.shape)"
   ]
  },
  {
   "cell_type": "code",
   "execution_count": 4,
   "id": "fe13271a",
   "metadata": {},
   "outputs": [
    {
     "data": {
      "text/plain": [
       "0    atur kepala badan duduk keluarga rencana nasio...\n",
       "1    atur menteri uang nomor pmk tatacara hitung ba...\n",
       "2    atur menteri uang nomor pmk ubah ata atur ment...\n",
       "3    atur menteri uang nomor pmk kembali bea masuk ...\n",
       "4    atur menteri uang nomor pmk alokasi kurang bay...\n",
       "Name: judul_dokumen, dtype: object"
      ]
     },
     "execution_count": 4,
     "metadata": {},
     "output_type": "execute_result"
    }
   ],
   "source": [
    "# take the text data to be predicted\n",
    "text_df = dataset_df['judul_dokumen']\n",
    "text_df.head()"
   ]
  },
  {
   "cell_type": "markdown",
   "id": "451f277c",
   "metadata": {},
   "source": [
    "# Transform"
   ]
  },
  {
   "cell_type": "markdown",
   "id": "f97ef8a6",
   "metadata": {},
   "source": [
    "## Tokenize"
   ]
  },
  {
   "cell_type": "code",
   "execution_count": 5,
   "id": "221ce3ce",
   "metadata": {},
   "outputs": [],
   "source": [
    "# create indobert tokenizer instance\n",
    "tokenizer = BertTokenizer.from_pretrained(\"indobenchmark/indobert-base-p1\")"
   ]
  },
  {
   "cell_type": "code",
   "execution_count": 6,
   "id": "46047172",
   "metadata": {},
   "outputs": [
    {
     "name": "stdout",
     "output_type": "stream",
     "text": [
      "Real sentence:\n",
      " atur menteri hubung nomor pm tahun tata cara aju tuju rencana investasi usaha umum lembaga selenggara layan navigasi terbang indonesia\n",
      "Tokenized sentence:\n",
      " [2, 7194, 2690, 23789, 1288, 2419, 262, 2816, 354, 2116, 30360, 23641, 2596, 3077, 1062, 752, 2178, 157, 1005, 85, 933, 5, 14296, 5109, 300, 3]\n"
     ]
    }
   ],
   "source": [
    "# tokenize the text\n",
    "text_sequences = text_df.apply(lambda sequence: tokenizer.encode(sequence))\n",
    "print(\"Real sentence:\\n\", text_df[12345])\n",
    "print(\"Tokenized sentence:\\n\", text_sequences[12345])"
   ]
  },
  {
   "cell_type": "markdown",
   "id": "3b49bc58",
   "metadata": {},
   "source": [
    "## Padding"
   ]
  },
  {
   "cell_type": "code",
   "execution_count": 7,
   "id": "c115f9a6",
   "metadata": {},
   "outputs": [
    {
     "name": "stdout",
     "output_type": "stream",
     "text": [
      "Shape: (100,)\n"
     ]
    }
   ],
   "source": [
    "# pad the text into the same length\n",
    "max_length = 100\n",
    "padded_sequences = pad_sequences(text_sequences, maxlen=max_length)\n",
    "print(\"Shape:\", padded_sequences[12345].shape)"
   ]
  },
  {
   "cell_type": "markdown",
   "id": "03a772b6",
   "metadata": {},
   "source": [
    "# Inference"
   ]
  },
  {
   "cell_type": "markdown",
   "id": "5296ac3d",
   "metadata": {},
   "source": [
    "## Load Model"
   ]
  },
  {
   "cell_type": "code",
   "execution_count": 8,
   "id": "f6c237f7",
   "metadata": {},
   "outputs": [
    {
     "name": "stdout",
     "output_type": "stream",
     "text": [
      "Model: \"kaidah_model\"\n",
      "_________________________________________________________________\n",
      "Layer (type)                 Output Shape              Param #   \n",
      "=================================================================\n",
      "input (InputLayer)           [(None, 100)]             0         \n",
      "_________________________________________________________________\n",
      "embedding (Embedding)        (None, 100, 64)           1953344   \n",
      "_________________________________________________________________\n",
      "global_max_pooling1d (Global (None, 64)                0         \n",
      "_________________________________________________________________\n",
      "output (Dense)               (None, 54)                3510      \n",
      "=================================================================\n",
      "Total params: 1,956,854\n",
      "Trainable params: 1,956,854\n",
      "Non-trainable params: 0\n",
      "_________________________________________________________________\n"
     ]
    }
   ],
   "source": [
    "# load keras saved model\n",
    "saved_model_path = 'simple_kaidah_model.h5'\n",
    "model = tf.keras.models.load_model(saved_model_path)\n",
    "model.summary()"
   ]
  },
  {
   "cell_type": "markdown",
   "id": "22c6ba4e",
   "metadata": {},
   "source": [
    "## Predict"
   ]
  },
  {
   "cell_type": "code",
   "execution_count": 9,
   "id": "80b81479",
   "metadata": {},
   "outputs": [],
   "source": [
    "# predict from text\n",
    "predictions = model.predict(padded_sequences)"
   ]
  },
  {
   "cell_type": "markdown",
   "id": "57744b75",
   "metadata": {},
   "source": [
    "# Prediction Label"
   ]
  },
  {
   "cell_type": "code",
   "execution_count": null,
   "id": "762590bf",
   "metadata": {},
   "outputs": [],
   "source": [
    "class_path = os.path.join(directory, 'label.csv')\n",
    "class_df = pd.read_csv(class_path)\n",
    "print(\"Available labels:\", class_df['label'].values)"
   ]
  },
  {
   "cell_type": "code",
   "execution_count": null,
   "id": "dbf02062",
   "metadata": {},
   "outputs": [],
   "source": [
    "# peek at prediction result\n",
    "seed = 54321\n",
    "index = predictions[seed].argmax()\n",
    "print(\"Title:\", text_df[seed])\n",
    "print(\"Predicted label:\", class_df[index])"
   ]
  },
  {
   "cell_type": "code",
   "execution_count": 11,
   "id": "8d7fd17a",
   "metadata": {},
   "outputs": [],
   "source": [
    "for index, prediction in enumerate(predictions):\n",
    "    if prediction.argmax() != 53:\n",
    "        print(index, prediction.argmax())"
   ]
  },
  {
   "cell_type": "code",
   "execution_count": null,
   "id": "57e93b62",
   "metadata": {},
   "outputs": [],
   "source": [
    "dataset_df['subject_id'] = predictions.apply(lambda x: class_df['id'][x.argmax()])"
   ]
  },
  {
   "cell_type": "markdown",
   "id": "01e00ab8",
   "metadata": {},
   "source": [
    "# Save Data"
   ]
  },
  {
   "cell_type": "code",
   "execution_count": null,
   "id": "dc1d8c5b",
   "metadata": {},
   "outputs": [],
   "source": [
    "# save to directory\n",
    "if not os.path.exists(directory):\n",
    "    os.mkdir(directory)\n",
    "\n",
    "saved_data_path = os.path.join(directory, 'predicted_jdihn.csv')\n",
    "dataset_df.to_csv(saved_data_path, index=False)"
   ]
  }
 ],
 "metadata": {
  "kernelspec": {
   "display_name": "TensorFlow",
   "language": "python",
   "name": "tf"
  },
  "language_info": {
   "codemirror_mode": {
    "name": "ipython",
    "version": 3
   },
   "file_extension": ".py",
   "mimetype": "text/x-python",
   "name": "python",
   "nbconvert_exporter": "python",
   "pygments_lexer": "ipython3",
   "version": "3.8.8"
  }
 },
 "nbformat": 4,
 "nbformat_minor": 5
}
