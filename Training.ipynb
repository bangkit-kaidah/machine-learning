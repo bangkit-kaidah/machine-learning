{
 "cells": [
  {
   "cell_type": "code",
   "execution_count": 36,
   "id": "89efcc41",
   "metadata": {},
   "outputs": [],
   "source": [
    "import pandas as pd\n",
    "import numpy as np\n",
    "import tensorflow as tf\n",
    "import matplotlib.pyplot as plt\n",
    "from tensorflow.keras.preprocessing.text import Tokenizer\n",
    "from tensorflow.keras.preprocessing.sequence import pad_sequences\n",
    "from sklearn.model_selection import train_test_split"
   ]
  },
  {
   "cell_type": "code",
   "execution_count": 2,
   "id": "018880c4",
   "metadata": {},
   "outputs": [
    {
     "data": {
      "text/plain": [
       "'/GPU:0'"
      ]
     },
     "execution_count": 2,
     "metadata": {},
     "output_type": "execute_result"
    }
   ],
   "source": [
    "device = '/GPU:0' if len(tf.config.list_physical_devices('GPU')) > 0 else '/CPU:0'\n",
    "device"
   ]
  },
  {
   "cell_type": "code",
   "execution_count": 39,
   "id": "19fe1634",
   "metadata": {},
   "outputs": [
    {
     "data": {
      "text/plain": [
       "(8709, 68)"
      ]
     },
     "execution_count": 39,
     "metadata": {},
     "output_type": "execute_result"
    }
   ],
   "source": [
    "training_dataset_path = 'data/dataset.csv'\n",
    "training_df = pd.read_csv(training_dataset_path)\n",
    "training_df.shape"
   ]
  },
  {
   "cell_type": "code",
   "execution_count": 4,
   "id": "0078c7f8",
   "metadata": {},
   "outputs": [],
   "source": [
    "training_text = training_df['Title']\n",
    "\n",
    "features = training_df.columns[1:]\n",
    "training_labels = training_df[features]"
   ]
  },
  {
   "cell_type": "code",
   "execution_count": 5,
   "id": "804657f0",
   "metadata": {},
   "outputs": [],
   "source": [
    "vocab_size = 5000\n",
    "max_length = 50\n",
    "embedding_dimensions = 16\n",
    "num_classes = training_labels.shape[1]"
   ]
  },
  {
   "cell_type": "code",
   "execution_count": 6,
   "id": "25bd7cf0",
   "metadata": {},
   "outputs": [],
   "source": [
    "tokenizer = Tokenizer(num_words=vocab_size, oov_token=\"<OOV>\")\n",
    "tokenizer.fit_on_texts(training_text)"
   ]
  },
  {
   "cell_type": "code",
   "execution_count": 7,
   "id": "1ed4ad13",
   "metadata": {},
   "outputs": [],
   "source": [
    "training_sequences = tokenizer.texts_to_sequences(training_text)\n",
    "training_padded = pad_sequences(training_sequences, maxlen=max_length)"
   ]
  },
  {
   "cell_type": "code",
   "execution_count": 56,
   "id": "c0347c7d",
   "metadata": {},
   "outputs": [],
   "source": [
    "class MyModel(tf.keras.Model):\n",
    "    \n",
    "    def __init__(self, vocab_size, embedding_dimensions, max_length, num_classes, name='my_model'):\n",
    "        super(MyModel, self).__init__(name=name)\n",
    "        self.embedding = tf.keras.layers.Embedding(vocab_size, embedding_dimensions, input_length=max_length)\n",
    "        self.flatten = tf.keras.layers.GlobalAveragePooling1D()\n",
    "        self.dense = tf.keras.layers.Dense(128, activation='relu')\n",
    "        self.out = tf.keras.layers.Dense(num_classes, activation='softmax')\n",
    "    \n",
    "    def call(self, inputs, training=False):\n",
    "        x = self.embedding(inputs)\n",
    "        x = self.flatten(x)\n",
    "        x = self.dense(x)\n",
    "        return self.out(x)\n",
    "    \n",
    "    def model(self):\n",
    "        inputs = tf.keras.Input(shape=(max_length))\n",
    "        return tf.keras.Model(inputs=[inputs], outputs=self.call(inputs))"
   ]
  },
  {
   "cell_type": "code",
   "execution_count": 57,
   "id": "fcc5edca",
   "metadata": {},
   "outputs": [
    {
     "name": "stdout",
     "output_type": "stream",
     "text": [
      "Model: \"model_7\"\n",
      "_________________________________________________________________\n",
      "Layer (type)                 Output Shape              Param #   \n",
      "=================================================================\n",
      "input_8 (InputLayer)         [(None, 50)]              0         \n",
      "_________________________________________________________________\n",
      "embedding_8 (Embedding)      (None, 50, 16)            80000     \n",
      "_________________________________________________________________\n",
      "global_average_pooling1d_8 ( (None, 16)                0         \n",
      "_________________________________________________________________\n",
      "dense_16 (Dense)             (None, 128)               2176      \n",
      "_________________________________________________________________\n",
      "dense_17 (Dense)             (None, 67)                8643      \n",
      "=================================================================\n",
      "Total params: 90,819\n",
      "Trainable params: 90,819\n",
      "Non-trainable params: 0\n",
      "_________________________________________________________________\n"
     ]
    }
   ],
   "source": [
    "with tf.device(device):\n",
    "    model = MyModel(vocab_size, embedding_dimensions, max_length, num_classes)\n",
    "    model.model().summary()"
   ]
  },
  {
   "cell_type": "code",
   "execution_count": 58,
   "id": "7e2646cb",
   "metadata": {},
   "outputs": [
    {
     "name": "stdout",
     "output_type": "stream",
     "text": [
      "Epoch 1/100\n",
      "48/48 [==============================] - 1s 13ms/step - loss: 7.3982 - accuracy: 0.0074 - auc_12: 0.5039 - val_loss: 7.8705 - val_accuracy: 0.0034 - val_auc_12: 0.4693\n",
      "Epoch 2/100\n",
      "48/48 [==============================] - 0s 8ms/step - loss: 7.3846 - accuracy: 0.0385 - auc_12: 0.6072 - val_loss: 7.8574 - val_accuracy: 0.0540 - val_auc_12: 0.7349\n",
      "Epoch 3/100\n",
      "48/48 [==============================] - 0s 8ms/step - loss: 7.3708 - accuracy: 0.3186 - auc_12: 0.7811 - val_loss: 7.8431 - val_accuracy: 0.3303 - val_auc_12: 0.7807\n",
      "Epoch 4/100\n",
      "48/48 [==============================] - 0s 8ms/step - loss: 7.3560 - accuracy: 0.4208 - auc_12: 0.7786 - val_loss: 7.8276 - val_accuracy: 0.3303 - val_auc_12: 0.7728\n",
      "Epoch 5/100\n",
      "48/48 [==============================] - 0s 8ms/step - loss: 7.3398 - accuracy: 0.4208 - auc_12: 0.7798 - val_loss: 7.8107 - val_accuracy: 0.3303 - val_auc_12: 0.7526\n",
      "Epoch 6/100\n",
      "48/48 [==============================] - 0s 8ms/step - loss: 7.3218 - accuracy: 0.4208 - auc_12: 0.7722 - val_loss: 7.7916 - val_accuracy: 0.3303 - val_auc_12: 0.7309\n",
      "Epoch 7/100\n",
      "48/48 [==============================] - 0s 8ms/step - loss: 7.3004 - accuracy: 0.4208 - auc_12: 0.7595 - val_loss: 7.7686 - val_accuracy: 0.3303 - val_auc_12: 0.7206\n",
      "Epoch 8/100\n",
      "48/48 [==============================] - 0s 8ms/step - loss: 7.2766 - accuracy: 0.4208 - auc_12: 0.7572 - val_loss: 7.7445 - val_accuracy: 0.3303 - val_auc_12: 0.7143\n",
      "Epoch 9/100\n",
      "48/48 [==============================] - 0s 8ms/step - loss: 7.2505 - accuracy: 0.4208 - auc_12: 0.7544 - val_loss: 7.7181 - val_accuracy: 0.3303 - val_auc_12: 0.7120\n",
      "Epoch 10/100\n",
      "48/48 [==============================] - 0s 8ms/step - loss: 7.2216 - accuracy: 0.4208 - auc_12: 0.7553 - val_loss: 7.6891 - val_accuracy: 0.3303 - val_auc_12: 0.7142\n",
      "Epoch 11/100\n",
      "48/48 [==============================] - 0s 8ms/step - loss: 7.1907 - accuracy: 0.4208 - auc_12: 0.7567 - val_loss: 7.6587 - val_accuracy: 0.3303 - val_auc_12: 0.7147\n",
      "Epoch 12/100\n",
      "48/48 [==============================] - 0s 8ms/step - loss: 7.1579 - accuracy: 0.4208 - auc_12: 0.7573 - val_loss: 7.6264 - val_accuracy: 0.3303 - val_auc_12: 0.7116\n",
      "Epoch 13/100\n",
      "48/48 [==============================] - 0s 8ms/step - loss: 7.1226 - accuracy: 0.4208 - auc_12: 0.7566 - val_loss: 7.5919 - val_accuracy: 0.3303 - val_auc_12: 0.7106\n",
      "Epoch 14/100\n",
      "48/48 [==============================] - 0s 8ms/step - loss: 7.0842 - accuracy: 0.4208 - auc_12: 0.7992 - val_loss: 7.5547 - val_accuracy: 0.3303 - val_auc_12: 0.7870\n",
      "Epoch 15/100\n",
      "48/48 [==============================] - 0s 8ms/step - loss: 7.0428 - accuracy: 0.4208 - auc_12: 0.8430 - val_loss: 7.5151 - val_accuracy: 0.3303 - val_auc_12: 0.7906\n",
      "Epoch 16/100\n",
      "48/48 [==============================] - 0s 8ms/step - loss: 6.9981 - accuracy: 0.4208 - auc_12: 0.8434 - val_loss: 7.4719 - val_accuracy: 0.3303 - val_auc_12: 0.7891\n",
      "Epoch 17/100\n",
      "48/48 [==============================] - 0s 8ms/step - loss: 6.9496 - accuracy: 0.4208 - auc_12: 0.8423 - val_loss: 7.4255 - val_accuracy: 0.3303 - val_auc_12: 0.7889\n",
      "Epoch 18/100\n",
      "48/48 [==============================] - 0s 8ms/step - loss: 6.8973 - accuracy: 0.4208 - auc_12: 0.8422 - val_loss: 7.3763 - val_accuracy: 0.3303 - val_auc_12: 0.7888\n",
      "Epoch 19/100\n",
      "48/48 [==============================] - 0s 8ms/step - loss: 6.8414 - accuracy: 0.4208 - auc_12: 0.8420 - val_loss: 7.3239 - val_accuracy: 0.3303 - val_auc_12: 0.7875\n",
      "Epoch 20/100\n",
      "48/48 [==============================] - 0s 8ms/step - loss: 6.7819 - accuracy: 0.4208 - auc_12: 0.8436 - val_loss: 7.2686 - val_accuracy: 0.3303 - val_auc_12: 0.7875\n",
      "Epoch 21/100\n",
      "48/48 [==============================] - 0s 8ms/step - loss: 6.7187 - accuracy: 0.4208 - auc_12: 0.8470 - val_loss: 7.2107 - val_accuracy: 0.3303 - val_auc_12: 0.7895\n",
      "Epoch 22/100\n",
      "48/48 [==============================] - 0s 8ms/step - loss: 6.6517 - accuracy: 0.4208 - auc_12: 0.8528 - val_loss: 7.1504 - val_accuracy: 0.3303 - val_auc_12: 0.7899\n",
      "Epoch 23/100\n",
      "48/48 [==============================] - 0s 8ms/step - loss: 6.5813 - accuracy: 0.4208 - auc_12: 0.8528 - val_loss: 7.0865 - val_accuracy: 0.3303 - val_auc_12: 0.7885\n",
      "Epoch 24/100\n",
      "48/48 [==============================] - 0s 8ms/step - loss: 6.5074 - accuracy: 0.4208 - auc_12: 0.8547 - val_loss: 7.0207 - val_accuracy: 0.3303 - val_auc_12: 0.7866\n",
      "Epoch 25/100\n",
      "48/48 [==============================] - 0s 8ms/step - loss: 6.4304 - accuracy: 0.4208 - auc_12: 0.8571 - val_loss: 6.9519 - val_accuracy: 0.3303 - val_auc_12: 0.7866\n",
      "Epoch 26/100\n",
      "48/48 [==============================] - 0s 8ms/step - loss: 6.3502 - accuracy: 0.4208 - auc_12: 0.8564 - val_loss: 6.8811 - val_accuracy: 0.3303 - val_auc_12: 0.7871\n",
      "Epoch 27/100\n",
      "48/48 [==============================] - 0s 8ms/step - loss: 6.2673 - accuracy: 0.4208 - auc_12: 0.8571 - val_loss: 6.8083 - val_accuracy: 0.3303 - val_auc_12: 0.7905\n",
      "Epoch 28/100\n",
      "48/48 [==============================] - 0s 8ms/step - loss: 6.1817 - accuracy: 0.4208 - auc_12: 0.8595 - val_loss: 6.7336 - val_accuracy: 0.3303 - val_auc_12: 0.7970\n",
      "Epoch 29/100\n",
      "48/48 [==============================] - 0s 8ms/step - loss: 6.0937 - accuracy: 0.4208 - auc_12: 0.8614 - val_loss: 6.6575 - val_accuracy: 0.3303 - val_auc_12: 0.7974\n",
      "Epoch 30/100\n",
      "48/48 [==============================] - 0s 8ms/step - loss: 6.0040 - accuracy: 0.4208 - auc_12: 0.8636 - val_loss: 6.5806 - val_accuracy: 0.3303 - val_auc_12: 0.7981\n",
      "Epoch 31/100\n",
      "48/48 [==============================] - 0s 8ms/step - loss: 5.9128 - accuracy: 0.4208 - auc_12: 0.8660 - val_loss: 6.5033 - val_accuracy: 0.3303 - val_auc_12: 0.7928\n",
      "Epoch 32/100\n",
      "48/48 [==============================] - 0s 8ms/step - loss: 5.8204 - accuracy: 0.4208 - auc_12: 0.8674 - val_loss: 6.4255 - val_accuracy: 0.3303 - val_auc_12: 0.7774\n",
      "Epoch 33/100\n",
      "48/48 [==============================] - 0s 8ms/step - loss: 5.7274 - accuracy: 0.4208 - auc_12: 0.8689 - val_loss: 6.3469 - val_accuracy: 0.3303 - val_auc_12: 0.7790\n",
      "Epoch 34/100\n",
      "48/48 [==============================] - 0s 8ms/step - loss: 5.6341 - accuracy: 0.4208 - auc_12: 0.8694 - val_loss: 6.2702 - val_accuracy: 0.3303 - val_auc_12: 0.7817\n",
      "Epoch 35/100\n",
      "48/48 [==============================] - 0s 8ms/step - loss: 5.5411 - accuracy: 0.4208 - auc_12: 0.8701 - val_loss: 6.1944 - val_accuracy: 0.3303 - val_auc_12: 0.7806\n",
      "Epoch 36/100\n",
      "48/48 [==============================] - 0s 8ms/step - loss: 5.4483 - accuracy: 0.4208 - auc_12: 0.8701 - val_loss: 6.1190 - val_accuracy: 0.3303 - val_auc_12: 0.7800\n",
      "Epoch 37/100\n",
      "48/48 [==============================] - 0s 8ms/step - loss: 5.3566 - accuracy: 0.4208 - auc_12: 0.8709 - val_loss: 6.0461 - val_accuracy: 0.3303 - val_auc_12: 0.7819\n",
      "Epoch 38/100\n",
      "48/48 [==============================] - 0s 8ms/step - loss: 5.2665 - accuracy: 0.4208 - auc_12: 0.8701 - val_loss: 5.9751 - val_accuracy: 0.3303 - val_auc_12: 0.7844\n",
      "Epoch 39/100\n",
      "48/48 [==============================] - 0s 8ms/step - loss: 5.1782 - accuracy: 0.4208 - auc_12: 0.8684 - val_loss: 5.9073 - val_accuracy: 0.3303 - val_auc_12: 0.7851\n",
      "Epoch 40/100\n",
      "48/48 [==============================] - 0s 8ms/step - loss: 5.0926 - accuracy: 0.4208 - auc_12: 0.8693 - val_loss: 5.8427 - val_accuracy: 0.3303 - val_auc_12: 0.7834\n",
      "Epoch 41/100\n",
      "48/48 [==============================] - 0s 8ms/step - loss: 5.0101 - accuracy: 0.4208 - auc_12: 0.8697 - val_loss: 5.7818 - val_accuracy: 0.3303 - val_auc_12: 0.7859\n",
      "Epoch 42/100\n",
      "48/48 [==============================] - 0s 8ms/step - loss: 4.9312 - accuracy: 0.4208 - auc_12: 0.8689 - val_loss: 5.7244 - val_accuracy: 0.3303 - val_auc_12: 0.7898\n",
      "Epoch 43/100\n",
      "48/48 [==============================] - 0s 8ms/step - loss: 4.8561 - accuracy: 0.4208 - auc_12: 0.8696 - val_loss: 5.6709 - val_accuracy: 0.3303 - val_auc_12: 0.7844\n",
      "Epoch 44/100\n",
      "48/48 [==============================] - 0s 8ms/step - loss: 4.7854 - accuracy: 0.4208 - auc_12: 0.8708 - val_loss: 5.6238 - val_accuracy: 0.3303 - val_auc_12: 0.7725\n",
      "Epoch 45/100\n",
      "48/48 [==============================] - 0s 8ms/step - loss: 4.7196 - accuracy: 0.4208 - auc_12: 0.8714 - val_loss: 5.5804 - val_accuracy: 0.3303 - val_auc_12: 0.7727\n",
      "Epoch 46/100\n"
     ]
    },
    {
     "name": "stdout",
     "output_type": "stream",
     "text": [
      "48/48 [==============================] - 0s 8ms/step - loss: 4.6586 - accuracy: 0.4208 - auc_12: 0.8723 - val_loss: 5.5432 - val_accuracy: 0.3303 - val_auc_12: 0.7739\n",
      "Epoch 47/100\n",
      "48/48 [==============================] - 0s 8ms/step - loss: 4.6031 - accuracy: 0.4208 - auc_12: 0.8726 - val_loss: 5.5116 - val_accuracy: 0.3303 - val_auc_12: 0.7747\n",
      "Epoch 48/100\n",
      "48/48 [==============================] - 0s 8ms/step - loss: 4.5529 - accuracy: 0.4208 - auc_12: 0.8721 - val_loss: 5.4851 - val_accuracy: 0.3303 - val_auc_12: 0.7748\n",
      "Epoch 49/100\n",
      "48/48 [==============================] - 0s 8ms/step - loss: 4.5084 - accuracy: 0.4208 - auc_12: 0.8711 - val_loss: 5.4651 - val_accuracy: 0.3303 - val_auc_12: 0.7750\n",
      "Epoch 50/100\n",
      "48/48 [==============================] - 0s 8ms/step - loss: 4.4693 - accuracy: 0.4208 - auc_12: 0.8708 - val_loss: 5.4511 - val_accuracy: 0.3303 - val_auc_12: 0.7771\n",
      "Epoch 51/100\n",
      "48/48 [==============================] - 0s 8ms/step - loss: 4.4356 - accuracy: 0.4208 - auc_12: 0.8705 - val_loss: 5.4412 - val_accuracy: 0.3303 - val_auc_12: 0.7788\n",
      "Epoch 52/100\n",
      "48/48 [==============================] - 0s 8ms/step - loss: 4.4074 - accuracy: 0.4208 - auc_12: 0.8694 - val_loss: 5.4376 - val_accuracy: 0.3303 - val_auc_12: 0.7803\n",
      "Epoch 53/100\n",
      "48/48 [==============================] - 0s 8ms/step - loss: 4.3839 - accuracy: 0.4208 - auc_12: 0.8691 - val_loss: 5.4393 - val_accuracy: 0.3303 - val_auc_12: 0.7833\n",
      "Epoch 54/100\n",
      "48/48 [==============================] - 0s 8ms/step - loss: 4.3656 - accuracy: 0.4208 - auc_12: 0.8681 - val_loss: 5.4460 - val_accuracy: 0.3303 - val_auc_12: 0.7869\n",
      "Epoch 55/100\n",
      "48/48 [==============================] - 0s 8ms/step - loss: 4.3516 - accuracy: 0.4208 - auc_12: 0.8679 - val_loss: 5.4564 - val_accuracy: 0.3303 - val_auc_12: 0.7912\n",
      "Epoch 56/100\n",
      "48/48 [==============================] - 0s 8ms/step - loss: 4.3417 - accuracy: 0.4208 - auc_12: 0.8674 - val_loss: 5.4723 - val_accuracy: 0.3303 - val_auc_12: 0.7921\n",
      "Epoch 57/100\n",
      "48/48 [==============================] - 0s 8ms/step - loss: 4.3361 - accuracy: 0.4208 - auc_12: 0.8652 - val_loss: 5.4916 - val_accuracy: 0.3303 - val_auc_12: 0.7923\n",
      "Epoch 58/100\n",
      "48/48 [==============================] - 0s 8ms/step - loss: 4.3333 - accuracy: 0.4208 - auc_12: 0.8648 - val_loss: 5.5139 - val_accuracy: 0.3303 - val_auc_12: 0.7941\n",
      "Epoch 59/100\n",
      "48/48 [==============================] - 0s 8ms/step - loss: 4.3345 - accuracy: 0.4208 - auc_12: 0.8637 - val_loss: 5.5401 - val_accuracy: 0.3303 - val_auc_12: 0.7967\n",
      "Epoch 60/100\n",
      "48/48 [==============================] - 0s 8ms/step - loss: 4.3380 - accuracy: 0.4208 - auc_12: 0.8629 - val_loss: 5.5686 - val_accuracy: 0.3303 - val_auc_12: 0.7977\n",
      "Epoch 61/100\n",
      "48/48 [==============================] - 0s 8ms/step - loss: 4.3443 - accuracy: 0.4208 - auc_12: 0.8616 - val_loss: 5.6001 - val_accuracy: 0.3303 - val_auc_12: 0.7984\n",
      "Epoch 62/100\n",
      "48/48 [==============================] - 0s 8ms/step - loss: 4.3532 - accuracy: 0.4208 - auc_12: 0.8597 - val_loss: 5.6350 - val_accuracy: 0.3303 - val_auc_12: 0.7995\n",
      "Epoch 63/100\n",
      "48/48 [==============================] - 0s 8ms/step - loss: 4.3643 - accuracy: 0.4208 - auc_12: 0.8596 - val_loss: 5.6710 - val_accuracy: 0.3303 - val_auc_12: 0.8007\n",
      "Epoch 64/100\n",
      "48/48 [==============================] - 0s 8ms/step - loss: 4.3770 - accuracy: 0.4208 - auc_12: 0.8581 - val_loss: 5.7102 - val_accuracy: 0.3303 - val_auc_12: 0.8006\n",
      "Epoch 65/100\n",
      "48/48 [==============================] - 0s 8ms/step - loss: 4.3924 - accuracy: 0.4208 - auc_12: 0.8553 - val_loss: 5.7509 - val_accuracy: 0.3303 - val_auc_12: 0.7991\n",
      "Epoch 66/100\n",
      "48/48 [==============================] - 0s 8ms/step - loss: 4.4086 - accuracy: 0.4208 - auc_12: 0.8531 - val_loss: 5.7936 - val_accuracy: 0.3303 - val_auc_12: 0.7975\n",
      "Epoch 67/100\n",
      "48/48 [==============================] - 0s 8ms/step - loss: 4.4265 - accuracy: 0.4208 - auc_12: 0.8527 - val_loss: 5.8377 - val_accuracy: 0.3303 - val_auc_12: 0.7966\n",
      "Epoch 68/100\n",
      "48/48 [==============================] - 0s 8ms/step - loss: 4.4461 - accuracy: 0.4208 - auc_12: 0.8519 - val_loss: 5.8841 - val_accuracy: 0.3303 - val_auc_12: 0.7960\n",
      "Epoch 69/100\n",
      "48/48 [==============================] - 0s 8ms/step - loss: 4.4670 - accuracy: 0.4208 - auc_12: 0.8517 - val_loss: 5.9317 - val_accuracy: 0.3303 - val_auc_12: 0.7960\n",
      "Epoch 70/100\n",
      "48/48 [==============================] - 0s 8ms/step - loss: 4.4892 - accuracy: 0.4208 - auc_12: 0.8504 - val_loss: 5.9816 - val_accuracy: 0.3303 - val_auc_12: 0.7962\n",
      "Epoch 71/100\n",
      "48/48 [==============================] - 0s 8ms/step - loss: 4.5125 - accuracy: 0.4208 - auc_12: 0.8493 - val_loss: 6.0332 - val_accuracy: 0.3303 - val_auc_12: 0.7966\n",
      "Epoch 72/100\n",
      "48/48 [==============================] - 0s 8ms/step - loss: 4.5375 - accuracy: 0.4208 - auc_12: 0.8477 - val_loss: 6.0854 - val_accuracy: 0.3303 - val_auc_12: 0.7976\n",
      "Epoch 73/100\n",
      "48/48 [==============================] - 0s 8ms/step - loss: 4.5630 - accuracy: 0.4208 - auc_12: 0.8466 - val_loss: 6.1402 - val_accuracy: 0.3303 - val_auc_12: 0.7987\n",
      "Epoch 74/100\n",
      "48/48 [==============================] - 0s 8ms/step - loss: 4.5896 - accuracy: 0.4208 - auc_12: 0.8461 - val_loss: 6.1963 - val_accuracy: 0.3303 - val_auc_12: 0.7997\n",
      "Epoch 75/100\n",
      "48/48 [==============================] - 0s 8ms/step - loss: 4.6181 - accuracy: 0.4208 - auc_12: 0.8459 - val_loss: 6.2535 - val_accuracy: 0.3303 - val_auc_12: 0.8000\n",
      "Epoch 76/100\n",
      "48/48 [==============================] - 0s 8ms/step - loss: 4.6466 - accuracy: 0.4208 - auc_12: 0.8460 - val_loss: 6.3135 - val_accuracy: 0.3303 - val_auc_12: 0.8004\n",
      "Epoch 77/100\n",
      "48/48 [==============================] - 0s 8ms/step - loss: 4.6760 - accuracy: 0.4208 - auc_12: 0.8461 - val_loss: 6.3725 - val_accuracy: 0.3303 - val_auc_12: 0.8014\n",
      "Epoch 78/100\n",
      "48/48 [==============================] - 0s 8ms/step - loss: 4.7067 - accuracy: 0.4208 - auc_12: 0.8460 - val_loss: 6.4350 - val_accuracy: 0.3303 - val_auc_12: 0.8024\n",
      "Epoch 79/100\n",
      "48/48 [==============================] - 0s 8ms/step - loss: 4.7386 - accuracy: 0.4208 - auc_12: 0.8446 - val_loss: 6.4995 - val_accuracy: 0.3303 - val_auc_12: 0.8029\n",
      "Epoch 80/100\n",
      "48/48 [==============================] - 0s 8ms/step - loss: 4.7721 - accuracy: 0.4208 - auc_12: 0.8432 - val_loss: 6.5653 - val_accuracy: 0.3303 - val_auc_12: 0.8033\n",
      "Epoch 81/100\n",
      "48/48 [==============================] - 0s 8ms/step - loss: 4.8054 - accuracy: 0.4208 - auc_12: 0.8422 - val_loss: 6.6324 - val_accuracy: 0.3303 - val_auc_12: 0.8020\n",
      "Epoch 82/100\n",
      "48/48 [==============================] - 0s 8ms/step - loss: 4.8395 - accuracy: 0.4208 - auc_12: 0.8411 - val_loss: 6.7012 - val_accuracy: 0.3303 - val_auc_12: 0.7937\n",
      "Epoch 83/100\n",
      "48/48 [==============================] - 0s 8ms/step - loss: 4.8765 - accuracy: 0.4208 - auc_12: 0.8397 - val_loss: 6.7727 - val_accuracy: 0.3303 - val_auc_12: 0.7821\n",
      "Epoch 84/100\n",
      "48/48 [==============================] - 0s 8ms/step - loss: 4.9120 - accuracy: 0.4208 - auc_12: 0.8396 - val_loss: 6.8446 - val_accuracy: 0.3303 - val_auc_12: 0.7750\n",
      "Epoch 85/100\n",
      "48/48 [==============================] - 0s 8ms/step - loss: 4.9494 - accuracy: 0.4208 - auc_12: 0.8389 - val_loss: 6.9181 - val_accuracy: 0.3303 - val_auc_12: 0.7682\n",
      "Epoch 86/100\n",
      "48/48 [==============================] - 0s 8ms/step - loss: 4.9876 - accuracy: 0.4208 - auc_12: 0.8381 - val_loss: 6.9946 - val_accuracy: 0.3303 - val_auc_12: 0.7632\n",
      "Epoch 87/100\n",
      "48/48 [==============================] - 0s 8ms/step - loss: 5.0270 - accuracy: 0.4208 - auc_12: 0.8373 - val_loss: 7.0724 - val_accuracy: 0.3303 - val_auc_12: 0.7578\n",
      "Epoch 88/100\n",
      "48/48 [==============================] - 0s 8ms/step - loss: 5.0668 - accuracy: 0.4208 - auc_12: 0.8361 - val_loss: 7.1525 - val_accuracy: 0.3303 - val_auc_12: 0.7542\n",
      "Epoch 89/100\n",
      "48/48 [==============================] - 0s 8ms/step - loss: 5.1083 - accuracy: 0.4208 - auc_12: 0.8336 - val_loss: 7.2339 - val_accuracy: 0.3303 - val_auc_12: 0.7526\n",
      "Epoch 90/100\n",
      "48/48 [==============================] - 0s 8ms/step - loss: 5.1506 - accuracy: 0.4208 - auc_12: 0.8322 - val_loss: 7.3179 - val_accuracy: 0.3303 - val_auc_12: 0.7510\n",
      "Epoch 91/100\n"
     ]
    },
    {
     "name": "stdout",
     "output_type": "stream",
     "text": [
      "48/48 [==============================] - 0s 8ms/step - loss: 5.1938 - accuracy: 0.4208 - auc_12: 0.8313 - val_loss: 7.4029 - val_accuracy: 0.3303 - val_auc_12: 0.7501\n",
      "Epoch 92/100\n",
      "48/48 [==============================] - 0s 8ms/step - loss: 5.2381 - accuracy: 0.4208 - auc_12: 0.8308 - val_loss: 7.4901 - val_accuracy: 0.3303 - val_auc_12: 0.7494\n",
      "Epoch 93/100\n",
      "48/48 [==============================] - 0s 8ms/step - loss: 5.2827 - accuracy: 0.4208 - auc_12: 0.8302 - val_loss: 7.5786 - val_accuracy: 0.3303 - val_auc_12: 0.7489\n",
      "Epoch 94/100\n",
      "48/48 [==============================] - 0s 8ms/step - loss: 5.3275 - accuracy: 0.4208 - auc_12: 0.8298 - val_loss: 7.6686 - val_accuracy: 0.3303 - val_auc_12: 0.7491\n",
      "Epoch 95/100\n",
      "48/48 [==============================] - 0s 8ms/step - loss: 5.3745 - accuracy: 0.4208 - auc_12: 0.8290 - val_loss: 7.7597 - val_accuracy: 0.3303 - val_auc_12: 0.7493\n",
      "Epoch 96/100\n",
      "48/48 [==============================] - 0s 8ms/step - loss: 5.4202 - accuracy: 0.4208 - auc_12: 0.8282 - val_loss: 7.8533 - val_accuracy: 0.3303 - val_auc_12: 0.7490\n",
      "Epoch 97/100\n",
      "48/48 [==============================] - 0s 8ms/step - loss: 5.4688 - accuracy: 0.4208 - auc_12: 0.8277 - val_loss: 7.9510 - val_accuracy: 0.3303 - val_auc_12: 0.7492\n",
      "Epoch 98/100\n",
      "48/48 [==============================] - 0s 8ms/step - loss: 5.5173 - accuracy: 0.4208 - auc_12: 0.8266 - val_loss: 8.0486 - val_accuracy: 0.3303 - val_auc_12: 0.7495\n",
      "Epoch 99/100\n",
      "48/48 [==============================] - 0s 8ms/step - loss: 5.5687 - accuracy: 0.4208 - auc_12: 0.8257 - val_loss: 8.1509 - val_accuracy: 0.3303 - val_auc_12: 0.7498\n",
      "Epoch 100/100\n",
      "48/48 [==============================] - 0s 9ms/step - loss: 5.6187 - accuracy: 0.4208 - auc_12: 0.8249 - val_loss: 8.2540 - val_accuracy: 0.3303 - val_auc_12: 0.7497\n"
     ]
    }
   ],
   "source": [
    "num_epoch = 100\n",
    "batch_size = 128\n",
    "\n",
    "with tf.device(device):\n",
    "    optimizer = tf.keras.optimizers.Adam(learning_rate=3e-5)\n",
    "    criterion = tf.keras.losses.CategoricalCrossentropy()\n",
    "    metrics = ['accuracy', tf.keras.metrics.AUC()]\n",
    "    model.compile(optimizer=optimizer, loss=criterion, metrics=metrics)\n",
    "    history = model.fit(training_padded, training_labels, batch_size=batch_size,\n",
    "                        epochs=num_epoch, verbose=1, validation_split=0.3)"
   ]
  },
  {
   "cell_type": "code",
   "execution_count": 59,
   "id": "fdc6b801",
   "metadata": {},
   "outputs": [
    {
     "data": {
      "image/png": "[encoded data removed]",
      "text/plain": [
       "<Figure size 432x288 with 1 Axes>"
      ]
     },
     "metadata": {
      "needs_background": "light"
     },
     "output_type": "display_data"
    },
    {
     "data": {
      "image/png": "[encoded data removed]",
      "text/plain": [
       "<Figure size 432x288 with 1 Axes>"
      ]
     },
     "metadata": {
      "needs_background": "light"
     },
     "output_type": "display_data"
    },
    {
     "data": {
      "image/png": "[encoded data removed]",
      "text/plain": [
       "<Figure size 432x288 with 1 Axes>"
      ]
     },
     "metadata": {
      "needs_background": "light"
     },
     "output_type": "display_data"
    }
   ],
   "source": [
    "def plot_graphs(history, string):\n",
    "    plt.plot(history.history[string])\n",
    "    plt.plot(history.history['val_'+string])\n",
    "    plt.xlabel(\"Epochs\")\n",
    "    plt.ylabel(string)\n",
    "    plt.legend([string, 'val_'+string])\n",
    "    plt.show()\n",
    "\n",
    "for metric in model.metrics_names:\n",
    "    plot_graphs(history, metric)"
   ]
  },
  {
   "cell_type": "markdown",
   "id": "29b92a05",
   "metadata": {},
   "source": [
    "Tokenizer -> [Indobert](https://huggingface.co/indobenchmark/indobert-base-p1)\n",
    "[Class weight](https://www.kaggle.com/rodsaldanha/multilabel-category-prediction/notebook#Deep-Learning)</br>\n",
    "Learning rate -> Coursera Course</br>\n",
    "[Model architecture](https://ieeexplore.ieee.org/abstract/document/8723320)</br>\n",
    "https://stackoverflow.com/questions/38387913/reason-of-having-high-auc-and-low-accuracy-in-a-balanced-dataset"
   ]
  }
 ],
 "metadata": {
  "kernelspec": {
   "display_name": "TensorFlow",
   "language": "python",
   "name": "tf"
  },
  "language_info": {
   "codemirror_mode": {
    "name": "ipython",
    "version": 3
   },
   "file_extension": ".py",
   "mimetype": "text/x-python",
   "name": "python",
   "nbconvert_exporter": "python",
   "pygments_lexer": "ipython3",
   "version": "3.8.8"
  }
 },
 "nbformat": 4,
 "nbformat_minor": 5
}
