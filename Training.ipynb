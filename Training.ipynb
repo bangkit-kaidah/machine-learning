{
 "cells": [
  {
   "cell_type": "code",
   "execution_count": 232,
   "id": "89efcc41",
   "metadata": {},
   "outputs": [],
   "source": [
    "import pandas as pd\n",
    "import numpy as np\n",
    "import tensorflow as tf\n",
    "import matplotlib.pyplot as plt\n",
    "import os\n",
    "from transformers import BertTokenizer\n",
    "from tensorflow.keras.preprocessing.sequence import pad_sequences"
   ]
  },
  {
   "cell_type": "code",
   "execution_count": 30,
   "id": "018880c4",
   "metadata": {},
   "outputs": [
    {
     "data": {
      "text/plain": [
       "'/GPU:0'"
      ]
     },
     "execution_count": 30,
     "metadata": {},
     "output_type": "execute_result"
    }
   ],
   "source": [
    "device = '/GPU:0' if len(tf.config.list_physical_devices('GPU')) > 0 else '/CPU:0'\n",
    "device"
   ]
  },
  {
   "cell_type": "markdown",
   "id": "76643dcf",
   "metadata": {},
   "source": [
    "# Load Data"
   ]
  },
  {
   "cell_type": "code",
   "execution_count": 94,
   "id": "19fe1634",
   "metadata": {},
   "outputs": [
    {
     "name": "stdout",
     "output_type": "stream",
     "text": [
      "Shape: (8795, 55)\n"
     ]
    }
   ],
   "source": [
    "training_dataset_path = 'data/training_dataset.csv'\n",
    "training_df = pd.read_csv(training_dataset_path)\n",
    "print(\"Shape:\", training_df.shape)"
   ]
  },
  {
   "cell_type": "code",
   "execution_count": 112,
   "id": "0078c7f8",
   "metadata": {},
   "outputs": [
    {
     "name": "stdout",
     "output_type": "stream",
     "text": [
      "Number of classes: 54\n"
     ]
    }
   ],
   "source": [
    "training_text = training_df['Title']\n",
    "features = training_df.columns[1:]\n",
    "training_labels = training_df[features]\n",
    "num_classes = len(features)\n",
    "print(\"Number of classes:\", num_classes)"
   ]
  },
  {
   "cell_type": "markdown",
   "id": "cfdde76f",
   "metadata": {},
   "source": [
    "# Transform"
   ]
  },
  {
   "cell_type": "markdown",
   "id": "535d2a8a",
   "metadata": {},
   "source": [
    "## Tokenize"
   ]
  },
  {
   "cell_type": "code",
   "execution_count": 98,
   "id": "e0e3bfb5",
   "metadata": {},
   "outputs": [
    {
     "name": "stdout",
     "output_type": "stream",
     "text": [
      "Number of vocabulary: 30521\n"
     ]
    }
   ],
   "source": [
    "# create indobert tokenizer instance\n",
    "tokenizer = BertTokenizer.from_pretrained(\"indobenchmark/indobert-base-p1\")\n",
    "vocab_size = len(tokenizer.vocab.keys())\n",
    "print(\"Number of vocabulary:\", vocab_size)"
   ]
  },
  {
   "cell_type": "code",
   "execution_count": 147,
   "id": "43f2d170",
   "metadata": {},
   "outputs": [
    {
     "name": "stdout",
     "output_type": "stream",
     "text": [
      "Real sentence:\n",
      " tetap wewenang direktur jender anggar imbang uang direktur jender bendahara serta wewenang kepala kantor instansi vertik direktorat jender bendahara rangka laksana anggar dapat belanja negara tahun anggar\n",
      "Tokenized sentence:\n",
      " [2, 830, 8517, 4726, 4796, 22931, 30359, 11907, 988, 4726, 4796, 14272, 501, 8517, 1179, 1571, 5288, 8858, 39, 9170, 4796, 14272, 3489, 18303, 22931, 30359, 173, 3866, 664, 262, 22931, 30359, 3]\n"
     ]
    }
   ],
   "source": [
    "# tokenize the title\n",
    "training_sequences = training_text.apply(lambda sequence: tokenizer.encode(sequence))\n",
    "print(\"Real sentence:\\n\", training_text[4444])\n",
    "print(\"Tokenized sentence:\\n\", training_sequences[4444])"
   ]
  },
  {
   "cell_type": "markdown",
   "id": "2fbb2f90",
   "metadata": {},
   "source": [
    "## Padding"
   ]
  },
  {
   "cell_type": "code",
   "execution_count": 148,
   "id": "7c1bb1fb",
   "metadata": {},
   "outputs": [
    {
     "name": "stdout",
     "output_type": "stream",
     "text": [
      "Shape: (100,)\n"
     ]
    }
   ],
   "source": [
    "max_length = 100\n",
    "padded_sequences = pad_sequences(training_sequences, maxlen=max_length)\n",
    "print(\"Shape:\", padded_sequences[4444].shape)"
   ]
  },
  {
   "cell_type": "markdown",
   "id": "54e18d22",
   "metadata": {},
   "source": [
    "## Class Weight"
   ]
  },
  {
   "cell_type": "code",
   "execution_count": 159,
   "id": "39c2bd60",
   "metadata": {},
   "outputs": [
    {
     "data": {
      "text/html": [
       "<div>\n",
       "<style scoped>\n",
       "    .dataframe tbody tr th:only-of-type {\n",
       "        vertical-align: middle;\n",
       "    }\n",
       "\n",
       "    .dataframe tbody tr th {\n",
       "        vertical-align: top;\n",
       "    }\n",
       "\n",
       "    .dataframe thead th {\n",
       "        text-align: right;\n",
       "    }\n",
       "</style>\n",
       "<table border=\"1\" class=\"dataframe\">\n",
       "  <thead>\n",
       "    <tr style=\"text-align: right;\">\n",
       "      <th></th>\n",
       "      <th>class</th>\n",
       "      <th>count</th>\n",
       "      <th>weight</th>\n",
       "    </tr>\n",
       "  </thead>\n",
       "  <tbody>\n",
       "    <tr>\n",
       "      <th>0</th>\n",
       "      <td>Jenis Dan Tarif</td>\n",
       "      <td>52</td>\n",
       "      <td>1.038462</td>\n",
       "    </tr>\n",
       "    <tr>\n",
       "      <th>1</th>\n",
       "      <td>Penerimaan Negara Bukan Pajak</td>\n",
       "      <td>131</td>\n",
       "      <td>0.412214</td>\n",
       "    </tr>\n",
       "    <tr>\n",
       "      <th>2</th>\n",
       "      <td>Pajak Bumi Dan Bangunan</td>\n",
       "      <td>94</td>\n",
       "      <td>0.574468</td>\n",
       "    </tr>\n",
       "    <tr>\n",
       "      <th>3</th>\n",
       "      <td>Kementerian Keuangan</td>\n",
       "      <td>105</td>\n",
       "      <td>0.514286</td>\n",
       "    </tr>\n",
       "    <tr>\n",
       "      <th>4</th>\n",
       "      <td>Perubahan Kedua</td>\n",
       "      <td>162</td>\n",
       "      <td>0.333333</td>\n",
       "    </tr>\n",
       "  </tbody>\n",
       "</table>\n",
       "</div>"
      ],
      "text/plain": [
       "                           class  count    weight\n",
       "0                Jenis Dan Tarif     52  1.038462\n",
       "1  Penerimaan Negara Bukan Pajak    131  0.412214\n",
       "2        Pajak Bumi Dan Bangunan     94  0.574468\n",
       "3           Kementerian Keuangan    105  0.514286\n",
       "4                Perubahan Kedua    162  0.333333"
      ]
     },
     "execution_count": 159,
     "metadata": {},
     "output_type": "execute_result"
    }
   ],
   "source": [
    "class_df = pd.DataFrame()\n",
    "class_df['class'] = training_df.columns[1:]\n",
    "class_df['count'] = training_df.iloc[:, 1:].sum().values\n",
    "class_df['weight'] = len(class_df) / class_df['count']\n",
    "class_df.head()"
   ]
  },
  {
   "cell_type": "code",
   "execution_count": 165,
   "id": "8be4a876",
   "metadata": {},
   "outputs": [],
   "source": [
    "class_names = class_df['class'].values\n",
    "class_weight = {}\n",
    "for index, class_name in enumerate(class_names):\n",
    "    class_weight[index] = class_df[class_df['class'] == class_names]['weight'].values[0]"
   ]
  },
  {
   "cell_type": "markdown",
   "id": "565f6922",
   "metadata": {},
   "source": [
    "# Model"
   ]
  },
  {
   "cell_type": "markdown",
   "id": "875c1058",
   "metadata": {},
   "source": [
    "## Create Model"
   ]
  },
  {
   "cell_type": "code",
   "execution_count": 223,
   "id": "89bdf3df",
   "metadata": {},
   "outputs": [],
   "source": [
    "embedding_dimensions = 64\n",
    "\n",
    "model = tf.keras.Sequential()\n",
    "model.add(tf.keras.layers.Embedding(vocab_size, embedding_dimensions, input_length=max_length))\n",
    "model.add(tf.keras.layers.Dropout(.13))\n",
    "model.add(tf.keras.layers.GlobalAveragePooling1D())\n",
    "model.add(tf.keras.layers.Dense(128, activation='relu'))\n",
    "model.add(tf.keras.layers.Dense(num_classes, activation='sigmoid'))"
   ]
  },
  {
   "cell_type": "code",
   "execution_count": 224,
   "id": "753f16b3",
   "metadata": {},
   "outputs": [
    {
     "name": "stdout",
     "output_type": "stream",
     "text": [
      "Model: \"sequential_3\"\n",
      "_________________________________________________________________\n",
      "Layer (type)                 Output Shape              Param #   \n",
      "=================================================================\n",
      "embedding_12 (Embedding)     (None, 100, 64)           1953344   \n",
      "_________________________________________________________________\n",
      "dropout_2 (Dropout)          (None, 100, 64)           0         \n",
      "_________________________________________________________________\n",
      "global_average_pooling1d_12  (None, 64)                0         \n",
      "_________________________________________________________________\n",
      "dense_24 (Dense)             (None, 128)               8320      \n",
      "_________________________________________________________________\n",
      "dense_25 (Dense)             (None, 54)                6966      \n",
      "=================================================================\n",
      "Total params: 1,968,630\n",
      "Trainable params: 1,968,630\n",
      "Non-trainable params: 0\n",
      "_________________________________________________________________\n"
     ]
    }
   ],
   "source": [
    "# compile model\n",
    "optimizer = tf.keras.optimizers.Adam(3e-5)\n",
    "metrics = ['accuracy', tf.keras.metrics.AUC(name='auc')]\n",
    "model.compile(optimizer=optimizer, loss='binary_crossentropy', metrics=metrics)\n",
    "model.summary()"
   ]
  },
  {
   "cell_type": "markdown",
   "id": "2873e109",
   "metadata": {},
   "source": [
    "## Training"
   ]
  },
  {
   "cell_type": "code",
   "execution_count": 225,
   "id": "fac5f6f9",
   "metadata": {},
   "outputs": [],
   "source": [
    "# reduce learning rate and save model\n",
    "saved_model_path = 'kaidah_model.h5'\n",
    "callbacks = [tf.keras.callbacks.ReduceLROnPlateau(), \n",
    "             tf.keras.callbacks.ModelCheckpoint(saved_model_path, save_best_only=True)]"
   ]
  },
  {
   "cell_type": "code",
   "execution_count": 226,
   "id": "7e2646cb",
   "metadata": {},
   "outputs": [
    {
     "name": "stdout",
     "output_type": "stream",
     "text": [
      "Epoch 1/100\n",
      "49/49 [==============================] - 2s 30ms/step - loss: 0.7199 - accuracy: 0.0140 - auc: 0.3022 - val_loss: 0.6916 - val_accuracy: 0.0011 - val_auc: 0.3607\n",
      "Epoch 2/100\n",
      "49/49 [==============================] - 1s 27ms/step - loss: 0.7162 - accuracy: 0.0242 - auc: 0.5706 - val_loss: 0.6882 - val_accuracy: 0.0011 - val_auc: 0.5237\n",
      "Epoch 3/100\n",
      "49/49 [==============================] - 1s 27ms/step - loss: 0.7123 - accuracy: 0.0281 - auc: 0.7378 - val_loss: 0.6843 - val_accuracy: 0.0083 - val_auc: 0.6703\n",
      "Epoch 4/100\n",
      "49/49 [==============================] - 1s 30ms/step - loss: 0.7077 - accuracy: 0.3161 - auc: 0.8354 - val_loss: 0.6795 - val_accuracy: 0.2793 - val_auc: 0.6783\n",
      "Epoch 5/100\n",
      "49/49 [==============================] - 1s 30ms/step - loss: 0.7021 - accuracy: 0.6153 - auc: 0.8499 - val_loss: 0.6740 - val_accuracy: 0.2793 - val_auc: 0.6869\n",
      "Epoch 6/100\n",
      "49/49 [==============================] - 2s 31ms/step - loss: 0.6956 - accuracy: 0.6153 - auc: 0.8475 - val_loss: 0.6676 - val_accuracy: 0.2793 - val_auc: 0.6867\n",
      "Epoch 7/100\n",
      "49/49 [==============================] - 1s 29ms/step - loss: 0.6881 - accuracy: 0.6153 - auc: 0.8497 - val_loss: 0.6601 - val_accuracy: 0.2793 - val_auc: 0.6875\n",
      "Epoch 8/100\n",
      "49/49 [==============================] - 1s 27ms/step - loss: 0.6793 - accuracy: 0.6153 - auc: 0.8489 - val_loss: 0.6514 - val_accuracy: 0.2793 - val_auc: 0.6873\n",
      "Epoch 9/100\n",
      "49/49 [==============================] - 1s 27ms/step - loss: 0.6690 - accuracy: 0.6153 - auc: 0.8485 - val_loss: 0.6410 - val_accuracy: 0.2793 - val_auc: 0.6819\n",
      "Epoch 10/100\n",
      "49/49 [==============================] - 1s 27ms/step - loss: 0.6567 - accuracy: 0.6153 - auc: 0.8486 - val_loss: 0.6288 - val_accuracy: 0.2793 - val_auc: 0.6956\n",
      "Epoch 11/100\n",
      "49/49 [==============================] - 1s 26ms/step - loss: 0.6426 - accuracy: 0.6153 - auc: 0.8481 - val_loss: 0.6149 - val_accuracy: 0.2793 - val_auc: 0.6969\n",
      "Epoch 12/100\n",
      "49/49 [==============================] - 1s 28ms/step - loss: 0.6264 - accuracy: 0.6153 - auc: 0.8484 - val_loss: 0.5989 - val_accuracy: 0.2793 - val_auc: 0.7024\n",
      "Epoch 13/100\n",
      "49/49 [==============================] - 1s 28ms/step - loss: 0.6081 - accuracy: 0.6153 - auc: 0.8485 - val_loss: 0.5811 - val_accuracy: 0.2793 - val_auc: 0.7020\n",
      "Epoch 14/100\n",
      "49/49 [==============================] - 1s 27ms/step - loss: 0.5878 - accuracy: 0.6153 - auc: 0.8483 - val_loss: 0.5615 - val_accuracy: 0.2793 - val_auc: 0.7051\n",
      "Epoch 15/100\n",
      "49/49 [==============================] - 1s 28ms/step - loss: 0.5658 - accuracy: 0.6153 - auc: 0.8483 - val_loss: 0.5404 - val_accuracy: 0.2793 - val_auc: 0.7074\n",
      "Epoch 16/100\n",
      "49/49 [==============================] - 1s 28ms/step - loss: 0.5422 - accuracy: 0.6153 - auc: 0.8488 - val_loss: 0.5180 - val_accuracy: 0.2793 - val_auc: 0.7072\n",
      "Epoch 17/100\n",
      "49/49 [==============================] - 1s 27ms/step - loss: 0.5172 - accuracy: 0.6153 - auc: 0.8487 - val_loss: 0.4944 - val_accuracy: 0.2793 - val_auc: 0.7108\n",
      "Epoch 18/100\n",
      "49/49 [==============================] - 1s 26ms/step - loss: 0.4911 - accuracy: 0.6153 - auc: 0.8489 - val_loss: 0.4699 - val_accuracy: 0.2793 - val_auc: 0.7131\n",
      "Epoch 19/100\n",
      "49/49 [==============================] - 1s 27ms/step - loss: 0.4643 - accuracy: 0.6153 - auc: 0.8489 - val_loss: 0.4450 - val_accuracy: 0.2793 - val_auc: 0.7135\n",
      "Epoch 20/100\n",
      "49/49 [==============================] - 1s 26ms/step - loss: 0.4370 - accuracy: 0.6153 - auc: 0.8489 - val_loss: 0.4198 - val_accuracy: 0.2793 - val_auc: 0.7148\n",
      "Epoch 21/100\n",
      "49/49 [==============================] - 1s 27ms/step - loss: 0.4097 - accuracy: 0.6153 - auc: 0.8495 - val_loss: 0.3949 - val_accuracy: 0.2793 - val_auc: 0.7163\n",
      "Epoch 22/100\n",
      "49/49 [==============================] - 1s 26ms/step - loss: 0.3827 - accuracy: 0.6153 - auc: 0.8492 - val_loss: 0.3704 - val_accuracy: 0.2793 - val_auc: 0.7171\n",
      "Epoch 23/100\n",
      "49/49 [==============================] - 1s 27ms/step - loss: 0.3564 - accuracy: 0.6153 - auc: 0.8487 - val_loss: 0.3466 - val_accuracy: 0.2793 - val_auc: 0.7189\n",
      "Epoch 24/100\n",
      "49/49 [==============================] - 1s 26ms/step - loss: 0.3309 - accuracy: 0.6153 - auc: 0.8489 - val_loss: 0.3239 - val_accuracy: 0.2793 - val_auc: 0.7190\n",
      "Epoch 25/100\n",
      "49/49 [==============================] - 1s 26ms/step - loss: 0.3066 - accuracy: 0.6153 - auc: 0.8491 - val_loss: 0.3024 - val_accuracy: 0.2793 - val_auc: 0.7199\n",
      "Epoch 26/100\n",
      "49/49 [==============================] - 1s 26ms/step - loss: 0.2836 - accuracy: 0.6153 - auc: 0.8493 - val_loss: 0.2821 - val_accuracy: 0.2793 - val_auc: 0.7211\n",
      "Epoch 27/100\n",
      "49/49 [==============================] - 1s 27ms/step - loss: 0.2620 - accuracy: 0.6153 - auc: 0.8496 - val_loss: 0.2633 - val_accuracy: 0.2793 - val_auc: 0.7212\n",
      "Epoch 28/100\n",
      "49/49 [==============================] - 2s 31ms/step - loss: 0.2420 - accuracy: 0.6153 - auc: 0.8493 - val_loss: 0.2459 - val_accuracy: 0.2793 - val_auc: 0.7222\n",
      "Epoch 29/100\n",
      "49/49 [==============================] - 1s 31ms/step - loss: 0.2235 - accuracy: 0.6153 - auc: 0.8494 - val_loss: 0.2300 - val_accuracy: 0.2793 - val_auc: 0.7224\n",
      "Epoch 30/100\n",
      "49/49 [==============================] - 2s 33ms/step - loss: 0.2065 - accuracy: 0.6153 - auc: 0.8491 - val_loss: 0.2156 - val_accuracy: 0.2793 - val_auc: 0.7222\n",
      "Epoch 31/100\n",
      "49/49 [==============================] - 2s 31ms/step - loss: 0.1910 - accuracy: 0.6153 - auc: 0.8493 - val_loss: 0.2025 - val_accuracy: 0.2793 - val_auc: 0.7228\n",
      "Epoch 32/100\n",
      "49/49 [==============================] - 2s 32ms/step - loss: 0.1769 - accuracy: 0.6153 - auc: 0.8497 - val_loss: 0.1907 - val_accuracy: 0.2793 - val_auc: 0.7227\n",
      "Epoch 33/100\n",
      "49/49 [==============================] - 2s 33ms/step - loss: 0.1640 - accuracy: 0.6153 - auc: 0.8496 - val_loss: 0.1800 - val_accuracy: 0.2793 - val_auc: 0.7222\n",
      "Epoch 34/100\n",
      "49/49 [==============================] - 2s 31ms/step - loss: 0.1524 - accuracy: 0.6153 - auc: 0.8502 - val_loss: 0.1705 - val_accuracy: 0.2793 - val_auc: 0.7212\n",
      "Epoch 35/100\n",
      "49/49 [==============================] - 2s 32ms/step - loss: 0.1419 - accuracy: 0.6153 - auc: 0.8503 - val_loss: 0.1620 - val_accuracy: 0.2793 - val_auc: 0.7200\n",
      "Epoch 36/100\n",
      "49/49 [==============================] - 2s 33ms/step - loss: 0.1325 - accuracy: 0.6153 - auc: 0.8505 - val_loss: 0.1545 - val_accuracy: 0.2793 - val_auc: 0.7206\n",
      "Epoch 37/100\n",
      "49/49 [==============================] - 2s 31ms/step - loss: 0.1240 - accuracy: 0.6153 - auc: 0.8505 - val_loss: 0.1479 - val_accuracy: 0.2793 - val_auc: 0.7191\n",
      "Epoch 38/100\n",
      "49/49 [==============================] - 1s 30ms/step - loss: 0.1164 - accuracy: 0.6153 - auc: 0.8510 - val_loss: 0.1421 - val_accuracy: 0.2793 - val_auc: 0.7188\n",
      "Epoch 39/100\n",
      "49/49 [==============================] - 2s 31ms/step - loss: 0.1097 - accuracy: 0.6153 - auc: 0.8512 - val_loss: 0.1369 - val_accuracy: 0.2793 - val_auc: 0.7186\n",
      "Epoch 40/100\n",
      "49/49 [==============================] - 1s 30ms/step - loss: 0.1037 - accuracy: 0.6153 - auc: 0.8516 - val_loss: 0.1324 - val_accuracy: 0.2793 - val_auc: 0.7184\n",
      "Epoch 41/100\n",
      "49/49 [==============================] - 2s 32ms/step - loss: 0.0983 - accuracy: 0.6153 - auc: 0.8520 - val_loss: 0.1285 - val_accuracy: 0.2793 - val_auc: 0.7173\n",
      "Epoch 42/100\n",
      "49/49 [==============================] - 2s 32ms/step - loss: 0.0935 - accuracy: 0.6153 - auc: 0.8522 - val_loss: 0.1250 - val_accuracy: 0.2793 - val_auc: 0.7160\n",
      "Epoch 43/100\n",
      "49/49 [==============================] - 1s 31ms/step - loss: 0.0891 - accuracy: 0.6153 - auc: 0.8523 - val_loss: 0.1220 - val_accuracy: 0.2793 - val_auc: 0.7145\n",
      "Epoch 44/100\n",
      "49/49 [==============================] - 1s 31ms/step - loss: 0.0853 - accuracy: 0.6153 - auc: 0.8526 - val_loss: 0.1194 - val_accuracy: 0.2793 - val_auc: 0.7161\n",
      "Epoch 45/100\n",
      "49/49 [==============================] - 1s 30ms/step - loss: 0.0819 - accuracy: 0.6153 - auc: 0.8526 - val_loss: 0.1172 - val_accuracy: 0.2793 - val_auc: 0.7135\n",
      "Epoch 46/100\n",
      "49/49 [==============================] - 1s 30ms/step - loss: 0.0788 - accuracy: 0.6153 - auc: 0.8540 - val_loss: 0.1153 - val_accuracy: 0.2793 - val_auc: 0.7119\n",
      "Epoch 47/100\n",
      "49/49 [==============================] - 1s 30ms/step - loss: 0.0760 - accuracy: 0.6153 - auc: 0.8537 - val_loss: 0.1136 - val_accuracy: 0.2793 - val_auc: 0.7112\n"
     ]
    },
    {
     "name": "stdout",
     "output_type": "stream",
     "text": [
      "Epoch 48/100\n",
      "49/49 [==============================] - 2s 31ms/step - loss: 0.0735 - accuracy: 0.6153 - auc: 0.8540 - val_loss: 0.1122 - val_accuracy: 0.2793 - val_auc: 0.7091\n",
      "Epoch 49/100\n",
      "49/49 [==============================] - 1s 30ms/step - loss: 0.0713 - accuracy: 0.6153 - auc: 0.8544 - val_loss: 0.1110 - val_accuracy: 0.2793 - val_auc: 0.7095\n",
      "Epoch 50/100\n",
      "49/49 [==============================] - 1s 31ms/step - loss: 0.0693 - accuracy: 0.6153 - auc: 0.8547 - val_loss: 0.1099 - val_accuracy: 0.2793 - val_auc: 0.7068\n",
      "Epoch 51/100\n",
      "49/49 [==============================] - 2s 32ms/step - loss: 0.0675 - accuracy: 0.6153 - auc: 0.8555 - val_loss: 0.1091 - val_accuracy: 0.2793 - val_auc: 0.7058\n",
      "Epoch 52/100\n",
      "49/49 [==============================] - 2s 33ms/step - loss: 0.0659 - accuracy: 0.6153 - auc: 0.8561 - val_loss: 0.1084 - val_accuracy: 0.2793 - val_auc: 0.7035\n",
      "Epoch 53/100\n",
      "49/49 [==============================] - 2s 32ms/step - loss: 0.0644 - accuracy: 0.6153 - auc: 0.8560 - val_loss: 0.1078 - val_accuracy: 0.2793 - val_auc: 0.7036\n",
      "Epoch 54/100\n",
      "49/49 [==============================] - 2s 33ms/step - loss: 0.0631 - accuracy: 0.6153 - auc: 0.8581 - val_loss: 0.1074 - val_accuracy: 0.2793 - val_auc: 0.6977\n",
      "Epoch 55/100\n",
      "49/49 [==============================] - 2s 32ms/step - loss: 0.0619 - accuracy: 0.6153 - auc: 0.8592 - val_loss: 0.1070 - val_accuracy: 0.2793 - val_auc: 0.6988\n",
      "Epoch 56/100\n",
      "49/49 [==============================] - 2s 31ms/step - loss: 0.0609 - accuracy: 0.6153 - auc: 0.8580 - val_loss: 0.1068 - val_accuracy: 0.2793 - val_auc: 0.6950\n",
      "Epoch 57/100\n",
      "49/49 [==============================] - 2s 31ms/step - loss: 0.0599 - accuracy: 0.6153 - auc: 0.8580 - val_loss: 0.1066 - val_accuracy: 0.2793 - val_auc: 0.6922\n",
      "Epoch 58/100\n",
      "49/49 [==============================] - 2s 31ms/step - loss: 0.0590 - accuracy: 0.6153 - auc: 0.8599 - val_loss: 0.1065 - val_accuracy: 0.2793 - val_auc: 0.6923\n",
      "Epoch 59/100\n",
      "49/49 [==============================] - 2s 31ms/step - loss: 0.0582 - accuracy: 0.6153 - auc: 0.8610 - val_loss: 0.1065 - val_accuracy: 0.2793 - val_auc: 0.6918\n",
      "Epoch 60/100\n",
      "49/49 [==============================] - 2s 31ms/step - loss: 0.0575 - accuracy: 0.6153 - auc: 0.8630 - val_loss: 0.1065 - val_accuracy: 0.2793 - val_auc: 0.6803\n",
      "Epoch 61/100\n",
      "49/49 [==============================] - 1s 31ms/step - loss: 0.0569 - accuracy: 0.6153 - auc: 0.8635 - val_loss: 0.1066 - val_accuracy: 0.2793 - val_auc: 0.6811\n",
      "Epoch 62/100\n",
      "49/49 [==============================] - 2s 31ms/step - loss: 0.0563 - accuracy: 0.6153 - auc: 0.8641 - val_loss: 0.1067 - val_accuracy: 0.2793 - val_auc: 0.6839\n",
      "Epoch 63/100\n",
      "49/49 [==============================] - 2s 31ms/step - loss: 0.0558 - accuracy: 0.6153 - auc: 0.8636 - val_loss: 0.1069 - val_accuracy: 0.2793 - val_auc: 0.6843\n",
      "Epoch 64/100\n",
      "49/49 [==============================] - 1s 30ms/step - loss: 0.0553 - accuracy: 0.6153 - auc: 0.8634 - val_loss: 0.1071 - val_accuracy: 0.2793 - val_auc: 0.6757\n",
      "Epoch 65/100\n",
      "49/49 [==============================] - 1s 31ms/step - loss: 0.0549 - accuracy: 0.6153 - auc: 0.8635 - val_loss: 0.1073 - val_accuracy: 0.2793 - val_auc: 0.6607\n",
      "Epoch 66/100\n",
      "49/49 [==============================] - 1s 30ms/step - loss: 0.0545 - accuracy: 0.6153 - auc: 0.8643 - val_loss: 0.1076 - val_accuracy: 0.2793 - val_auc: 0.6601\n",
      "Epoch 67/100\n",
      "49/49 [==============================] - 1s 30ms/step - loss: 0.0542 - accuracy: 0.6153 - auc: 0.8653 - val_loss: 0.1079 - val_accuracy: 0.2793 - val_auc: 0.6654\n",
      "Epoch 68/100\n",
      "49/49 [==============================] - 2s 31ms/step - loss: 0.0538 - accuracy: 0.6153 - auc: 0.8675 - val_loss: 0.1082 - val_accuracy: 0.2793 - val_auc: 0.6690\n",
      "Epoch 69/100\n",
      "49/49 [==============================] - 1s 29ms/step - loss: 0.0536 - accuracy: 0.6153 - auc: 0.8693 - val_loss: 0.1085 - val_accuracy: 0.2793 - val_auc: 0.6705\n",
      "Epoch 70/100\n",
      "49/49 [==============================] - 1s 30ms/step - loss: 0.0534 - accuracy: 0.6153 - auc: 0.8696 - val_loss: 0.1085 - val_accuracy: 0.2793 - val_auc: 0.6707\n",
      "Epoch 71/100\n",
      "49/49 [==============================] - 2s 31ms/step - loss: 0.0534 - accuracy: 0.6153 - auc: 0.8699 - val_loss: 0.1086 - val_accuracy: 0.2793 - val_auc: 0.6711\n",
      "Epoch 72/100\n",
      "49/49 [==============================] - 2s 31ms/step - loss: 0.0533 - accuracy: 0.6153 - auc: 0.8699 - val_loss: 0.1086 - val_accuracy: 0.2793 - val_auc: 0.6718\n",
      "Epoch 73/100\n",
      "49/49 [==============================] - 2s 31ms/step - loss: 0.0533 - accuracy: 0.6153 - auc: 0.8699 - val_loss: 0.1086 - val_accuracy: 0.2793 - val_auc: 0.6712\n",
      "Epoch 74/100\n",
      "49/49 [==============================] - 2s 32ms/step - loss: 0.0533 - accuracy: 0.6153 - auc: 0.8703 - val_loss: 0.1087 - val_accuracy: 0.2793 - val_auc: 0.6711\n",
      "Epoch 75/100\n",
      "49/49 [==============================] - 1s 30ms/step - loss: 0.0533 - accuracy: 0.6153 - auc: 0.8703 - val_loss: 0.1087 - val_accuracy: 0.2793 - val_auc: 0.6702\n",
      "Epoch 76/100\n",
      "49/49 [==============================] - 1s 30ms/step - loss: 0.0532 - accuracy: 0.6153 - auc: 0.8700 - val_loss: 0.1088 - val_accuracy: 0.2793 - val_auc: 0.6699\n",
      "Epoch 77/100\n",
      "49/49 [==============================] - 1s 30ms/step - loss: 0.0532 - accuracy: 0.6153 - auc: 0.8705 - val_loss: 0.1088 - val_accuracy: 0.2793 - val_auc: 0.6686\n",
      "Epoch 78/100\n",
      "49/49 [==============================] - 2s 31ms/step - loss: 0.0532 - accuracy: 0.6153 - auc: 0.8698 - val_loss: 0.1088 - val_accuracy: 0.2793 - val_auc: 0.6670\n",
      "Epoch 79/100\n",
      "49/49 [==============================] - 1s 30ms/step - loss: 0.0532 - accuracy: 0.6153 - auc: 0.8709 - val_loss: 0.1089 - val_accuracy: 0.2793 - val_auc: 0.6668\n",
      "Epoch 80/100\n",
      "49/49 [==============================] - 1s 30ms/step - loss: 0.0531 - accuracy: 0.6153 - auc: 0.8709 - val_loss: 0.1089 - val_accuracy: 0.2793 - val_auc: 0.6665\n",
      "Epoch 81/100\n",
      "49/49 [==============================] - 2s 31ms/step - loss: 0.0531 - accuracy: 0.6153 - auc: 0.8709 - val_loss: 0.1089 - val_accuracy: 0.2793 - val_auc: 0.6664\n",
      "Epoch 82/100\n",
      "49/49 [==============================] - 2s 31ms/step - loss: 0.0531 - accuracy: 0.6153 - auc: 0.8704 - val_loss: 0.1089 - val_accuracy: 0.2793 - val_auc: 0.6662\n",
      "Epoch 83/100\n",
      "49/49 [==============================] - 1s 30ms/step - loss: 0.0531 - accuracy: 0.6153 - auc: 0.8710 - val_loss: 0.1089 - val_accuracy: 0.2793 - val_auc: 0.6661\n",
      "Epoch 84/100\n",
      "49/49 [==============================] - 2s 31ms/step - loss: 0.0531 - accuracy: 0.6153 - auc: 0.8708 - val_loss: 0.1089 - val_accuracy: 0.2793 - val_auc: 0.6660\n",
      "Epoch 85/100\n",
      "49/49 [==============================] - 1s 30ms/step - loss: 0.0531 - accuracy: 0.6153 - auc: 0.8708 - val_loss: 0.1089 - val_accuracy: 0.2793 - val_auc: 0.6661\n",
      "Epoch 86/100\n",
      "49/49 [==============================] - 2s 31ms/step - loss: 0.0531 - accuracy: 0.6153 - auc: 0.8707 - val_loss: 0.1089 - val_accuracy: 0.2793 - val_auc: 0.6660\n",
      "Epoch 87/100\n",
      "49/49 [==============================] - 1s 30ms/step - loss: 0.0531 - accuracy: 0.6153 - auc: 0.8707 - val_loss: 0.1089 - val_accuracy: 0.2793 - val_auc: 0.6657\n",
      "Epoch 88/100\n",
      "49/49 [==============================] - 2s 31ms/step - loss: 0.0531 - accuracy: 0.6153 - auc: 0.8701 - val_loss: 0.1089 - val_accuracy: 0.2793 - val_auc: 0.6658\n",
      "Epoch 89/100\n",
      "49/49 [==============================] - 1s 31ms/step - loss: 0.0531 - accuracy: 0.6153 - auc: 0.8708 - val_loss: 0.1089 - val_accuracy: 0.2793 - val_auc: 0.6657\n",
      "Epoch 90/100\n",
      "49/49 [==============================] - 1s 31ms/step - loss: 0.0531 - accuracy: 0.6153 - auc: 0.8706 - val_loss: 0.1089 - val_accuracy: 0.2793 - val_auc: 0.6656\n",
      "Epoch 91/100\n",
      "49/49 [==============================] - 2s 31ms/step - loss: 0.0531 - accuracy: 0.6153 - auc: 0.8709 - val_loss: 0.1089 - val_accuracy: 0.2793 - val_auc: 0.6657\n",
      "Epoch 92/100\n",
      "49/49 [==============================] - 2s 32ms/step - loss: 0.0531 - accuracy: 0.6153 - auc: 0.8706 - val_loss: 0.1089 - val_accuracy: 0.2793 - val_auc: 0.6656\n",
      "Epoch 93/100\n",
      "49/49 [==============================] - 2s 32ms/step - loss: 0.0531 - accuracy: 0.6153 - auc: 0.8709 - val_loss: 0.1089 - val_accuracy: 0.2793 - val_auc: 0.6657\n",
      "Epoch 94/100\n",
      "49/49 [==============================] - 2s 32ms/step - loss: 0.0531 - accuracy: 0.6153 - auc: 0.8707 - val_loss: 0.1089 - val_accuracy: 0.2793 - val_auc: 0.6656\n"
     ]
    },
    {
     "name": "stdout",
     "output_type": "stream",
     "text": [
      "Epoch 95/100\n",
      "49/49 [==============================] - 2s 31ms/step - loss: 0.0531 - accuracy: 0.6153 - auc: 0.8706 - val_loss: 0.1089 - val_accuracy: 0.2793 - val_auc: 0.6656\n",
      "Epoch 96/100\n",
      "49/49 [==============================] - 1s 30ms/step - loss: 0.0531 - accuracy: 0.6153 - auc: 0.8706 - val_loss: 0.1089 - val_accuracy: 0.2793 - val_auc: 0.6657\n",
      "Epoch 97/100\n",
      "49/49 [==============================] - 1s 31ms/step - loss: 0.0531 - accuracy: 0.6153 - auc: 0.8708 - val_loss: 0.1089 - val_accuracy: 0.2793 - val_auc: 0.6657\n",
      "Epoch 98/100\n",
      "49/49 [==============================] - 1s 30ms/step - loss: 0.0531 - accuracy: 0.6153 - auc: 0.8708 - val_loss: 0.1089 - val_accuracy: 0.2793 - val_auc: 0.6657\n",
      "Epoch 99/100\n",
      "49/49 [==============================] - 1s 30ms/step - loss: 0.0531 - accuracy: 0.6153 - auc: 0.8708 - val_loss: 0.1089 - val_accuracy: 0.2793 - val_auc: 0.6657\n",
      "Epoch 100/100\n",
      "49/49 [==============================] - 2s 32ms/step - loss: 0.0531 - accuracy: 0.6153 - auc: 0.8706 - val_loss: 0.1089 - val_accuracy: 0.2793 - val_auc: 0.6657\n"
     ]
    }
   ],
   "source": [
    "num_epoch = 100\n",
    "batch_size = 128\n",
    "with tf.device(device):\n",
    "    history = model.fit(padded_sequences, training_labels, \n",
    "                        batch_size=batch_size,\n",
    "                        class_weight=class_weight,\n",
    "                        epochs=num_epoch,\n",
    "                        validation_split=0.3,\n",
    "                        callbacks=callbacks)"
   ]
  },
  {
   "cell_type": "markdown",
   "id": "bb4fdf3d",
   "metadata": {},
   "source": [
    "## Plot Metric"
   ]
  },
  {
   "cell_type": "code",
   "execution_count": 233,
   "id": "e40839bc",
   "metadata": {},
   "outputs": [],
   "source": [
    "directory = 'metric/'\n",
    "if not os.path.exists(directory):\n",
    "    os.mkdir(directory)"
   ]
  },
  {
   "cell_type": "code",
   "execution_count": 234,
   "id": "fdc6b801",
   "metadata": {},
   "outputs": [
    {
     "data": {
      "image/png": "[encoded data removed]",
      "text/plain": [
       "<Figure size 432x288 with 1 Axes>"
      ]
     },
     "metadata": {
      "needs_background": "light"
     },
     "output_type": "display_data"
    },
    {
     "data": {
      "image/png": "[encoded data removed]",
      "text/plain": [
       "<Figure size 432x288 with 1 Axes>"
      ]
     },
     "metadata": {
      "needs_background": "light"
     },
     "output_type": "display_data"
    },
    {
     "data": {
      "image/png": "[encoded data removed]",
      "text/plain": [
       "<Figure size 432x288 with 1 Axes>"
      ]
     },
     "metadata": {
      "needs_background": "light"
     },
     "output_type": "display_data"
    }
   ],
   "source": [
    "def plot_graphs(history, string):\n",
    "    plt.plot(history.history[string])\n",
    "    plt.plot(history.history['val_'+string])\n",
    "    plt.xlabel(\"Epochs\")\n",
    "    plt.ylabel(string)\n",
    "    plt.legend([string, 'val_'+string])\n",
    "    plt.savefig(directory+string+'.png')\n",
    "    plt.show()\n",
    "\n",
    "for metric in model.metrics_names:\n",
    "    plot_graphs(history, metric)"
   ]
  },
  {
   "cell_type": "markdown",
   "id": "29b92a05",
   "metadata": {},
   "source": [
    "Learning rate -> Coursera Course<br>\n",
    "[Model architecture](https://ieeexplore.ieee.org/abstract/document/8723320)<br>\n",
    "[Layer concatenation](https://keras.io/api/layers/merging_layers/concatenate/)<br>\n",
    "https://stackoverflow.com/questions/38387913/reason-of-having-high-auc-and-low-accuracy-in-a-balanced-dataset"
   ]
  }
 ],
 "metadata": {
  "kernelspec": {
   "display_name": "TensorFlow",
   "language": "python",
   "name": "tf"
  },
  "language_info": {
   "codemirror_mode": {
    "name": "ipython",
    "version": 3
   },
   "file_extension": ".py",
   "mimetype": "text/x-python",
   "name": "python",
   "nbconvert_exporter": "python",
   "pygments_lexer": "ipython3",
   "version": "3.8.8"
  }
 },
 "nbformat": 4,
 "nbformat_minor": 5
}
