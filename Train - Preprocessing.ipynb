{
 "cells": [
  {
   "cell_type": "markdown",
   "metadata": {
    "colab_type": "text",
    "id": "view-in-github"
   },
   "source": [
    "<a href=\"https://colab.research.google.com/github/novelworm777/bangkit-kaidah-machine-learning/blob/main/Data_Preprocessing.ipynb\" target=\"_parent\"><img src=\"https://colab.research.google.com/assets/colab-badge.svg\" alt=\"Open In Colab\"/></a>"
   ]
  },
  {
   "cell_type": "code",
   "execution_count": 1,
   "metadata": {
    "colab": {
     "base_uri": "https://localhost:8080/",
     "height": 106,
     "resources": {
      "http://localhost:8080/nbextensions/google.colab/files.js": {
       "data": "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",
       "headers": [
        [
         "content-type",
         "application/javascript"
        ]
       ],
       "ok": true,
       "status": 200,
       "status_text": ""
      }
     }
    },
    "id": "HdRPwH258IJo",
    "outputId": "a62aaa08-18d8-4e8e-a7a5-23634ee55189"
   },
   "outputs": [
    {
     "data": {
      "text/html": [
       "\n",
       "     <input type=\"file\" id=\"files-11b9dff5-bade-4e12-936e-4a96105b41e6\" name=\"files[]\" multiple disabled\n",
       "        style=\"border:none\" />\n",
       "     <output id=\"result-11b9dff5-bade-4e12-936e-4a96105b41e6\">\n",
       "      Upload widget is only available when the cell has been executed in the\n",
       "      current browser session. Please rerun this cell to enable.\n",
       "      </output>\n",
       "      <script src=\"/nbextensions/google.colab/files.js\"></script> "
      ],
      "text/plain": [
       "<IPython.core.display.HTML object>"
      ]
     },
     "metadata": {
      "tags": []
     },
     "output_type": "display_data"
    },
    {
     "name": "stdout",
     "output_type": "stream",
     "text": [
      "Saving jdih_kemenkeu_regulations.csv to jdih_kemenkeu_regulations.csv\n",
      "User uploaded file \"jdih_kemenkeu_regulations.csv\" with length 1537224 bytes\n"
     ]
    }
   ],
   "source": [
    "# only run this in google colab to upload data\n",
    "from google.colab import files\n",
    "\n",
    "uploaded = files.upload()\n",
    "\n",
    "for fn in uploaded.keys():\n",
    "  print('User uploaded file \"{name}\" with length {length} bytes'.format(\n",
    "      name=fn, length=len(uploaded[fn])))"
   ]
  },
  {
   "cell_type": "code",
   "execution_count": 1,
   "metadata": {
    "id": "JHlN84e-FTQF"
   },
   "outputs": [],
   "source": [
    "# import necessary libraries\n",
    "import pandas as pd\n",
    "import matplotlib.pyplot as plt\n",
    "import seaborn as sns\n",
    "import numpy as np\n",
    "import os\n",
    "import text_cleaning\n",
    "import random"
   ]
  },
  {
   "cell_type": "code",
   "execution_count": 2,
   "metadata": {},
   "outputs": [],
   "source": [
    "# warning disable\n",
    "pd.options.mode.chained_assignment = None"
   ]
  },
  {
   "cell_type": "markdown",
   "metadata": {
    "id": "P-lyW8ewTdHh"
   },
   "source": [
    "# Load Data"
   ]
  },
  {
   "cell_type": "code",
   "execution_count": 3,
   "metadata": {},
   "outputs": [],
   "source": [
    "directory = './data/'"
   ]
  },
  {
   "cell_type": "code",
   "execution_count": 4,
   "metadata": {
    "colab": {
     "base_uri": "https://localhost:8080/",
     "height": 447
    },
    "id": "OW2rbikPKsml",
    "outputId": "1429ff99-417b-436b-f341-44007de6b05c"
   },
   "outputs": [
    {
     "name": "stdout",
     "output_type": "stream",
     "text": [
      "Shape: (9176, 2)\n"
     ]
    },
    {
     "data": {
      "text/html": [
       "<div>\n",
       "<style scoped>\n",
       "    .dataframe tbody tr th:only-of-type {\n",
       "        vertical-align: middle;\n",
       "    }\n",
       "\n",
       "    .dataframe tbody tr th {\n",
       "        vertical-align: top;\n",
       "    }\n",
       "\n",
       "    .dataframe thead th {\n",
       "        text-align: right;\n",
       "    }\n",
       "</style>\n",
       "<table border=\"1\" class=\"dataframe\">\n",
       "  <thead>\n",
       "    <tr style=\"text-align: right;\">\n",
       "      <th></th>\n",
       "      <th>title</th>\n",
       "      <th>label</th>\n",
       "    </tr>\n",
       "  </thead>\n",
       "  <tbody>\n",
       "    <tr>\n",
       "      <th>0</th>\n",
       "      <td>Jenis dan Tarif atas Jenis Penerimaan Negara B...</td>\n",
       "      <td>Jenis Dan Tarif, Penerimaan Negara Bukan Pajak...</td>\n",
       "    </tr>\n",
       "    <tr>\n",
       "      <th>1</th>\n",
       "      <td>Tata Cara Pendaftaran, Pelaporan, dan Pendataa...</td>\n",
       "      <td>Pajak Bumi Dan Bangunan, Pendaftaran Dan Pelap...</td>\n",
       "    </tr>\n",
       "    <tr>\n",
       "      <th>2</th>\n",
       "      <td>Pedoman Standar Pelayanan di Lingkungan Kement...</td>\n",
       "      <td>Pedoman, Standar Pelayanan, Kementerian Keuangan</td>\n",
       "    </tr>\n",
       "    <tr>\n",
       "      <th>3</th>\n",
       "      <td>Account Representative pada Kantor Pelayanan P...</td>\n",
       "      <td>Account Representative, Kantor Pelayanan Pajak</td>\n",
       "    </tr>\n",
       "    <tr>\n",
       "      <th>4</th>\n",
       "      <td>Perubahan Kedua atas Peraturan Menteri Keuanga...</td>\n",
       "      <td>Perubahan Kedua, Program Pen, Pemerintah Daerah</td>\n",
       "    </tr>\n",
       "  </tbody>\n",
       "</table>\n",
       "</div>"
      ],
      "text/plain": [
       "                                               title  \\\n",
       "0  Jenis dan Tarif atas Jenis Penerimaan Negara B...   \n",
       "1  Tata Cara Pendaftaran, Pelaporan, dan Pendataa...   \n",
       "2  Pedoman Standar Pelayanan di Lingkungan Kement...   \n",
       "3  Account Representative pada Kantor Pelayanan P...   \n",
       "4  Perubahan Kedua atas Peraturan Menteri Keuanga...   \n",
       "\n",
       "                                               label  \n",
       "0  Jenis Dan Tarif, Penerimaan Negara Bukan Pajak...  \n",
       "1  Pajak Bumi Dan Bangunan, Pendaftaran Dan Pelap...  \n",
       "2   Pedoman, Standar Pelayanan, Kementerian Keuangan  \n",
       "3     Account Representative, Kantor Pelayanan Pajak  \n",
       "4    Perubahan Kedua, Program Pen, Pemerintah Daerah  "
      ]
     },
     "execution_count": 4,
     "metadata": {},
     "output_type": "execute_result"
    }
   ],
   "source": [
    "# load raw data\n",
    "raw_data_df = pd.read_csv(os.path.join(directory, 'jdih_kemenkeu_regulations.csv'))\n",
    "print(\"Shape:\", raw_data_df.shape)\n",
    "raw_data_df.head()"
   ]
  },
  {
   "cell_type": "markdown",
   "metadata": {
    "id": "71lpGBXSTaDD"
   },
   "source": [
    "# Preprocessing"
   ]
  },
  {
   "cell_type": "markdown",
   "metadata": {
    "id": "PeJBHe1UVZEa"
   },
   "source": [
    "## Missing Values"
   ]
  },
  {
   "cell_type": "code",
   "execution_count": 5,
   "metadata": {},
   "outputs": [
    {
     "name": "stdout",
     "output_type": "stream",
     "text": [
      "Number of NA rows:\n",
      " title    6\n",
      "label    0\n",
      "dtype: int64\n"
     ]
    }
   ],
   "source": [
    "# check na rows\n",
    "num_null = raw_data_df.isna().sum()\n",
    "print(\"Number of NA rows:\\n\", num_null)"
   ]
  },
  {
   "cell_type": "code",
   "execution_count": 6,
   "metadata": {
    "colab": {
     "base_uri": "https://localhost:8080/"
    },
    "id": "-AkcKaUoLuSN",
    "outputId": "51b5666b-f6e3-4b12-ead6-6796bbafbd94"
   },
   "outputs": [
    {
     "name": "stdout",
     "output_type": "stream",
     "text": [
      "Shape: (9170, 2)\n"
     ]
    }
   ],
   "source": [
    "# let's only take the rows where title is not na\n",
    "filtered_df = raw_data_df[raw_data_df['title'].notna()]\n",
    "filtered_df.reset_index(drop=True, inplace=True)\n",
    "print(\"Shape:\", filtered_df.shape)"
   ]
  },
  {
   "cell_type": "markdown",
   "metadata": {
    "id": "5rAMjrgBTvXE"
   },
   "source": [
    "## Data Wrangling"
   ]
  },
  {
   "cell_type": "code",
   "execution_count": 7,
   "metadata": {
    "colab": {
     "base_uri": "https://localhost:8080/"
    },
    "id": "1oqOT7PtI7eC",
    "outputId": "3c146719-164b-4a9d-8b0c-4142cb060f5b"
   },
   "outputs": [
    {
     "name": "stdout",
     "output_type": "stream",
     "text": [
      "Labels distribution per doc:\n",
      " 1     371\n",
      "2    1783\n",
      "3    6745\n",
      "4     235\n",
      "5      32\n",
      "6       4\n",
      "Name: label_count, dtype: int64\n"
     ]
    }
   ],
   "source": [
    "# the labels will need to be changed into columns\n",
    "# count the number of labels in each row\n",
    "filtered_df['label_count'] = filtered_df['label'].apply(lambda x: len(str(x).split(', ')))\n",
    "print(\"Labels distribution per doc:\\n\", filtered_df.label_count.value_counts(sort=False))"
   ]
  },
  {
   "cell_type": "code",
   "execution_count": 8,
   "metadata": {
    "colab": {
     "base_uri": "https://localhost:8080/",
     "height": 350
    },
    "id": "mFlOk_CkRwSq",
    "outputId": "4633f466-54c7-4a16-acad-b847ead6cee2"
   },
   "outputs": [
    {
     "data": {
      "image/png": "[encoded data removed]",
      "text/plain": [
       "<Figure size 720x360 with 1 Axes>"
      ]
     },
     "metadata": {
      "needs_background": "light"
     },
     "output_type": "display_data"
    }
   ],
   "source": [
    "# visualize the labels distribution\n",
    "plt.figure(figsize=(10, 5))\n",
    "sns.countplot(x=filtered_df.label_count, palette='flare')\n",
    "plt.title(\"Labels Distribution per Doc\")\n",
    "plt.xlabel(\"Number of Labels\")\n",
    "plt.ylabel(\"Number of Docs\")\n",
    "plt.show()"
   ]
  },
  {
   "cell_type": "code",
   "execution_count": 9,
   "metadata": {
    "colab": {
     "base_uri": "https://localhost:8080/",
     "height": 262
    },
    "id": "J7h8jz3keFby",
    "outputId": "a2f19c44-50a2-4e5d-dc06-cb5d3f07fe1d"
   },
   "outputs": [
    {
     "data": {
      "text/html": [
       "<div>\n",
       "<style scoped>\n",
       "    .dataframe tbody tr th:only-of-type {\n",
       "        vertical-align: middle;\n",
       "    }\n",
       "\n",
       "    .dataframe tbody tr th {\n",
       "        vertical-align: top;\n",
       "    }\n",
       "\n",
       "    .dataframe thead th {\n",
       "        text-align: right;\n",
       "    }\n",
       "</style>\n",
       "<table border=\"1\" class=\"dataframe\">\n",
       "  <thead>\n",
       "    <tr style=\"text-align: right;\">\n",
       "      <th></th>\n",
       "      <th>label_1</th>\n",
       "      <th>label_2</th>\n",
       "      <th>label_3</th>\n",
       "      <th>label_4</th>\n",
       "      <th>label_5</th>\n",
       "      <th>label_6</th>\n",
       "    </tr>\n",
       "  </thead>\n",
       "  <tbody>\n",
       "    <tr>\n",
       "      <th>0</th>\n",
       "      <td>Jenis Dan Tarif</td>\n",
       "      <td>Penerimaan Negara Bukan Pajak</td>\n",
       "      <td>Kementerian Hukum Dan Ham</td>\n",
       "      <td>None</td>\n",
       "      <td>None</td>\n",
       "      <td>None</td>\n",
       "    </tr>\n",
       "    <tr>\n",
       "      <th>1</th>\n",
       "      <td>Pajak Bumi Dan Bangunan</td>\n",
       "      <td>Pendaftaran Dan Pelaporan</td>\n",
       "      <td>Objek Pajak Bumi</td>\n",
       "      <td>None</td>\n",
       "      <td>None</td>\n",
       "      <td>None</td>\n",
       "    </tr>\n",
       "    <tr>\n",
       "      <th>2</th>\n",
       "      <td>Pedoman</td>\n",
       "      <td>Standar Pelayanan</td>\n",
       "      <td>Kementerian Keuangan</td>\n",
       "      <td>None</td>\n",
       "      <td>None</td>\n",
       "      <td>None</td>\n",
       "    </tr>\n",
       "    <tr>\n",
       "      <th>3</th>\n",
       "      <td>Account Representative</td>\n",
       "      <td>Kantor Pelayanan Pajak</td>\n",
       "      <td>None</td>\n",
       "      <td>None</td>\n",
       "      <td>None</td>\n",
       "      <td>None</td>\n",
       "    </tr>\n",
       "    <tr>\n",
       "      <th>4</th>\n",
       "      <td>Perubahan Kedua</td>\n",
       "      <td>Program Pen</td>\n",
       "      <td>Pemerintah Daerah</td>\n",
       "      <td>None</td>\n",
       "      <td>None</td>\n",
       "      <td>None</td>\n",
       "    </tr>\n",
       "  </tbody>\n",
       "</table>\n",
       "</div>"
      ],
      "text/plain": [
       "                   label_1                        label_2  \\\n",
       "0          Jenis Dan Tarif  Penerimaan Negara Bukan Pajak   \n",
       "1  Pajak Bumi Dan Bangunan      Pendaftaran Dan Pelaporan   \n",
       "2                  Pedoman              Standar Pelayanan   \n",
       "3   Account Representative         Kantor Pelayanan Pajak   \n",
       "4          Perubahan Kedua                    Program Pen   \n",
       "\n",
       "                     label_3 label_4 label_5 label_6  \n",
       "0  Kementerian Hukum Dan Ham    None    None    None  \n",
       "1           Objek Pajak Bumi    None    None    None  \n",
       "2       Kementerian Keuangan    None    None    None  \n",
       "3                       None    None    None    None  \n",
       "4          Pemerintah Daerah    None    None    None  "
      ]
     },
     "execution_count": 9,
     "metadata": {},
     "output_type": "execute_result"
    }
   ],
   "source": [
    "# let's get the unique labels\n",
    "# split the labels of each row into separate columns\n",
    "max_value = filtered_df['label_count'].max()\n",
    "columns = ['label_' + str(x) for x in range(1, max_value+1)]\n",
    "label_df = pd.DataFrame(filtered_df['label'].apply(lambda x: str(x).split(', ')).to_list(), columns=columns)\n",
    "label_df.head()"
   ]
  },
  {
   "cell_type": "code",
   "execution_count": 10,
   "metadata": {
    "colab": {
     "base_uri": "https://localhost:8080/"
    },
    "id": "uEIHrxH7mw4Y",
    "outputId": "5a81216e-ddfa-42cb-d126-a543d589fd72"
   },
   "outputs": [
    {
     "name": "stdout",
     "output_type": "stream",
     "text": [
      "Number of unique labels: 4632\n"
     ]
    }
   ],
   "source": [
    "# combine all columns into one and only leave the unique labels\n",
    "combined_label_df = label_df.stack().reset_index()[[0]]\n",
    "labels = combined_label_df[0].unique()\n",
    "print(\"Number of unique labels:\", len(labels))"
   ]
  },
  {
   "cell_type": "code",
   "execution_count": 11,
   "metadata": {
    "colab": {
     "base_uri": "https://localhost:8080/",
     "height": 446
    },
    "id": "2iSVaTevo4Mw",
    "outputId": "4526e42f-e61d-4146-b138-9d10d765ac44"
   },
   "outputs": [
    {
     "data": {
      "text/html": [
       "<div>\n",
       "<style scoped>\n",
       "    .dataframe tbody tr th:only-of-type {\n",
       "        vertical-align: middle;\n",
       "    }\n",
       "\n",
       "    .dataframe tbody tr th {\n",
       "        vertical-align: top;\n",
       "    }\n",
       "\n",
       "    .dataframe thead th {\n",
       "        text-align: right;\n",
       "    }\n",
       "</style>\n",
       "<table border=\"1\" class=\"dataframe\">\n",
       "  <thead>\n",
       "    <tr style=\"text-align: right;\">\n",
       "      <th></th>\n",
       "      <th>label_1</th>\n",
       "      <th>label_2</th>\n",
       "      <th>label_3</th>\n",
       "      <th>label_4</th>\n",
       "      <th>label_5</th>\n",
       "      <th>label_6</th>\n",
       "      <th>Jenis Dan Tarif</th>\n",
       "      <th>Penerimaan Negara Bukan Pajak</th>\n",
       "      <th>Kementerian Hukum Dan Ham</th>\n",
       "      <th>Pajak Bumi Dan Bangunan</th>\n",
       "      <th>...</th>\n",
       "      <th>Pegawai Yang Tewas</th>\n",
       "      <th>Pemberian Uang Duka</th>\n",
       "      <th>Janda/Ahli Waris</th>\n",
       "      <th>Wajib Militer</th>\n",
       "      <th>Perpanjangan Dinas</th>\n",
       "      <th>Kepangkatan Militer/Polisi</th>\n",
       "      <th>Hak Kepegawaian</th>\n",
       "      <th>Besarnya Iuran</th>\n",
       "      <th>Tata Cara Penjualan</th>\n",
       "      <th>Syarat-Syarat</th>\n",
       "    </tr>\n",
       "  </thead>\n",
       "  <tbody>\n",
       "    <tr>\n",
       "      <th>0</th>\n",
       "      <td>Jenis Dan Tarif</td>\n",
       "      <td>Penerimaan Negara Bukan Pajak</td>\n",
       "      <td>Kementerian Hukum Dan Ham</td>\n",
       "      <td>0</td>\n",
       "      <td>0</td>\n",
       "      <td>0</td>\n",
       "      <td>0</td>\n",
       "      <td>0</td>\n",
       "      <td>0</td>\n",
       "      <td>0</td>\n",
       "      <td>...</td>\n",
       "      <td>0</td>\n",
       "      <td>0</td>\n",
       "      <td>0</td>\n",
       "      <td>0</td>\n",
       "      <td>0</td>\n",
       "      <td>0</td>\n",
       "      <td>0</td>\n",
       "      <td>0</td>\n",
       "      <td>0</td>\n",
       "      <td>0</td>\n",
       "    </tr>\n",
       "    <tr>\n",
       "      <th>1</th>\n",
       "      <td>Pajak Bumi Dan Bangunan</td>\n",
       "      <td>Pendaftaran Dan Pelaporan</td>\n",
       "      <td>Objek Pajak Bumi</td>\n",
       "      <td>0</td>\n",
       "      <td>0</td>\n",
       "      <td>0</td>\n",
       "      <td>0</td>\n",
       "      <td>0</td>\n",
       "      <td>0</td>\n",
       "      <td>0</td>\n",
       "      <td>...</td>\n",
       "      <td>0</td>\n",
       "      <td>0</td>\n",
       "      <td>0</td>\n",
       "      <td>0</td>\n",
       "      <td>0</td>\n",
       "      <td>0</td>\n",
       "      <td>0</td>\n",
       "      <td>0</td>\n",
       "      <td>0</td>\n",
       "      <td>0</td>\n",
       "    </tr>\n",
       "    <tr>\n",
       "      <th>2</th>\n",
       "      <td>Pedoman</td>\n",
       "      <td>Standar Pelayanan</td>\n",
       "      <td>Kementerian Keuangan</td>\n",
       "      <td>0</td>\n",
       "      <td>0</td>\n",
       "      <td>0</td>\n",
       "      <td>0</td>\n",
       "      <td>0</td>\n",
       "      <td>0</td>\n",
       "      <td>0</td>\n",
       "      <td>...</td>\n",
       "      <td>0</td>\n",
       "      <td>0</td>\n",
       "      <td>0</td>\n",
       "      <td>0</td>\n",
       "      <td>0</td>\n",
       "      <td>0</td>\n",
       "      <td>0</td>\n",
       "      <td>0</td>\n",
       "      <td>0</td>\n",
       "      <td>0</td>\n",
       "    </tr>\n",
       "    <tr>\n",
       "      <th>3</th>\n",
       "      <td>Account Representative</td>\n",
       "      <td>Kantor Pelayanan Pajak</td>\n",
       "      <td>0</td>\n",
       "      <td>0</td>\n",
       "      <td>0</td>\n",
       "      <td>0</td>\n",
       "      <td>0</td>\n",
       "      <td>0</td>\n",
       "      <td>0</td>\n",
       "      <td>0</td>\n",
       "      <td>...</td>\n",
       "      <td>0</td>\n",
       "      <td>0</td>\n",
       "      <td>0</td>\n",
       "      <td>0</td>\n",
       "      <td>0</td>\n",
       "      <td>0</td>\n",
       "      <td>0</td>\n",
       "      <td>0</td>\n",
       "      <td>0</td>\n",
       "      <td>0</td>\n",
       "    </tr>\n",
       "    <tr>\n",
       "      <th>4</th>\n",
       "      <td>Perubahan Kedua</td>\n",
       "      <td>Program Pen</td>\n",
       "      <td>Pemerintah Daerah</td>\n",
       "      <td>0</td>\n",
       "      <td>0</td>\n",
       "      <td>0</td>\n",
       "      <td>0</td>\n",
       "      <td>0</td>\n",
       "      <td>0</td>\n",
       "      <td>0</td>\n",
       "      <td>...</td>\n",
       "      <td>0</td>\n",
       "      <td>0</td>\n",
       "      <td>0</td>\n",
       "      <td>0</td>\n",
       "      <td>0</td>\n",
       "      <td>0</td>\n",
       "      <td>0</td>\n",
       "      <td>0</td>\n",
       "      <td>0</td>\n",
       "      <td>0</td>\n",
       "    </tr>\n",
       "  </tbody>\n",
       "</table>\n",
       "<p>5 rows × 4638 columns</p>\n",
       "</div>"
      ],
      "text/plain": [
       "                   label_1                        label_2  \\\n",
       "0          Jenis Dan Tarif  Penerimaan Negara Bukan Pajak   \n",
       "1  Pajak Bumi Dan Bangunan      Pendaftaran Dan Pelaporan   \n",
       "2                  Pedoman              Standar Pelayanan   \n",
       "3   Account Representative         Kantor Pelayanan Pajak   \n",
       "4          Perubahan Kedua                    Program Pen   \n",
       "\n",
       "                     label_3 label_4 label_5 label_6  Jenis Dan Tarif  \\\n",
       "0  Kementerian Hukum Dan Ham       0       0       0                0   \n",
       "1           Objek Pajak Bumi       0       0       0                0   \n",
       "2       Kementerian Keuangan       0       0       0                0   \n",
       "3                          0       0       0       0                0   \n",
       "4          Pemerintah Daerah       0       0       0                0   \n",
       "\n",
       "   Penerimaan Negara Bukan Pajak  Kementerian Hukum Dan Ham  \\\n",
       "0                              0                          0   \n",
       "1                              0                          0   \n",
       "2                              0                          0   \n",
       "3                              0                          0   \n",
       "4                              0                          0   \n",
       "\n",
       "   Pajak Bumi Dan Bangunan  ...  Pegawai Yang Tewas  Pemberian Uang Duka  \\\n",
       "0                        0  ...                   0                    0   \n",
       "1                        0  ...                   0                    0   \n",
       "2                        0  ...                   0                    0   \n",
       "3                        0  ...                   0                    0   \n",
       "4                        0  ...                   0                    0   \n",
       "\n",
       "   Janda/Ahli Waris  Wajib Militer  Perpanjangan Dinas  \\\n",
       "0                 0              0                   0   \n",
       "1                 0              0                   0   \n",
       "2                 0              0                   0   \n",
       "3                 0              0                   0   \n",
       "4                 0              0                   0   \n",
       "\n",
       "   Kepangkatan Militer/Polisi  Hak Kepegawaian  Besarnya Iuran  \\\n",
       "0                           0                0               0   \n",
       "1                           0                0               0   \n",
       "2                           0                0               0   \n",
       "3                           0                0               0   \n",
       "4                           0                0               0   \n",
       "\n",
       "   Tata Cara Penjualan  Syarat-Syarat  \n",
       "0                    0              0  \n",
       "1                    0              0  \n",
       "2                    0              0  \n",
       "3                    0              0  \n",
       "4                    0              0  \n",
       "\n",
       "[5 rows x 4638 columns]"
      ]
     },
     "execution_count": 11,
     "metadata": {},
     "output_type": "execute_result"
    }
   ],
   "source": [
    "# make the unique labels into new columns and replace all missing values into 0\n",
    "new_label_df = pd.concat([label_df, pd.DataFrame(columns=list(labels))])\n",
    "new_label_df.fillna(0, inplace=True)\n",
    "new_label_df.head()"
   ]
  },
  {
   "cell_type": "code",
   "execution_count": 12,
   "metadata": {
    "colab": {
     "base_uri": "https://localhost:8080/",
     "height": 446
    },
    "id": "U_PongZbqW2Z",
    "outputId": "a46c7736-5d6b-4f7e-c87a-db3c991cc05e"
   },
   "outputs": [
    {
     "data": {
      "text/html": [
       "<div>\n",
       "<style scoped>\n",
       "    .dataframe tbody tr th:only-of-type {\n",
       "        vertical-align: middle;\n",
       "    }\n",
       "\n",
       "    .dataframe tbody tr th {\n",
       "        vertical-align: top;\n",
       "    }\n",
       "\n",
       "    .dataframe thead th {\n",
       "        text-align: right;\n",
       "    }\n",
       "</style>\n",
       "<table border=\"1\" class=\"dataframe\">\n",
       "  <thead>\n",
       "    <tr style=\"text-align: right;\">\n",
       "      <th></th>\n",
       "      <th>label_1</th>\n",
       "      <th>label_2</th>\n",
       "      <th>label_3</th>\n",
       "      <th>label_4</th>\n",
       "      <th>label_5</th>\n",
       "      <th>label_6</th>\n",
       "      <th>Jenis Dan Tarif</th>\n",
       "      <th>Penerimaan Negara Bukan Pajak</th>\n",
       "      <th>Kementerian Hukum Dan Ham</th>\n",
       "      <th>Pajak Bumi Dan Bangunan</th>\n",
       "      <th>...</th>\n",
       "      <th>Pegawai Yang Tewas</th>\n",
       "      <th>Pemberian Uang Duka</th>\n",
       "      <th>Janda/Ahli Waris</th>\n",
       "      <th>Wajib Militer</th>\n",
       "      <th>Perpanjangan Dinas</th>\n",
       "      <th>Kepangkatan Militer/Polisi</th>\n",
       "      <th>Hak Kepegawaian</th>\n",
       "      <th>Besarnya Iuran</th>\n",
       "      <th>Tata Cara Penjualan</th>\n",
       "      <th>Syarat-Syarat</th>\n",
       "    </tr>\n",
       "  </thead>\n",
       "  <tbody>\n",
       "    <tr>\n",
       "      <th>0</th>\n",
       "      <td>Jenis Dan Tarif</td>\n",
       "      <td>Penerimaan Negara Bukan Pajak</td>\n",
       "      <td>Kementerian Hukum Dan Ham</td>\n",
       "      <td>0</td>\n",
       "      <td>0</td>\n",
       "      <td>0</td>\n",
       "      <td>1</td>\n",
       "      <td>1</td>\n",
       "      <td>1</td>\n",
       "      <td>0</td>\n",
       "      <td>...</td>\n",
       "      <td>0</td>\n",
       "      <td>0</td>\n",
       "      <td>0</td>\n",
       "      <td>0</td>\n",
       "      <td>0</td>\n",
       "      <td>0</td>\n",
       "      <td>0</td>\n",
       "      <td>0</td>\n",
       "      <td>0</td>\n",
       "      <td>0</td>\n",
       "    </tr>\n",
       "    <tr>\n",
       "      <th>1</th>\n",
       "      <td>Pajak Bumi Dan Bangunan</td>\n",
       "      <td>Pendaftaran Dan Pelaporan</td>\n",
       "      <td>Objek Pajak Bumi</td>\n",
       "      <td>0</td>\n",
       "      <td>0</td>\n",
       "      <td>0</td>\n",
       "      <td>0</td>\n",
       "      <td>0</td>\n",
       "      <td>0</td>\n",
       "      <td>1</td>\n",
       "      <td>...</td>\n",
       "      <td>0</td>\n",
       "      <td>0</td>\n",
       "      <td>0</td>\n",
       "      <td>0</td>\n",
       "      <td>0</td>\n",
       "      <td>0</td>\n",
       "      <td>0</td>\n",
       "      <td>0</td>\n",
       "      <td>0</td>\n",
       "      <td>0</td>\n",
       "    </tr>\n",
       "    <tr>\n",
       "      <th>2</th>\n",
       "      <td>Pedoman</td>\n",
       "      <td>Standar Pelayanan</td>\n",
       "      <td>Kementerian Keuangan</td>\n",
       "      <td>0</td>\n",
       "      <td>0</td>\n",
       "      <td>0</td>\n",
       "      <td>0</td>\n",
       "      <td>0</td>\n",
       "      <td>0</td>\n",
       "      <td>0</td>\n",
       "      <td>...</td>\n",
       "      <td>0</td>\n",
       "      <td>0</td>\n",
       "      <td>0</td>\n",
       "      <td>0</td>\n",
       "      <td>0</td>\n",
       "      <td>0</td>\n",
       "      <td>0</td>\n",
       "      <td>0</td>\n",
       "      <td>0</td>\n",
       "      <td>0</td>\n",
       "    </tr>\n",
       "    <tr>\n",
       "      <th>3</th>\n",
       "      <td>Account Representative</td>\n",
       "      <td>Kantor Pelayanan Pajak</td>\n",
       "      <td>0</td>\n",
       "      <td>0</td>\n",
       "      <td>0</td>\n",
       "      <td>0</td>\n",
       "      <td>0</td>\n",
       "      <td>0</td>\n",
       "      <td>0</td>\n",
       "      <td>0</td>\n",
       "      <td>...</td>\n",
       "      <td>0</td>\n",
       "      <td>0</td>\n",
       "      <td>0</td>\n",
       "      <td>0</td>\n",
       "      <td>0</td>\n",
       "      <td>0</td>\n",
       "      <td>0</td>\n",
       "      <td>0</td>\n",
       "      <td>0</td>\n",
       "      <td>0</td>\n",
       "    </tr>\n",
       "    <tr>\n",
       "      <th>4</th>\n",
       "      <td>Perubahan Kedua</td>\n",
       "      <td>Program Pen</td>\n",
       "      <td>Pemerintah Daerah</td>\n",
       "      <td>0</td>\n",
       "      <td>0</td>\n",
       "      <td>0</td>\n",
       "      <td>0</td>\n",
       "      <td>0</td>\n",
       "      <td>0</td>\n",
       "      <td>0</td>\n",
       "      <td>...</td>\n",
       "      <td>0</td>\n",
       "      <td>0</td>\n",
       "      <td>0</td>\n",
       "      <td>0</td>\n",
       "      <td>0</td>\n",
       "      <td>0</td>\n",
       "      <td>0</td>\n",
       "      <td>0</td>\n",
       "      <td>0</td>\n",
       "      <td>0</td>\n",
       "    </tr>\n",
       "  </tbody>\n",
       "</table>\n",
       "<p>5 rows × 4638 columns</p>\n",
       "</div>"
      ],
      "text/plain": [
       "                   label_1                        label_2  \\\n",
       "0          Jenis Dan Tarif  Penerimaan Negara Bukan Pajak   \n",
       "1  Pajak Bumi Dan Bangunan      Pendaftaran Dan Pelaporan   \n",
       "2                  Pedoman              Standar Pelayanan   \n",
       "3   Account Representative         Kantor Pelayanan Pajak   \n",
       "4          Perubahan Kedua                    Program Pen   \n",
       "\n",
       "                     label_3 label_4 label_5 label_6  Jenis Dan Tarif  \\\n",
       "0  Kementerian Hukum Dan Ham       0       0       0                1   \n",
       "1           Objek Pajak Bumi       0       0       0                0   \n",
       "2       Kementerian Keuangan       0       0       0                0   \n",
       "3                          0       0       0       0                0   \n",
       "4          Pemerintah Daerah       0       0       0                0   \n",
       "\n",
       "   Penerimaan Negara Bukan Pajak  Kementerian Hukum Dan Ham  \\\n",
       "0                              1                          1   \n",
       "1                              0                          0   \n",
       "2                              0                          0   \n",
       "3                              0                          0   \n",
       "4                              0                          0   \n",
       "\n",
       "   Pajak Bumi Dan Bangunan  ...  Pegawai Yang Tewas  Pemberian Uang Duka  \\\n",
       "0                        0  ...                   0                    0   \n",
       "1                        1  ...                   0                    0   \n",
       "2                        0  ...                   0                    0   \n",
       "3                        0  ...                   0                    0   \n",
       "4                        0  ...                   0                    0   \n",
       "\n",
       "   Janda/Ahli Waris  Wajib Militer  Perpanjangan Dinas  \\\n",
       "0                 0              0                   0   \n",
       "1                 0              0                   0   \n",
       "2                 0              0                   0   \n",
       "3                 0              0                   0   \n",
       "4                 0              0                   0   \n",
       "\n",
       "   Kepangkatan Militer/Polisi  Hak Kepegawaian  Besarnya Iuran  \\\n",
       "0                           0                0               0   \n",
       "1                           0                0               0   \n",
       "2                           0                0               0   \n",
       "3                           0                0               0   \n",
       "4                           0                0               0   \n",
       "\n",
       "   Tata Cara Penjualan  Syarat-Syarat  \n",
       "0                    0              0  \n",
       "1                    0              0  \n",
       "2                    0              0  \n",
       "3                    0              0  \n",
       "4                    0              0  \n",
       "\n",
       "[5 rows x 4638 columns]"
      ]
     },
     "execution_count": 12,
     "metadata": {},
     "output_type": "execute_result"
    }
   ],
   "source": [
    "# fill the label columns with 1 if the label exist for that row\n",
    "for column in columns:\n",
    "    for index, label in enumerate(new_label_df[column]):\n",
    "        if label != 0:\n",
    "            new_label_df.loc[index, label] = 1\n",
    "new_label_df.head()"
   ]
  },
  {
   "cell_type": "code",
   "execution_count": 13,
   "metadata": {
    "colab": {
     "base_uri": "https://localhost:8080/",
     "height": 614
    },
    "id": "n8LiVTYqul-Y",
    "outputId": "52a7ed2d-c5a3-4b9f-c386-2e53b84b6eab"
   },
   "outputs": [
    {
     "data": {
      "text/html": [
       "<div>\n",
       "<style scoped>\n",
       "    .dataframe tbody tr th:only-of-type {\n",
       "        vertical-align: middle;\n",
       "    }\n",
       "\n",
       "    .dataframe tbody tr th {\n",
       "        vertical-align: top;\n",
       "    }\n",
       "\n",
       "    .dataframe thead th {\n",
       "        text-align: right;\n",
       "    }\n",
       "</style>\n",
       "<table border=\"1\" class=\"dataframe\">\n",
       "  <thead>\n",
       "    <tr style=\"text-align: right;\">\n",
       "      <th></th>\n",
       "      <th>title</th>\n",
       "      <th>Jenis Dan Tarif</th>\n",
       "      <th>Penerimaan Negara Bukan Pajak</th>\n",
       "      <th>Kementerian Hukum Dan Ham</th>\n",
       "      <th>Pajak Bumi Dan Bangunan</th>\n",
       "      <th>Pendaftaran Dan Pelaporan</th>\n",
       "      <th>Objek Pajak Bumi</th>\n",
       "      <th>Pedoman</th>\n",
       "      <th>Standar Pelayanan</th>\n",
       "      <th>Kementerian Keuangan</th>\n",
       "      <th>...</th>\n",
       "      <th>Pegawai Yang Tewas</th>\n",
       "      <th>Pemberian Uang Duka</th>\n",
       "      <th>Janda/Ahli Waris</th>\n",
       "      <th>Wajib Militer</th>\n",
       "      <th>Perpanjangan Dinas</th>\n",
       "      <th>Kepangkatan Militer/Polisi</th>\n",
       "      <th>Hak Kepegawaian</th>\n",
       "      <th>Besarnya Iuran</th>\n",
       "      <th>Tata Cara Penjualan</th>\n",
       "      <th>Syarat-Syarat</th>\n",
       "    </tr>\n",
       "  </thead>\n",
       "  <tbody>\n",
       "    <tr>\n",
       "      <th>0</th>\n",
       "      <td>Jenis dan Tarif atas Jenis Penerimaan Negara B...</td>\n",
       "      <td>1</td>\n",
       "      <td>1</td>\n",
       "      <td>1</td>\n",
       "      <td>0</td>\n",
       "      <td>0</td>\n",
       "      <td>0</td>\n",
       "      <td>0</td>\n",
       "      <td>0</td>\n",
       "      <td>0</td>\n",
       "      <td>...</td>\n",
       "      <td>0</td>\n",
       "      <td>0</td>\n",
       "      <td>0</td>\n",
       "      <td>0</td>\n",
       "      <td>0</td>\n",
       "      <td>0</td>\n",
       "      <td>0</td>\n",
       "      <td>0</td>\n",
       "      <td>0</td>\n",
       "      <td>0</td>\n",
       "    </tr>\n",
       "    <tr>\n",
       "      <th>1</th>\n",
       "      <td>Tata Cara Pendaftaran, Pelaporan, dan Pendataa...</td>\n",
       "      <td>0</td>\n",
       "      <td>0</td>\n",
       "      <td>0</td>\n",
       "      <td>1</td>\n",
       "      <td>1</td>\n",
       "      <td>1</td>\n",
       "      <td>0</td>\n",
       "      <td>0</td>\n",
       "      <td>0</td>\n",
       "      <td>...</td>\n",
       "      <td>0</td>\n",
       "      <td>0</td>\n",
       "      <td>0</td>\n",
       "      <td>0</td>\n",
       "      <td>0</td>\n",
       "      <td>0</td>\n",
       "      <td>0</td>\n",
       "      <td>0</td>\n",
       "      <td>0</td>\n",
       "      <td>0</td>\n",
       "    </tr>\n",
       "    <tr>\n",
       "      <th>2</th>\n",
       "      <td>Pedoman Standar Pelayanan di Lingkungan Kement...</td>\n",
       "      <td>0</td>\n",
       "      <td>0</td>\n",
       "      <td>0</td>\n",
       "      <td>0</td>\n",
       "      <td>0</td>\n",
       "      <td>0</td>\n",
       "      <td>1</td>\n",
       "      <td>1</td>\n",
       "      <td>1</td>\n",
       "      <td>...</td>\n",
       "      <td>0</td>\n",
       "      <td>0</td>\n",
       "      <td>0</td>\n",
       "      <td>0</td>\n",
       "      <td>0</td>\n",
       "      <td>0</td>\n",
       "      <td>0</td>\n",
       "      <td>0</td>\n",
       "      <td>0</td>\n",
       "      <td>0</td>\n",
       "    </tr>\n",
       "    <tr>\n",
       "      <th>3</th>\n",
       "      <td>Account Representative pada Kantor Pelayanan P...</td>\n",
       "      <td>0</td>\n",
       "      <td>0</td>\n",
       "      <td>0</td>\n",
       "      <td>0</td>\n",
       "      <td>0</td>\n",
       "      <td>0</td>\n",
       "      <td>0</td>\n",
       "      <td>0</td>\n",
       "      <td>0</td>\n",
       "      <td>...</td>\n",
       "      <td>0</td>\n",
       "      <td>0</td>\n",
       "      <td>0</td>\n",
       "      <td>0</td>\n",
       "      <td>0</td>\n",
       "      <td>0</td>\n",
       "      <td>0</td>\n",
       "      <td>0</td>\n",
       "      <td>0</td>\n",
       "      <td>0</td>\n",
       "    </tr>\n",
       "    <tr>\n",
       "      <th>4</th>\n",
       "      <td>Perubahan Kedua atas Peraturan Menteri Keuanga...</td>\n",
       "      <td>0</td>\n",
       "      <td>0</td>\n",
       "      <td>0</td>\n",
       "      <td>0</td>\n",
       "      <td>0</td>\n",
       "      <td>0</td>\n",
       "      <td>0</td>\n",
       "      <td>0</td>\n",
       "      <td>0</td>\n",
       "      <td>...</td>\n",
       "      <td>0</td>\n",
       "      <td>0</td>\n",
       "      <td>0</td>\n",
       "      <td>0</td>\n",
       "      <td>0</td>\n",
       "      <td>0</td>\n",
       "      <td>0</td>\n",
       "      <td>0</td>\n",
       "      <td>0</td>\n",
       "      <td>0</td>\n",
       "    </tr>\n",
       "  </tbody>\n",
       "</table>\n",
       "<p>5 rows × 4633 columns</p>\n",
       "</div>"
      ],
      "text/plain": [
       "                                               title  Jenis Dan Tarif  \\\n",
       "0  Jenis dan Tarif atas Jenis Penerimaan Negara B...                1   \n",
       "1  Tata Cara Pendaftaran, Pelaporan, dan Pendataa...                0   \n",
       "2  Pedoman Standar Pelayanan di Lingkungan Kement...                0   \n",
       "3  Account Representative pada Kantor Pelayanan P...                0   \n",
       "4  Perubahan Kedua atas Peraturan Menteri Keuanga...                0   \n",
       "\n",
       "   Penerimaan Negara Bukan Pajak  Kementerian Hukum Dan Ham  \\\n",
       "0                              1                          1   \n",
       "1                              0                          0   \n",
       "2                              0                          0   \n",
       "3                              0                          0   \n",
       "4                              0                          0   \n",
       "\n",
       "   Pajak Bumi Dan Bangunan  Pendaftaran Dan Pelaporan  Objek Pajak Bumi  \\\n",
       "0                        0                          0                 0   \n",
       "1                        1                          1                 1   \n",
       "2                        0                          0                 0   \n",
       "3                        0                          0                 0   \n",
       "4                        0                          0                 0   \n",
       "\n",
       "   Pedoman  Standar Pelayanan  Kementerian Keuangan  ...  Pegawai Yang Tewas  \\\n",
       "0        0                  0                     0  ...                   0   \n",
       "1        0                  0                     0  ...                   0   \n",
       "2        1                  1                     1  ...                   0   \n",
       "3        0                  0                     0  ...                   0   \n",
       "4        0                  0                     0  ...                   0   \n",
       "\n",
       "   Pemberian Uang Duka  Janda/Ahli Waris  Wajib Militer  Perpanjangan Dinas  \\\n",
       "0                    0                 0              0                   0   \n",
       "1                    0                 0              0                   0   \n",
       "2                    0                 0              0                   0   \n",
       "3                    0                 0              0                   0   \n",
       "4                    0                 0              0                   0   \n",
       "\n",
       "   Kepangkatan Militer/Polisi  Hak Kepegawaian  Besarnya Iuran  \\\n",
       "0                           0                0               0   \n",
       "1                           0                0               0   \n",
       "2                           0                0               0   \n",
       "3                           0                0               0   \n",
       "4                           0                0               0   \n",
       "\n",
       "   Tata Cara Penjualan  Syarat-Syarat  \n",
       "0                    0              0  \n",
       "1                    0              0  \n",
       "2                    0              0  \n",
       "3                    0              0  \n",
       "4                    0              0  \n",
       "\n",
       "[5 rows x 4633 columns]"
      ]
     },
     "execution_count": 13,
     "metadata": {},
     "output_type": "execute_result"
    }
   ],
   "source": [
    "# combine the label columns as labels of the dataset\n",
    "dataset_df = pd.concat([filtered_df['title'], new_label_df.loc[:, labels[0]:]], axis=1)\n",
    "dataset_df[labels] = dataset_df[labels].apply(lambda x: x.astype('int'))\n",
    "dataset_df.head()"
   ]
  },
  {
   "cell_type": "markdown",
   "metadata": {
    "id": "i5X2M43IUgJJ"
   },
   "source": [
    "## Duplicated Rows"
   ]
  },
  {
   "cell_type": "code",
   "execution_count": 14,
   "metadata": {},
   "outputs": [
    {
     "name": "stdout",
     "output_type": "stream",
     "text": [
      "Number of rows with duplicated title: 554\n",
      "Number of rows with duplicated title and having the same labels 372\n"
     ]
    }
   ],
   "source": [
    "# check rows duplicated by title\n",
    "num_title_duplicated = dataset_df[dataset_df.duplicated(['title'])].shape[0]\n",
    "print(\"Number of rows with duplicated title:\", num_title_duplicated)\n",
    "\n",
    "# check rows duplicated by title and labels\n",
    "num_title_labels_duplicated = dataset_df[dataset_df.duplicated(dataset_df.columns)].shape[0]\n",
    "print(\"Number of rows with duplicated title and having the same labels\", num_title_labels_duplicated)"
   ]
  },
  {
   "cell_type": "code",
   "execution_count": 15,
   "metadata": {
    "colab": {
     "base_uri": "https://localhost:8080/",
     "height": 284
    },
    "id": "_6eVZWwJuUBp",
    "outputId": "ef4c09fe-d22a-4d34-a353-d9e44845c76b"
   },
   "outputs": [
    {
     "data": {
      "text/html": [
       "<div>\n",
       "<style scoped>\n",
       "    .dataframe tbody tr th:only-of-type {\n",
       "        vertical-align: middle;\n",
       "    }\n",
       "\n",
       "    .dataframe tbody tr th {\n",
       "        vertical-align: top;\n",
       "    }\n",
       "\n",
       "    .dataframe thead th {\n",
       "        text-align: right;\n",
       "    }\n",
       "</style>\n",
       "<table border=\"1\" class=\"dataframe\">\n",
       "  <thead>\n",
       "    <tr style=\"text-align: right;\">\n",
       "      <th></th>\n",
       "      <th>count</th>\n",
       "    </tr>\n",
       "  </thead>\n",
       "  <tbody>\n",
       "    <tr>\n",
       "      <th>count</th>\n",
       "      <td>4632.000000</td>\n",
       "    </tr>\n",
       "    <tr>\n",
       "      <th>mean</th>\n",
       "      <td>5.459197</td>\n",
       "    </tr>\n",
       "    <tr>\n",
       "      <th>std</th>\n",
       "      <td>20.994525</td>\n",
       "    </tr>\n",
       "    <tr>\n",
       "      <th>min</th>\n",
       "      <td>1.000000</td>\n",
       "    </tr>\n",
       "    <tr>\n",
       "      <th>25%</th>\n",
       "      <td>1.000000</td>\n",
       "    </tr>\n",
       "    <tr>\n",
       "      <th>50%</th>\n",
       "      <td>2.000000</td>\n",
       "    </tr>\n",
       "    <tr>\n",
       "      <th>75%</th>\n",
       "      <td>4.000000</td>\n",
       "    </tr>\n",
       "    <tr>\n",
       "      <th>max</th>\n",
       "      <td>792.000000</td>\n",
       "    </tr>\n",
       "  </tbody>\n",
       "</table>\n",
       "</div>"
      ],
      "text/plain": [
       "             count\n",
       "count  4632.000000\n",
       "mean      5.459197\n",
       "std      20.994525\n",
       "min       1.000000\n",
       "25%       1.000000\n",
       "50%       2.000000\n",
       "75%       4.000000\n",
       "max     792.000000"
      ]
     },
     "execution_count": 15,
     "metadata": {},
     "output_type": "execute_result"
    }
   ],
   "source": [
    "# there are difference between the two numbers\n",
    "# which means, there are rows with duplicated title, but different labels\n",
    "def count_label_occur(df):\n",
    "    label_count = pd.DataFrame()\n",
    "    label_count['label'] = df.columns[1:]\n",
    "    label_count['count'] = df.iloc[:, 1:].sum().values\n",
    "    label_count.reset_index(inplace=True, drop=True)\n",
    "    return label_count\n",
    "\n",
    "# count the number of each label appear\n",
    "label_occur_df = count_label_occur(dataset_df)\n",
    "label_occur_df.describe()"
   ]
  },
  {
   "cell_type": "code",
   "execution_count": 16,
   "metadata": {},
   "outputs": [
    {
     "data": {
      "image/png": "[encoded data removed]",
      "text/plain": [
       "<Figure size 864x432 with 1 Axes>"
      ]
     },
     "metadata": {
      "needs_background": "light"
     },
     "output_type": "display_data"
    }
   ],
   "source": [
    "# visualize the occurance of labels\n",
    "plt.figure(figsize=(12, 6))\n",
    "plt.plot(label_occur_df['count'].values)\n",
    "plt.title(\"Distribution of Label Count\")\n",
    "plt.xlabel(\"Label Index\")\n",
    "plt.ylabel(\"Count\")\n",
    "plt.show()"
   ]
  },
  {
   "cell_type": "code",
   "execution_count": 17,
   "metadata": {},
   "outputs": [
    {
     "name": "stdout",
     "output_type": "stream",
     "text": [
      "Shape: (8798, 4633)\n"
     ]
    }
   ],
   "source": [
    "# many labels don't have enough data points\n",
    "# which can make prediction less precise\n",
    "# let's prioritize dropping the rows with label count less\n",
    "label_occur_df.sort_values(['count'], inplace=True, ascending=False)\n",
    "column_prioritize = label_occur_df['label'].values[:50]\n",
    "dropped_df = dataset_df.sort_values(list(column_prioritize), ascending=True)\n",
    "dropped_df.drop_duplicates(inplace=True)\n",
    "print(\"Shape:\", dropped_df.shape)"
   ]
  },
  {
   "cell_type": "code",
   "execution_count": 18,
   "metadata": {},
   "outputs": [
    {
     "data": {
      "text/html": [
       "<div>\n",
       "<style scoped>\n",
       "    .dataframe tbody tr th:only-of-type {\n",
       "        vertical-align: middle;\n",
       "    }\n",
       "\n",
       "    .dataframe tbody tr th {\n",
       "        vertical-align: top;\n",
       "    }\n",
       "\n",
       "    .dataframe thead th {\n",
       "        text-align: right;\n",
       "    }\n",
       "</style>\n",
       "<table border=\"1\" class=\"dataframe\">\n",
       "  <thead>\n",
       "    <tr style=\"text-align: right;\">\n",
       "      <th></th>\n",
       "      <th>count</th>\n",
       "    </tr>\n",
       "  </thead>\n",
       "  <tbody>\n",
       "    <tr>\n",
       "      <th>count</th>\n",
       "      <td>4632.000000</td>\n",
       "    </tr>\n",
       "    <tr>\n",
       "      <th>mean</th>\n",
       "      <td>5.248705</td>\n",
       "    </tr>\n",
       "    <tr>\n",
       "      <th>std</th>\n",
       "      <td>20.266799</td>\n",
       "    </tr>\n",
       "    <tr>\n",
       "      <th>min</th>\n",
       "      <td>1.000000</td>\n",
       "    </tr>\n",
       "    <tr>\n",
       "      <th>25%</th>\n",
       "      <td>1.000000</td>\n",
       "    </tr>\n",
       "    <tr>\n",
       "      <th>50%</th>\n",
       "      <td>2.000000</td>\n",
       "    </tr>\n",
       "    <tr>\n",
       "      <th>75%</th>\n",
       "      <td>4.000000</td>\n",
       "    </tr>\n",
       "    <tr>\n",
       "      <th>max</th>\n",
       "      <td>788.000000</td>\n",
       "    </tr>\n",
       "  </tbody>\n",
       "</table>\n",
       "</div>"
      ],
      "text/plain": [
       "             count\n",
       "count  4632.000000\n",
       "mean      5.248705\n",
       "std      20.266799\n",
       "min       1.000000\n",
       "25%       1.000000\n",
       "50%       2.000000\n",
       "75%       4.000000\n",
       "max     788.000000"
      ]
     },
     "execution_count": 18,
     "metadata": {},
     "output_type": "execute_result"
    }
   ],
   "source": [
    "# count the number of each label appear\n",
    "label_occur_df = count_label_occur(dropped_df)\n",
    "label_occur_df.describe()"
   ]
  },
  {
   "cell_type": "markdown",
   "metadata": {},
   "source": [
    "## Clustering Labels"
   ]
  },
  {
   "cell_type": "code",
   "execution_count": 19,
   "metadata": {
    "colab": {
     "base_uri": "https://localhost:8080/"
    },
    "id": "u2CjzAN0I6OW",
    "outputId": "042b6b4f-70c2-4e6c-dc0a-a7221e0845d6"
   },
   "outputs": [
    {
     "name": "stdout",
     "output_type": "stream",
     "text": [
      "Number of labels above threshold: 60\n"
     ]
    }
   ],
   "source": [
    "# let's cut the number of labels down with threshold\n",
    "threshold = 50\n",
    "main_label_df = pd.DataFrame()\n",
    "main_label_df = label_occur_df[label_occur_df['count']>threshold]\n",
    "main_labels = main_label_df['label'].values\n",
    "print(\"Number of labels above threshold:\", len(main_labels))\n",
    "\n",
    "# the labels below threshold will be clustered to a new label\n",
    "new_label = 'Lain-lain'\n",
    "main_labels = np.append(main_labels, new_label)"
   ]
  },
  {
   "cell_type": "code",
   "execution_count": 20,
   "metadata": {
    "colab": {
     "base_uri": "https://localhost:8080/"
    },
    "id": "nSux7zZpK_L4",
    "outputId": "fde8a71e-1cd0-442e-f86b-3b87e6dedc2a"
   },
   "outputs": [
    {
     "name": "stdout",
     "output_type": "stream",
     "text": [
      "Shape: (8798, 62)\n"
     ]
    }
   ],
   "source": [
    "# move the labels below threshold count to the new label\n",
    "clustered_df = dropped_df.copy()\n",
    "clustered_df[new_label] = 0\n",
    "not_label = []\n",
    "for column in clustered_df.columns[1:]:\n",
    "    if column not in main_labels:\n",
    "        clustered_df[new_label][clustered_df[column]==1] = 1\n",
    "        not_label.append(column)\n",
    "\n",
    "# drop the columns of labels below threshold\n",
    "clustered_df.drop(not_label, axis=1, inplace=True)\n",
    "print(\"Shape:\", clustered_df.shape)"
   ]
  },
  {
   "cell_type": "code",
   "execution_count": 21,
   "metadata": {
    "colab": {
     "base_uri": "https://localhost:8080/",
     "height": 284
    },
    "id": "ssZJu7cpDK_I",
    "outputId": "c26f2432-5ae5-4033-e946-c7e04b119006"
   },
   "outputs": [
    {
     "data": {
      "text/html": [
       "<div>\n",
       "<style scoped>\n",
       "    .dataframe tbody tr th:only-of-type {\n",
       "        vertical-align: middle;\n",
       "    }\n",
       "\n",
       "    .dataframe tbody tr th {\n",
       "        vertical-align: top;\n",
       "    }\n",
       "\n",
       "    .dataframe thead th {\n",
       "        text-align: right;\n",
       "    }\n",
       "</style>\n",
       "<table border=\"1\" class=\"dataframe\">\n",
       "  <thead>\n",
       "    <tr style=\"text-align: right;\">\n",
       "      <th></th>\n",
       "      <th>count</th>\n",
       "    </tr>\n",
       "  </thead>\n",
       "  <tbody>\n",
       "    <tr>\n",
       "      <th>count</th>\n",
       "      <td>61.000000</td>\n",
       "    </tr>\n",
       "    <tr>\n",
       "      <th>mean</th>\n",
       "      <td>255.131148</td>\n",
       "    </tr>\n",
       "    <tr>\n",
       "      <th>std</th>\n",
       "      <td>1064.934184</td>\n",
       "    </tr>\n",
       "    <tr>\n",
       "      <th>min</th>\n",
       "      <td>51.000000</td>\n",
       "    </tr>\n",
       "    <tr>\n",
       "      <th>25%</th>\n",
       "      <td>60.000000</td>\n",
       "    </tr>\n",
       "    <tr>\n",
       "      <th>50%</th>\n",
       "      <td>77.000000</td>\n",
       "    </tr>\n",
       "    <tr>\n",
       "      <th>75%</th>\n",
       "      <td>115.000000</td>\n",
       "    </tr>\n",
       "    <tr>\n",
       "      <th>max</th>\n",
       "      <td>8379.000000</td>\n",
       "    </tr>\n",
       "  </tbody>\n",
       "</table>\n",
       "</div>"
      ],
      "text/plain": [
       "             count\n",
       "count    61.000000\n",
       "mean    255.131148\n",
       "std    1064.934184\n",
       "min      51.000000\n",
       "25%      60.000000\n",
       "50%      77.000000\n",
       "75%     115.000000\n",
       "max    8379.000000"
      ]
     },
     "execution_count": 21,
     "metadata": {},
     "output_type": "execute_result"
    }
   ],
   "source": [
    "# count the number of each label appear\n",
    "label_occur_df = count_label_occur(clustered_df)\n",
    "label_occur_df.describe()"
   ]
  },
  {
   "cell_type": "code",
   "execution_count": 22,
   "metadata": {
    "colab": {
     "base_uri": "https://localhost:8080/",
     "height": 459
    },
    "id": "WhUK5MwsQz5m",
    "outputId": "29ba825c-42f5-493f-e204-98d670cd650d"
   },
   "outputs": [
    {
     "data": {
      "image/png": "[encoded data removed]",
      "text/plain": [
       "<Figure size 1080x432 with 1 Axes>"
      ]
     },
     "metadata": {
      "needs_background": "light"
     },
     "output_type": "display_data"
    }
   ],
   "source": [
    "# visualize the distribution of label count\n",
    "plt.figure(figsize=(15, 6))\n",
    "sns.set(font_scale = 1)\n",
    "sns.set_style('whitegrid') \n",
    "pal = sns.color_palette('flare', len(label_occur_df)-1)\n",
    "rank = label_occur_df['count'][:-1].argsort().argsort()  \n",
    "sns.barplot(x=label_occur_df['label'][:-1], y=label_occur_df['count'][:-1], palette=np.array(pal[::-1])[rank])\n",
    "plt.title(\"Distribution of Label Count (without Lain-lain)\")\n",
    "plt.xlabel(\"Label\")\n",
    "plt.ylabel(\"Count\")\n",
    "plt.xticks(rotation='vertical')\n",
    "plt.show()"
   ]
  },
  {
   "cell_type": "markdown",
   "metadata": {},
   "source": [
    "## Merge Labels"
   ]
  },
  {
   "cell_type": "code",
   "execution_count": 23,
   "metadata": {},
   "outputs": [
    {
     "name": "stdout",
     "output_type": "stream",
     "text": [
      "Shape: (8798, 61)\n"
     ]
    }
   ],
   "source": [
    "# Tatacara and Tata Cara mean the same\n",
    "# let's copy the value of Tatacara to Tata Cara\n",
    "merged_df = clustered_df.copy()\n",
    "tatacara_true = merged_df.loc[merged_df['Tatacara'] == 1]\n",
    "for index in tatacara_true.index:\n",
    "    merged_df.loc[index, 'Tata Cara'] = 1\n",
    "\n",
    "# then drop the Tatacara column\n",
    "merged_df.drop(['Tatacara'], axis=1, inplace=True)\n",
    "print(\"Shape:\", merged_df.shape)"
   ]
  },
  {
   "cell_type": "markdown",
   "metadata": {},
   "source": [
    "## Drop Unecessary Columns"
   ]
  },
  {
   "cell_type": "code",
   "execution_count": 24,
   "metadata": {},
   "outputs": [
    {
     "name": "stdout",
     "output_type": "stream",
     "text": [
      "Shape: (8798, 55)\n"
     ]
    }
   ],
   "source": [
    "# Unecessary columns: Perubahan, Penghapusan, Penetapan, Pembebasan, Pembentukan, Pengangkatan\n",
    "cut_df = merged_df.copy()\n",
    "columns_dropped = ['Perubahan', 'Penghapusan', 'Penetapan', 'Pembebasan', 'Pembentukan', 'Pengangkatan']\n",
    "cut_df.drop(columns_dropped, axis=1, inplace=True)\n",
    "print(\"Shape:\", cut_df.shape)"
   ]
  },
  {
   "cell_type": "markdown",
   "metadata": {},
   "source": [
    "## Mising Values (Again)"
   ]
  },
  {
   "cell_type": "code",
   "execution_count": 25,
   "metadata": {},
   "outputs": [
    {
     "name": "stdout",
     "output_type": "stream",
     "text": [
      "Number of document without label: 3\n"
     ]
    }
   ],
   "source": [
    "# after so many times dropping columns\n",
    "# let's check whether there's any document that have no label\n",
    "no_label_df = cut_df[cut_df.columns[1:]]\n",
    "no_label_df = no_label_df[(no_label_df.T == 0).all()]\n",
    "print(\"Number of document without label:\", len(no_label_df))"
   ]
  },
  {
   "cell_type": "code",
   "execution_count": 26,
   "metadata": {},
   "outputs": [
    {
     "name": "stdout",
     "output_type": "stream",
     "text": [
      "Shape: (8795, 55)\n"
     ]
    }
   ],
   "source": [
    "# drop the rows of these documents\n",
    "dropped_index = no_label_df.index\n",
    "dropped_df = cut_df.drop(dropped_index)\n",
    "print(\"Shape:\", dropped_df.shape)"
   ]
  },
  {
   "cell_type": "markdown",
   "metadata": {},
   "source": [
    "## Text Cleaning"
   ]
  },
  {
   "cell_type": "code",
   "execution_count": 27,
   "metadata": {
    "id": "c66oWAkY1Nzb"
   },
   "outputs": [],
   "source": [
    "# apply text cleaning to title\n",
    "cleaned_df = dropped_df.copy()\n",
    "cleaned_df['title'] = cleaned_df['title'].str.lower()\n",
    "cleaned_df['title'] = cleaned_df['title'].apply(text_cleaning.clean_punc)\n",
    "cleaned_df['title'] = cleaned_df['title'].apply(text_cleaning.remove_stop_words_indo)\n",
    "cleaned_df['title'] = cleaned_df['title'].apply(text_cleaning.stemming_indo)\n",
    "cleaned_df['title'] = cleaned_df['title'].apply(text_cleaning.stemming_eng)"
   ]
  },
  {
   "cell_type": "code",
   "execution_count": 28,
   "metadata": {},
   "outputs": [
    {
     "name": "stdout",
     "output_type": "stream",
     "text": [
      "Cleaned title: tetap beba bagi cukai hasil tembakau buat negeri\n"
     ]
    }
   ],
   "source": [
    "# let's peek the result from a row\n",
    "index = random.randint(0, cleaned_df.shape[0])\n",
    "print(\"Cleaned title:\", cleaned_df['title'][index])"
   ]
  },
  {
   "cell_type": "markdown",
   "metadata": {},
   "source": [
    "## Tidy Up"
   ]
  },
  {
   "cell_type": "code",
   "execution_count": 29,
   "metadata": {
    "colab": {
     "base_uri": "https://localhost:8080/",
     "height": 484
    },
    "id": "un4hbW1BISk4",
    "outputId": "84539f90-1101-4efe-c754-a72481a21b57"
   },
   "outputs": [
    {
     "data": {
      "text/html": [
       "<div>\n",
       "<style scoped>\n",
       "    .dataframe tbody tr th:only-of-type {\n",
       "        vertical-align: middle;\n",
       "    }\n",
       "\n",
       "    .dataframe tbody tr th {\n",
       "        vertical-align: top;\n",
       "    }\n",
       "\n",
       "    .dataframe thead th {\n",
       "        text-align: right;\n",
       "    }\n",
       "</style>\n",
       "<table border=\"1\" class=\"dataframe\">\n",
       "  <thead>\n",
       "    <tr style=\"text-align: right;\">\n",
       "      <th></th>\n",
       "      <th>Title</th>\n",
       "      <th>Jenis Dan Tarif</th>\n",
       "      <th>Penerimaan Negara Bukan Pajak</th>\n",
       "      <th>Pajak Bumi Dan Bangunan</th>\n",
       "      <th>Kementerian Keuangan</th>\n",
       "      <th>Perubahan Kedua</th>\n",
       "      <th>Program Pen</th>\n",
       "      <th>Pajak Pertambahan Nilai</th>\n",
       "      <th>Kendaraan Bermotor</th>\n",
       "      <th>Tarif Layanan Blu</th>\n",
       "      <th>...</th>\n",
       "      <th>Izin Usaha</th>\n",
       "      <th>Impor Barang Dan Bahan</th>\n",
       "      <th>Penunjukan</th>\n",
       "      <th>Alokasi Dana Bagi Hasil</th>\n",
       "      <th>Departemen Keuangan</th>\n",
       "      <th>Bahan Baku</th>\n",
       "      <th>Dasar Pelunasan</th>\n",
       "      <th>Nilai Kurs</th>\n",
       "      <th>Komisaris</th>\n",
       "      <th>Lain-lain</th>\n",
       "    </tr>\n",
       "  </thead>\n",
       "  <tbody>\n",
       "    <tr>\n",
       "      <th>3</th>\n",
       "      <td>account repres kantor layan pajak</td>\n",
       "      <td>0</td>\n",
       "      <td>0</td>\n",
       "      <td>0</td>\n",
       "      <td>0</td>\n",
       "      <td>0</td>\n",
       "      <td>0</td>\n",
       "      <td>0</td>\n",
       "      <td>0</td>\n",
       "      <td>0</td>\n",
       "      <td>...</td>\n",
       "      <td>0</td>\n",
       "      <td>0</td>\n",
       "      <td>0</td>\n",
       "      <td>0</td>\n",
       "      <td>0</td>\n",
       "      <td>0</td>\n",
       "      <td>0</td>\n",
       "      <td>0</td>\n",
       "      <td>0</td>\n",
       "      <td>1</td>\n",
       "    </tr>\n",
       "    <tr>\n",
       "      <th>5</th>\n",
       "      <td>beri tunjang hari raya gaji tiga bela aparatur...</td>\n",
       "      <td>0</td>\n",
       "      <td>0</td>\n",
       "      <td>0</td>\n",
       "      <td>0</td>\n",
       "      <td>0</td>\n",
       "      <td>0</td>\n",
       "      <td>0</td>\n",
       "      <td>0</td>\n",
       "      <td>0</td>\n",
       "      <td>...</td>\n",
       "      <td>0</td>\n",
       "      <td>0</td>\n",
       "      <td>0</td>\n",
       "      <td>0</td>\n",
       "      <td>0</td>\n",
       "      <td>0</td>\n",
       "      <td>0</td>\n",
       "      <td>0</td>\n",
       "      <td>0</td>\n",
       "      <td>1</td>\n",
       "    </tr>\n",
       "    <tr>\n",
       "      <th>6</th>\n",
       "      <td>tunjuk tekni laksana beri tunjang hari raya ga...</td>\n",
       "      <td>0</td>\n",
       "      <td>0</td>\n",
       "      <td>0</td>\n",
       "      <td>0</td>\n",
       "      <td>0</td>\n",
       "      <td>0</td>\n",
       "      <td>0</td>\n",
       "      <td>0</td>\n",
       "      <td>0</td>\n",
       "      <td>...</td>\n",
       "      <td>0</td>\n",
       "      <td>0</td>\n",
       "      <td>0</td>\n",
       "      <td>0</td>\n",
       "      <td>0</td>\n",
       "      <td>0</td>\n",
       "      <td>0</td>\n",
       "      <td>0</td>\n",
       "      <td>0</td>\n",
       "      <td>1</td>\n",
       "    </tr>\n",
       "    <tr>\n",
       "      <th>7</th>\n",
       "      <td>tata cara tunda atau potong dana imbang daerah...</td>\n",
       "      <td>0</td>\n",
       "      <td>0</td>\n",
       "      <td>0</td>\n",
       "      <td>0</td>\n",
       "      <td>0</td>\n",
       "      <td>0</td>\n",
       "      <td>0</td>\n",
       "      <td>0</td>\n",
       "      <td>0</td>\n",
       "      <td>...</td>\n",
       "      <td>0</td>\n",
       "      <td>0</td>\n",
       "      <td>0</td>\n",
       "      <td>0</td>\n",
       "      <td>0</td>\n",
       "      <td>0</td>\n",
       "      <td>0</td>\n",
       "      <td>0</td>\n",
       "      <td>0</td>\n",
       "      <td>1</td>\n",
       "    </tr>\n",
       "    <tr>\n",
       "      <th>9</th>\n",
       "      <td>biaya operasion selenggara bayar manfaat pensi...</td>\n",
       "      <td>0</td>\n",
       "      <td>0</td>\n",
       "      <td>0</td>\n",
       "      <td>0</td>\n",
       "      <td>0</td>\n",
       "      <td>0</td>\n",
       "      <td>0</td>\n",
       "      <td>0</td>\n",
       "      <td>0</td>\n",
       "      <td>...</td>\n",
       "      <td>0</td>\n",
       "      <td>0</td>\n",
       "      <td>0</td>\n",
       "      <td>0</td>\n",
       "      <td>0</td>\n",
       "      <td>0</td>\n",
       "      <td>0</td>\n",
       "      <td>0</td>\n",
       "      <td>0</td>\n",
       "      <td>1</td>\n",
       "    </tr>\n",
       "  </tbody>\n",
       "</table>\n",
       "<p>5 rows × 55 columns</p>\n",
       "</div>"
      ],
      "text/plain": [
       "                                               Title  Jenis Dan Tarif  \\\n",
       "3                  account repres kantor layan pajak                0   \n",
       "5  beri tunjang hari raya gaji tiga bela aparatur...                0   \n",
       "6  tunjuk tekni laksana beri tunjang hari raya ga...                0   \n",
       "7  tata cara tunda atau potong dana imbang daerah...                0   \n",
       "9  biaya operasion selenggara bayar manfaat pensi...                0   \n",
       "\n",
       "   Penerimaan Negara Bukan Pajak  Pajak Bumi Dan Bangunan  \\\n",
       "3                              0                        0   \n",
       "5                              0                        0   \n",
       "6                              0                        0   \n",
       "7                              0                        0   \n",
       "9                              0                        0   \n",
       "\n",
       "   Kementerian Keuangan  Perubahan Kedua  Program Pen  \\\n",
       "3                     0                0            0   \n",
       "5                     0                0            0   \n",
       "6                     0                0            0   \n",
       "7                     0                0            0   \n",
       "9                     0                0            0   \n",
       "\n",
       "   Pajak Pertambahan Nilai  Kendaraan Bermotor  Tarif Layanan Blu  ...  \\\n",
       "3                        0                   0                  0  ...   \n",
       "5                        0                   0                  0  ...   \n",
       "6                        0                   0                  0  ...   \n",
       "7                        0                   0                  0  ...   \n",
       "9                        0                   0                  0  ...   \n",
       "\n",
       "   Izin Usaha  Impor Barang Dan Bahan  Penunjukan  Alokasi Dana Bagi Hasil  \\\n",
       "3           0                       0           0                        0   \n",
       "5           0                       0           0                        0   \n",
       "6           0                       0           0                        0   \n",
       "7           0                       0           0                        0   \n",
       "9           0                       0           0                        0   \n",
       "\n",
       "   Departemen Keuangan  Bahan Baku  Dasar Pelunasan  Nilai Kurs  Komisaris  \\\n",
       "3                    0           0                0           0          0   \n",
       "5                    0           0                0           0          0   \n",
       "6                    0           0                0           0          0   \n",
       "7                    0           0                0           0          0   \n",
       "9                    0           0                0           0          0   \n",
       "\n",
       "   Lain-lain  \n",
       "3          1  \n",
       "5          1  \n",
       "6          1  \n",
       "7          1  \n",
       "9          1  \n",
       "\n",
       "[5 rows x 55 columns]"
      ]
     },
     "execution_count": 29,
     "metadata": {},
     "output_type": "execute_result"
    }
   ],
   "source": [
    "# let's tidy up the dataset for the last time\n",
    "cleaned_df.rename(columns={'title': 'Title'}, inplace=True)\n",
    "cleaned_df.head()"
   ]
  },
  {
   "cell_type": "markdown",
   "metadata": {
    "id": "-yN-ojP33IL_"
   },
   "source": [
    "# Save Data"
   ]
  },
  {
   "cell_type": "code",
   "execution_count": 30,
   "metadata": {
    "id": "kOlDktfw4hp4"
   },
   "outputs": [],
   "source": [
    "# save the preprocessed data\n",
    "if not os.path.exists(directory):\n",
    "    os.mkdir(directory)\n",
    "\n",
    "saved_data_path = os.path.join(directory, 'training_dataset.csv')\n",
    "cleaned_df.to_csv(saved_data_path, index=False)"
   ]
  },
  {
   "cell_type": "code",
   "execution_count": 35,
   "metadata": {
    "colab": {
     "base_uri": "https://localhost:8080/",
     "height": 17
    },
    "id": "Z5Rd32hnJXXP",
    "outputId": "0326ff64-cbd3-4fe1-d33f-bfe0aa5d1fc3"
   },
   "outputs": [
    {
     "data": {
      "application/javascript": [
       "\n",
       "    async function download(id, filename, size) {\n",
       "      if (!google.colab.kernel.accessAllowed) {\n",
       "        return;\n",
       "      }\n",
       "      const div = document.createElement('div');\n",
       "      const label = document.createElement('label');\n",
       "      label.textContent = `Downloading \"${filename}\": `;\n",
       "      div.appendChild(label);\n",
       "      const progress = document.createElement('progress');\n",
       "      progress.max = size;\n",
       "      div.appendChild(progress);\n",
       "      document.body.appendChild(div);\n",
       "\n",
       "      const buffers = [];\n",
       "      let downloaded = 0;\n",
       "\n",
       "      const channel = await google.colab.kernel.comms.open(id);\n",
       "      // Send a message to notify the kernel that we're ready.\n",
       "      channel.send({})\n",
       "\n",
       "      for await (const message of channel.messages) {\n",
       "        // Send a message to notify the kernel that we're ready.\n",
       "        channel.send({})\n",
       "        if (message.buffers) {\n",
       "          for (const buffer of message.buffers) {\n",
       "            buffers.push(buffer);\n",
       "            downloaded += buffer.byteLength;\n",
       "            progress.value = downloaded;\n",
       "          }\n",
       "        }\n",
       "      }\n",
       "      const blob = new Blob(buffers, {type: 'application/binary'});\n",
       "      const a = document.createElement('a');\n",
       "      a.href = window.URL.createObjectURL(blob);\n",
       "      a.download = filename;\n",
       "      div.appendChild(a);\n",
       "      a.click();\n",
       "      div.remove();\n",
       "    }\n",
       "  "
      ],
      "text/plain": [
       "<IPython.core.display.Javascript object>"
      ]
     },
     "metadata": {
      "tags": []
     },
     "output_type": "display_data"
    },
    {
     "data": {
      "application/javascript": [
       "download(\"download_5d3cfa88-58eb-4632-9a6f-25ac7d68c0fc\", \"dataset.csv\", 1886653)"
      ],
      "text/plain": [
       "<IPython.core.display.Javascript object>"
      ]
     },
     "metadata": {
      "tags": []
     },
     "output_type": "display_data"
    }
   ],
   "source": [
    "# only run this in google colab to download data\n",
    "from google.colab import files\n",
    "\n",
    "files.download(saved_data_path)"
   ]
  }
 ],
 "metadata": {
  "colab": {
   "authorship_tag": "ABX9TyMJ0DvVTMmiQov1kWf/fLds",
   "collapsed_sections": [],
   "include_colab_link": true,
   "name": "Data Preprocessing",
   "provenance": []
  },
  "kernelspec": {
   "display_name": "Python 3",
   "language": "python",
   "name": "python3"
  },
  "language_info": {
   "codemirror_mode": {
    "name": "ipython",
    "version": 3
   },
   "file_extension": ".py",
   "mimetype": "text/x-python",
   "name": "python",
   "nbconvert_exporter": "python",
   "pygments_lexer": "ipython3",
   "version": "3.8.8"
  }
 },
 "nbformat": 4,
 "nbformat_minor": 1
}
